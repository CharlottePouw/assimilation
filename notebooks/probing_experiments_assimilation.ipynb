{
  "cells": [
    {
      "cell_type": "markdown",
      "source": [
        "#Prerequisites"
      ],
      "metadata": {
        "id": "kNxY_A2WYYEb"
      }
    },
    {
      "cell_type": "code",
      "execution_count": null,
      "metadata": {
        "colab": {
          "base_uri": "https://localhost:8080/"
        },
        "id": "ZfuTjSR7zYRT",
        "outputId": "e13dc554-57a1-4a52-cabc-5d3815a25ba6"
      },
      "outputs": [
        {
          "output_type": "stream",
          "name": "stdout",
          "text": [
            "Collecting datasets\n",
            "  Downloading datasets-2.15.0-py3-none-any.whl (521 kB)\n",
            "\u001b[2K     \u001b[90m━━━━━━━━━━━━━━━━━━━━━━━━━━━━━━━━━━━━━━━━\u001b[0m \u001b[32m521.2/521.2 kB\u001b[0m \u001b[31m8.7 MB/s\u001b[0m eta \u001b[36m0:00:00\u001b[0m\n",
            "\u001b[?25hRequirement already satisfied: numpy>=1.17 in /usr/local/lib/python3.10/dist-packages (from datasets) (1.23.5)\n",
            "Requirement already satisfied: pyarrow>=8.0.0 in /usr/local/lib/python3.10/dist-packages (from datasets) (9.0.0)\n",
            "Collecting pyarrow-hotfix (from datasets)\n",
            "  Downloading pyarrow_hotfix-0.6-py3-none-any.whl (7.9 kB)\n",
            "Collecting dill<0.3.8,>=0.3.0 (from datasets)\n",
            "  Downloading dill-0.3.7-py3-none-any.whl (115 kB)\n",
            "\u001b[2K     \u001b[90m━━━━━━━━━━━━━━━━━━━━━━━━━━━━━━━━━━━━━━━━\u001b[0m \u001b[32m115.3/115.3 kB\u001b[0m \u001b[31m8.6 MB/s\u001b[0m eta \u001b[36m0:00:00\u001b[0m\n",
            "\u001b[?25hRequirement already satisfied: pandas in /usr/local/lib/python3.10/dist-packages (from datasets) (1.5.3)\n",
            "Requirement already satisfied: requests>=2.19.0 in /usr/local/lib/python3.10/dist-packages (from datasets) (2.31.0)\n",
            "Requirement already satisfied: tqdm>=4.62.1 in /usr/local/lib/python3.10/dist-packages (from datasets) (4.66.1)\n",
            "Requirement already satisfied: xxhash in /usr/local/lib/python3.10/dist-packages (from datasets) (3.4.1)\n",
            "Collecting multiprocess (from datasets)\n",
            "  Downloading multiprocess-0.70.15-py310-none-any.whl (134 kB)\n",
            "\u001b[2K     \u001b[90m━━━━━━━━━━━━━━━━━━━━━━━━━━━━━━━━━━━━━━━━\u001b[0m \u001b[32m134.8/134.8 kB\u001b[0m \u001b[31m9.5 MB/s\u001b[0m eta \u001b[36m0:00:00\u001b[0m\n",
            "\u001b[?25hRequirement already satisfied: fsspec[http]<=2023.10.0,>=2023.1.0 in /usr/local/lib/python3.10/dist-packages (from datasets) (2023.6.0)\n",
            "Requirement already satisfied: aiohttp in /usr/local/lib/python3.10/dist-packages (from datasets) (3.9.1)\n",
            "Requirement already satisfied: huggingface-hub>=0.18.0 in /usr/local/lib/python3.10/dist-packages (from datasets) (0.19.4)\n",
            "Requirement already satisfied: packaging in /usr/local/lib/python3.10/dist-packages (from datasets) (23.2)\n",
            "Requirement already satisfied: pyyaml>=5.1 in /usr/local/lib/python3.10/dist-packages (from datasets) (6.0.1)\n",
            "Requirement already satisfied: attrs>=17.3.0 in /usr/local/lib/python3.10/dist-packages (from aiohttp->datasets) (23.1.0)\n",
            "Requirement already satisfied: multidict<7.0,>=4.5 in /usr/local/lib/python3.10/dist-packages (from aiohttp->datasets) (6.0.4)\n",
            "Requirement already satisfied: yarl<2.0,>=1.0 in /usr/local/lib/python3.10/dist-packages (from aiohttp->datasets) (1.9.3)\n",
            "Requirement already satisfied: frozenlist>=1.1.1 in /usr/local/lib/python3.10/dist-packages (from aiohttp->datasets) (1.4.0)\n",
            "Requirement already satisfied: aiosignal>=1.1.2 in /usr/local/lib/python3.10/dist-packages (from aiohttp->datasets) (1.3.1)\n",
            "Requirement already satisfied: async-timeout<5.0,>=4.0 in /usr/local/lib/python3.10/dist-packages (from aiohttp->datasets) (4.0.3)\n",
            "Requirement already satisfied: filelock in /usr/local/lib/python3.10/dist-packages (from huggingface-hub>=0.18.0->datasets) (3.13.1)\n",
            "Requirement already satisfied: typing-extensions>=3.7.4.3 in /usr/local/lib/python3.10/dist-packages (from huggingface-hub>=0.18.0->datasets) (4.5.0)\n",
            "Requirement already satisfied: charset-normalizer<4,>=2 in /usr/local/lib/python3.10/dist-packages (from requests>=2.19.0->datasets) (3.3.2)\n",
            "Requirement already satisfied: idna<4,>=2.5 in /usr/local/lib/python3.10/dist-packages (from requests>=2.19.0->datasets) (3.6)\n",
            "Requirement already satisfied: urllib3<3,>=1.21.1 in /usr/local/lib/python3.10/dist-packages (from requests>=2.19.0->datasets) (2.0.7)\n",
            "Requirement already satisfied: certifi>=2017.4.17 in /usr/local/lib/python3.10/dist-packages (from requests>=2.19.0->datasets) (2023.11.17)\n",
            "Requirement already satisfied: python-dateutil>=2.8.1 in /usr/local/lib/python3.10/dist-packages (from pandas->datasets) (2.8.2)\n",
            "Requirement already satisfied: pytz>=2020.1 in /usr/local/lib/python3.10/dist-packages (from pandas->datasets) (2023.3.post1)\n",
            "Requirement already satisfied: six>=1.5 in /usr/local/lib/python3.10/dist-packages (from python-dateutil>=2.8.1->pandas->datasets) (1.16.0)\n",
            "Installing collected packages: pyarrow-hotfix, dill, multiprocess, datasets\n",
            "Successfully installed datasets-2.15.0 dill-0.3.7 multiprocess-0.70.15 pyarrow-hotfix-0.6\n",
            "Requirement already satisfied: transformers in /usr/local/lib/python3.10/dist-packages (4.35.2)\n",
            "Requirement already satisfied: filelock in /usr/local/lib/python3.10/dist-packages (from transformers) (3.13.1)\n",
            "Requirement already satisfied: huggingface-hub<1.0,>=0.16.4 in /usr/local/lib/python3.10/dist-packages (from transformers) (0.19.4)\n",
            "Requirement already satisfied: numpy>=1.17 in /usr/local/lib/python3.10/dist-packages (from transformers) (1.23.5)\n",
            "Requirement already satisfied: packaging>=20.0 in /usr/local/lib/python3.10/dist-packages (from transformers) (23.2)\n",
            "Requirement already satisfied: pyyaml>=5.1 in /usr/local/lib/python3.10/dist-packages (from transformers) (6.0.1)\n",
            "Requirement already satisfied: regex!=2019.12.17 in /usr/local/lib/python3.10/dist-packages (from transformers) (2023.6.3)\n",
            "Requirement already satisfied: requests in /usr/local/lib/python3.10/dist-packages (from transformers) (2.31.0)\n",
            "Requirement already satisfied: tokenizers<0.19,>=0.14 in /usr/local/lib/python3.10/dist-packages (from transformers) (0.15.0)\n",
            "Requirement already satisfied: safetensors>=0.3.1 in /usr/local/lib/python3.10/dist-packages (from transformers) (0.4.1)\n",
            "Requirement already satisfied: tqdm>=4.27 in /usr/local/lib/python3.10/dist-packages (from transformers) (4.66.1)\n",
            "Requirement already satisfied: fsspec>=2023.5.0 in /usr/local/lib/python3.10/dist-packages (from huggingface-hub<1.0,>=0.16.4->transformers) (2023.6.0)\n",
            "Requirement already satisfied: typing-extensions>=3.7.4.3 in /usr/local/lib/python3.10/dist-packages (from huggingface-hub<1.0,>=0.16.4->transformers) (4.5.0)\n",
            "Requirement already satisfied: charset-normalizer<4,>=2 in /usr/local/lib/python3.10/dist-packages (from requests->transformers) (3.3.2)\n",
            "Requirement already satisfied: idna<4,>=2.5 in /usr/local/lib/python3.10/dist-packages (from requests->transformers) (3.6)\n",
            "Requirement already satisfied: urllib3<3,>=1.21.1 in /usr/local/lib/python3.10/dist-packages (from requests->transformers) (2.0.7)\n",
            "Requirement already satisfied: certifi>=2017.4.17 in /usr/local/lib/python3.10/dist-packages (from requests->transformers) (2023.11.17)\n",
            "Collecting ipapy\n",
            "  Downloading ipapy-0.0.9.0.tar.gz (37 kB)\n",
            "  Preparing metadata (setup.py) ... \u001b[?25l\u001b[?25hdone\n",
            "Building wheels for collected packages: ipapy\n",
            "  Building wheel for ipapy (setup.py) ... \u001b[?25l\u001b[?25hdone\n",
            "  Created wheel for ipapy: filename=ipapy-0.0.9.0-py3-none-any.whl size=38721 sha256=4605f28652e746d254b419a4434b3dda1900d59e4a4dc50a9f5551f662f41f75\n",
            "  Stored in directory: /root/.cache/pip/wheels/54/31/31/21d2360ab8b330654283fc11f9f63dfbd3899576b5925c684a\n",
            "Successfully built ipapy\n",
            "Installing collected packages: ipapy\n",
            "Successfully installed ipapy-0.0.9.0\n"
          ]
        }
      ],
      "source": [
        "!pip install datasets\n",
        "!pip install transformers\n",
        "!pip install ipapy"
      ]
    },
    {
      "cell_type": "code",
      "source": [
        "import matplotlib.pyplot as plt\n",
        "import numpy as np\n",
        "import librosa\n",
        "import librosa.display as display\n",
        "import pickle\n",
        "import sklearn\n",
        "from collections import defaultdict\n",
        "import glob\n",
        "\n",
        "from tqdm import *\n",
        "from typing import *\n",
        "\n",
        "import math\n",
        "import random\n",
        "\n",
        "import torch\n",
        "import torch.nn.functional as F\n",
        "\n",
        "def warn(*args, **kwargs):\n",
        "    pass\n",
        "import warnings\n",
        "warnings.warn = warn\n",
        "\n",
        "DEVICE = \"cuda\" if torch.cuda.is_available() else \"cpu\"\n",
        "\n",
        "from ipapy.ipachar import IPAConsonant\n",
        "ipa_symbol = IPAConsonant(name=\"velar nasal\", descriptors=u\"voiced velar nasal\", unicode_repr=u\"\\u014B\")\n",
        "print(ipa_symbol)"
      ],
      "metadata": {
        "id": "fJv3DDGXBYCA",
        "colab": {
          "base_uri": "https://localhost:8080/"
        },
        "outputId": "07b470fa-8c1e-45b4-e994-01abf40844dd"
      },
      "execution_count": null,
      "outputs": [
        {
          "output_type": "stream",
          "name": "stdout",
          "text": [
            "ŋ\n"
          ]
        }
      ]
    },
    {
      "cell_type": "code",
      "execution_count": null,
      "metadata": {
        "id": "rsyW4sY9zdjT",
        "colab": {
          "base_uri": "https://localhost:8080/"
        },
        "outputId": "7e8edcf7-cbb6-4fcb-f65f-c1a3456d2e50"
      },
      "outputs": [
        {
          "output_type": "stream",
          "name": "stdout",
          "text": [
            "Mounted at /content/drive\n"
          ]
        }
      ],
      "source": [
        "# Mount to drive so we can access our own files\n",
        "from google.colab import drive\n",
        "drive.mount('/content/drive')"
      ]
    },
    {
      "cell_type": "markdown",
      "source": [
        "#Load Wav2Vec2"
      ],
      "metadata": {
        "id": "E_qcKcggYlZM"
      }
    },
    {
      "cell_type": "code",
      "execution_count": null,
      "metadata": {
        "id": "rTUJaHdq1_4-",
        "colab": {
          "base_uri": "https://localhost:8080/",
          "height": 1000,
          "referenced_widgets": [
            "2e4a7a57ea744bd792e85e55880b7831",
            "8b7a9303af294e13bfe555e946af428d",
            "370ce874966a4df69dbcfb0d051dac0a",
            "c945cb37fb6641169b97875c28768c67",
            "87b7c8cd02a74d20b4d7dca95f82c044",
            "5ae53f409c28408b9b8a94fb9d56926c",
            "c4d02453408f4d58a03e58b3519fde8b",
            "c387c0aa61d44b28adca24ca69ee3462",
            "432498bf96d9408f982cfff76516e31f",
            "ce4e6a60c92c4762b0dce90cd34d6864",
            "cb09123b784443eabc9e48f880086139",
            "393118d3966848489adcf21f37f07d43",
            "268434b81e1b40dcacc023a3a0dd911f",
            "0f24ed2651ee454dbae9c0f076adb35e",
            "e95e818b26a748c6a40b26240296c652",
            "a05fed8ba5684c1a87474f335541c96d",
            "7c41158267f14cd7bb008db39d1e882a",
            "e61b105658734f6899a4d65eae07259a",
            "2bdd5c85357c424795bbcbf4d8756c2b",
            "9b138379764144daa21c65013ce6f65e",
            "5f05370a69674d84a7076a230f54c54b",
            "cdae6f9ad302460b90a7561e116f148d",
            "1fa153b949ef46998a25e426e77fb017",
            "c86c595bafce4df982e1e947fe919f06",
            "36cf25de7f904b768172b552a2b70412",
            "4ff0383b6bdb4b8e99e9599b186054bb",
            "df714fd509af4dac80f263333bac8227",
            "89b64b31dc394d27b9d0fa1432cf4eb1",
            "23c6bec84b6f45bc98249e7213c2add8",
            "a6613d1e330c4adba3f3633fe3c52d4c",
            "b8d7a9b876a6487396a86440e1c22710",
            "04a687cba8de4532b452fc26d705958a",
            "fca3f0690e804943b372db7d6734c6cd",
            "33e483cd56cc42c9a57cf95cdd2432c7",
            "b857ef6ac290487891ed25f599d2244f",
            "7d85f1d259784949894ff791b84da57b",
            "0357fb3da7414785bc7efc3c95a9fa20",
            "6526f8e578824a53916b6ac51218cb64",
            "e1dde3ca464a4b47b3044a0c4dc047bc",
            "5ff8220305c7466aa4ba924bc64ea3a1",
            "3059eeac59ce477aa57209efcaf159ea",
            "13e1f66b5c10484884892013e0fee8e9",
            "460069bec1c347b8a55c8c950734ac63",
            "7762ec045dc24ad082de1ebe812ed53c",
            "7b598f5b96d64f23addb60ad1b55509f",
            "0772745dbe314648a99809194ed50f25",
            "aba482547a6f4be5beec08c5b93d2419",
            "31bdc34795f742f0a15f5af96d629687",
            "68af5f5cef5248c1a8f096fc0a0b8dac",
            "688c469380a94e44a18a73aaa70168eb",
            "34a433644c0c4cab8a4eb7212e4d6d56",
            "bc85ae5337a9401e86da69be62bbcab3",
            "c5300d598bd34c6bb04be7f9df7d9321",
            "a57c0ca852d94d9da270f2626a58628f",
            "d4b8809a6cf24279ad47cdb1020af4c7",
            "713c50705f084a26af01a99787685413",
            "446d11e438d641e98dd940a314738708",
            "af7e4b216ad0454bb1e75a08379bdc8f",
            "2e8f129e241c433085c79acf296e1f19",
            "79e10816e5b444428bb0d18427af74e6",
            "ad297425b0564c289d1084b6f7433279",
            "41946e7b475e4f85ae87dd2816f5facb",
            "2cb183a5ecc645ed99de27e69c201560",
            "c472a6466df7463c990268b54eae9f9b",
            "393c5cbe02604db7affbed0dacaded03",
            "55f435334cd74ea0b3d602d86e35bdb1"
          ]
        },
        "outputId": "d455dc35-6bf3-4cae-c404-bdbb4c424489"
      },
      "outputs": [
        {
          "output_type": "display_data",
          "data": {
            "text/plain": [
              "preprocessor_config.json:   0%|          | 0.00/159 [00:00<?, ?B/s]"
            ],
            "application/vnd.jupyter.widget-view+json": {
              "version_major": 2,
              "version_minor": 0,
              "model_id": "2e4a7a57ea744bd792e85e55880b7831"
            }
          },
          "metadata": {}
        },
        {
          "output_type": "display_data",
          "data": {
            "text/plain": [
              "tokenizer_config.json:   0%|          | 0.00/163 [00:00<?, ?B/s]"
            ],
            "application/vnd.jupyter.widget-view+json": {
              "version_major": 2,
              "version_minor": 0,
              "model_id": "393118d3966848489adcf21f37f07d43"
            }
          },
          "metadata": {}
        },
        {
          "output_type": "display_data",
          "data": {
            "text/plain": [
              "config.json:   0%|          | 0.00/1.60k [00:00<?, ?B/s]"
            ],
            "application/vnd.jupyter.widget-view+json": {
              "version_major": 2,
              "version_minor": 0,
              "model_id": "1fa153b949ef46998a25e426e77fb017"
            }
          },
          "metadata": {}
        },
        {
          "output_type": "display_data",
          "data": {
            "text/plain": [
              "vocab.json:   0%|          | 0.00/291 [00:00<?, ?B/s]"
            ],
            "application/vnd.jupyter.widget-view+json": {
              "version_major": 2,
              "version_minor": 0,
              "model_id": "33e483cd56cc42c9a57cf95cdd2432c7"
            }
          },
          "metadata": {}
        },
        {
          "output_type": "display_data",
          "data": {
            "text/plain": [
              "special_tokens_map.json:   0%|          | 0.00/85.0 [00:00<?, ?B/s]"
            ],
            "application/vnd.jupyter.widget-view+json": {
              "version_major": 2,
              "version_minor": 0,
              "model_id": "7b598f5b96d64f23addb60ad1b55509f"
            }
          },
          "metadata": {}
        },
        {
          "output_type": "display_data",
          "data": {
            "text/plain": [
              "model.safetensors:   0%|          | 0.00/378M [00:00<?, ?B/s]"
            ],
            "application/vnd.jupyter.widget-view+json": {
              "version_major": 2,
              "version_minor": 0,
              "model_id": "713c50705f084a26af01a99787685413"
            }
          },
          "metadata": {}
        },
        {
          "output_type": "stream",
          "name": "stderr",
          "text": [
            "Some weights of the model checkpoint at facebook/wav2vec2-base-960h were not used when initializing Wav2Vec2ForCTC: ['wav2vec2.encoder.pos_conv_embed.conv.weight_v', 'wav2vec2.encoder.pos_conv_embed.conv.weight_g']\n",
            "- This IS expected if you are initializing Wav2Vec2ForCTC from the checkpoint of a model trained on another task or with another architecture (e.g. initializing a BertForSequenceClassification model from a BertForPreTraining model).\n",
            "- This IS NOT expected if you are initializing Wav2Vec2ForCTC from the checkpoint of a model that you expect to be exactly identical (initializing a BertForSequenceClassification model from a BertForSequenceClassification model).\n",
            "Some weights of Wav2Vec2ForCTC were not initialized from the model checkpoint at facebook/wav2vec2-base-960h and are newly initialized: ['wav2vec2.masked_spec_embed', 'wav2vec2.encoder.pos_conv_embed.conv.parametrizations.weight.original0', 'wav2vec2.encoder.pos_conv_embed.conv.parametrizations.weight.original1']\n",
            "You should probably TRAIN this model on a down-stream task to be able to use it for predictions and inference.\n"
          ]
        },
        {
          "output_type": "execute_result",
          "data": {
            "text/plain": [
              "Wav2Vec2ForCTC(\n",
              "  (wav2vec2): Wav2Vec2Model(\n",
              "    (feature_extractor): Wav2Vec2FeatureEncoder(\n",
              "      (conv_layers): ModuleList(\n",
              "        (0): Wav2Vec2GroupNormConvLayer(\n",
              "          (conv): Conv1d(1, 512, kernel_size=(10,), stride=(5,), bias=False)\n",
              "          (activation): GELUActivation()\n",
              "          (layer_norm): GroupNorm(512, 512, eps=1e-05, affine=True)\n",
              "        )\n",
              "        (1-4): 4 x Wav2Vec2NoLayerNormConvLayer(\n",
              "          (conv): Conv1d(512, 512, kernel_size=(3,), stride=(2,), bias=False)\n",
              "          (activation): GELUActivation()\n",
              "        )\n",
              "        (5-6): 2 x Wav2Vec2NoLayerNormConvLayer(\n",
              "          (conv): Conv1d(512, 512, kernel_size=(2,), stride=(2,), bias=False)\n",
              "          (activation): GELUActivation()\n",
              "        )\n",
              "      )\n",
              "    )\n",
              "    (feature_projection): Wav2Vec2FeatureProjection(\n",
              "      (layer_norm): LayerNorm((512,), eps=1e-05, elementwise_affine=True)\n",
              "      (projection): Linear(in_features=512, out_features=768, bias=True)\n",
              "      (dropout): Dropout(p=0.1, inplace=False)\n",
              "    )\n",
              "    (encoder): Wav2Vec2Encoder(\n",
              "      (pos_conv_embed): Wav2Vec2PositionalConvEmbedding(\n",
              "        (conv): ParametrizedConv1d(\n",
              "          768, 768, kernel_size=(128,), stride=(1,), padding=(64,), groups=16\n",
              "          (parametrizations): ModuleDict(\n",
              "            (weight): ParametrizationList(\n",
              "              (0): _WeightNorm()\n",
              "            )\n",
              "          )\n",
              "        )\n",
              "        (padding): Wav2Vec2SamePadLayer()\n",
              "        (activation): GELUActivation()\n",
              "      )\n",
              "      (layer_norm): LayerNorm((768,), eps=1e-05, elementwise_affine=True)\n",
              "      (dropout): Dropout(p=0.1, inplace=False)\n",
              "      (layers): ModuleList(\n",
              "        (0-11): 12 x Wav2Vec2EncoderLayer(\n",
              "          (attention): Wav2Vec2Attention(\n",
              "            (k_proj): Linear(in_features=768, out_features=768, bias=True)\n",
              "            (v_proj): Linear(in_features=768, out_features=768, bias=True)\n",
              "            (q_proj): Linear(in_features=768, out_features=768, bias=True)\n",
              "            (out_proj): Linear(in_features=768, out_features=768, bias=True)\n",
              "          )\n",
              "          (dropout): Dropout(p=0.1, inplace=False)\n",
              "          (layer_norm): LayerNorm((768,), eps=1e-05, elementwise_affine=True)\n",
              "          (feed_forward): Wav2Vec2FeedForward(\n",
              "            (intermediate_dropout): Dropout(p=0.1, inplace=False)\n",
              "            (intermediate_dense): Linear(in_features=768, out_features=3072, bias=True)\n",
              "            (intermediate_act_fn): GELUActivation()\n",
              "            (output_dense): Linear(in_features=3072, out_features=768, bias=True)\n",
              "            (output_dropout): Dropout(p=0.1, inplace=False)\n",
              "          )\n",
              "          (final_layer_norm): LayerNorm((768,), eps=1e-05, elementwise_affine=True)\n",
              "        )\n",
              "      )\n",
              "    )\n",
              "  )\n",
              "  (dropout): Dropout(p=0.1, inplace=False)\n",
              "  (lm_head): Linear(in_features=768, out_features=32, bias=True)\n",
              ")"
            ]
          },
          "metadata": {},
          "execution_count": 4
        }
      ],
      "source": [
        "from transformers import Wav2Vec2Processor, Wav2Vec2ForCTC, Wav2Vec2Model, AutoModel\n",
        "from datasets import load_dataset\n",
        "\n",
        "# load FINETUNED model and tokenizer\n",
        "processor = Wav2Vec2Processor.from_pretrained(\"facebook/wav2vec2-base-960h\")\n",
        "model = Wav2Vec2ForCTC.from_pretrained(\"facebook/wav2vec2-base-960h\")\n",
        "\n",
        "# # load PRETRAINED model and tokenizer\n",
        "# processor = Wav2Vec2Processor.from_pretrained(\"facebook/wav2vec2-base\")\n",
        "# model = Wav2Vec2ForCTC.from_pretrained(\"facebook/wav2vec2-base\")\n",
        "\n",
        "# put model in evaluation mode\n",
        "model.eval()\n",
        "model.to(DEVICE)"
      ]
    },
    {
      "cell_type": "markdown",
      "source": [
        "#Type 1: /n/ --> [m]"
      ],
      "metadata": {
        "id": "jNRHwgC-AHPP"
      }
    },
    {
      "cell_type": "code",
      "execution_count": null,
      "metadata": {
        "id": "aX7O7j210Ov6",
        "colab": {
          "base_uri": "https://localhost:8080/"
        },
        "outputId": "ca207d68-639a-41ae-8fd8-d3eaa5effc6f"
      },
      "outputs": [
        {
          "output_type": "stream",
          "name": "stdout",
          "text": [
            "45\n"
          ]
        }
      ],
      "source": [
        "# clean, tan, own, lean, thin\n",
        "target_stimuli = ['A1', 'A4', 'A3', 'A5', 'A8']\n",
        "target_files = []\n",
        "for target in target_stimuli:\n",
        "  for file in glob.glob(f\"drive/MyDrive/assimilation/stimA/{target}Pn*\"):\n",
        "    if not file.endswith('(1).wav'):\n",
        "      target_files.append(file)\n",
        "\n",
        "print(len(target_files))"
      ]
    },
    {
      "cell_type": "code",
      "execution_count": null,
      "metadata": {
        "id": "qsvQq0ANf-TR"
      },
      "outputs": [],
      "source": [
        "target_indeces = [97, 103, 93, 32, 31, 30, 45, 48, 45,\n",
        "                  110, 105, 104, 27, 27, 28, 24, 24, 26,\n",
        "                  53, 55, 58, 88, 91, 84, 20, 21, 19, 36,\n",
        "                  37, 38, 52, 56, 58, 115, 117, 109,\n",
        "                  38, 41, 37, 89, 93, 88, 31, 32, 32]\n",
        "\n",
        "compensation = [True, True, True, True, True, True, True, True, True,         #clean\n",
        "                True, True, True, True, True, True, True, True, True,         #own\n",
        "                False, False, True, False, False, True, False, False, True,   #tan\n",
        "                True, False, True, True, False, True, True, False, True,      #lean\n",
        "                True, False, True, True, True, True, False, True, True]       #thin\n",
        "\n",
        "conditions = ['viable', 'unviable', 'control'] * 15"
      ]
    },
    {
      "cell_type": "code",
      "source": [
        "num_layers = 13\n",
        "\n",
        "# Here we will store the probabilities for the viable stimuli (compensated vs. not compensated)\n",
        "correct = {layer_idx: [] for layer_idx in range(num_layers)}\n",
        "incorrect = {layer_idx: [] for layer_idx in range(num_layers)}\n",
        "\n",
        "# Here we will store the probabilities for the unviable stimuli (compensated vs. not compensated)\n",
        "unv_correct = {layer_idx: [] for layer_idx in range(num_layers)}\n",
        "unv_incorrect = {layer_idx: [] for layer_idx in range(num_layers)}\n",
        "\n",
        "# Here we will store the probabilities for the control stimuli\n",
        "control = {layer_idx: [] for layer_idx in range(num_layers)}"
      ],
      "metadata": {
        "id": "qQanvrkyA7hS"
      },
      "execution_count": null,
      "outputs": []
    },
    {
      "cell_type": "code",
      "source": [
        "def get_probs(target_file, target_idx, compensation, condition, wav2vec2_model, wav2vec2_processor, probing_target, underlying_form_idx, lexical_id):\n",
        "\n",
        "    # Load raw waveform\n",
        "    raw_waveform, sr = librosa.load(target_file, sr=16000)\n",
        "\n",
        "    # Tokenize\n",
        "    input_values = processor(raw_waveform, sampling_rate=16000, return_tensors=\"pt\", padding=\"max_length\", max_length=1000).input_values  # Batch size 1\n",
        "\n",
        "    # Retrieve logits and hidden states\n",
        "    output_dict = model(input_values.to(DEVICE), output_hidden_states=True)\n",
        "    hidden_states = output_dict.hidden_states\n",
        "    logits = output_dict.logits\n",
        "\n",
        "    # Get probabilities directly from the logits\n",
        "    logit_probs = torch.softmax(logits, dim=-1)\n",
        "    target_prob = logit_probs[0][target_idx][lexical_id].item()\n",
        "    print(target_prob)\n",
        "\n",
        "    # Take argmax and decode\n",
        "    predicted_ids = torch.argmax(logits, dim=-1)\n",
        "    transcription = processor.batch_decode(predicted_ids)\n",
        "    print(target_file)\n",
        "    print(\"Transcription:\", transcription)\n",
        "\n",
        "    # Convert ids to tokens (the model generates frame embeddings and then predicts a token for each embedding)\n",
        "    predicted_tokens = \" \".join(processor.tokenizer.convert_ids_to_tokens(predicted_ids[0].tolist()))\n",
        "    predicted_tokens_list = processor.tokenizer.convert_ids_to_tokens(predicted_ids[0].tolist())\n",
        "\n",
        "    # Print target index (and frames surrounding it)\n",
        "    print(predicted_tokens_list[target_idx-5:target_idx+5])\n",
        "\n",
        "    # Extract activations corresponding to N from each layer\n",
        "    for layer_idx, layer_activations in enumerate(hidden_states):\n",
        "      target_vector = hidden_states[layer_idx][0][target_idx]\n",
        "\n",
        "      # Run activation through probing model + get probabilities\n",
        "      X = np.array(target_vector.cpu().detach().numpy())\n",
        "      loaded_model = pickle.load(open(f'drive/MyDrive/probing_models/finetuned/{probing_target}_probe_{layer_idx+7}.sav', 'rb'))\n",
        "      probs = loaded_model.predict_proba(X.reshape(1,-1))\n",
        "      pred = loaded_model.predict(X.reshape(1,-1))\n",
        "\n",
        "      # Viable stimuli: compensation vs. no compensation\n",
        "      if condition == 'viable' and compensation == True:\n",
        "        correct[layer_idx].append(probs[0][underlying_form_idx])\n",
        "      elif condition == 'viable' and compensation == False:\n",
        "        incorrect[layer_idx].append(probs[0][underlying_form_idx])\n",
        "\n",
        "      # Unviable stimuli: compensation vs. no compensation\n",
        "      elif condition == 'unviable' and compensation == True:\n",
        "        unv_correct[layer_idx].append(probs[0][underlying_form_idx])\n",
        "      elif condition == 'unviable' and compensation == False:\n",
        "        unv_incorrect[layer_idx].append(probs[0][underlying_form_idx])\n",
        "\n",
        "      # Control stimuli\n",
        "      elif condition == 'control':\n",
        "        control[layer_idx].append(probs[0][underlying_form_idx])\n",
        "\n",
        "    if condition != 'control':\n",
        "      return target_prob"
      ],
      "metadata": {
        "id": "YRkO2Mj_BjTL"
      },
      "execution_count": null,
      "outputs": []
    },
    {
      "cell_type": "code",
      "source": [
        "target_probs = []\n",
        "for file, idx, comp, cond in zip(target_files, target_indeces, compensation, conditions):\n",
        "  target_prob = get_probs(file, idx, comp, cond, model, processor, 'n_m', 1, 9)\n",
        "  target_probs.append(target_prob)"
      ],
      "metadata": {
        "colab": {
          "base_uri": "https://localhost:8080/"
        },
        "id": "aEbnewIkLo3G",
        "outputId": "383664e4-adfc-4a1b-8c78-8da597673807"
      },
      "execution_count": null,
      "outputs": [
        {
          "output_type": "stream",
          "name": "stdout",
          "text": [
            "0.9986101388931274\n",
            "drive/MyDrive/assimilation/stimA/A1Pn1A9.wav\n",
            "Transcription: ['PLEASE SARAH CAN YOU HAND ME A CLEAN PAN']\n",
            "['E', 'E', '<pad>', 'A', '<pad>', 'N', '<pad>', '<pad>', '|', '|']\n",
            "0.989863932132721\n",
            "drive/MyDrive/assimilation/stimA/A1Pn1C9.wav\n",
            "Transcription: ['PLEASE SARAH CAN YOU HAND ME A CLEAN SPOON']\n",
            "['E', 'E', '<pad>', 'A', '<pad>', 'N', '<pad>', '<pad>', '<pad>', '|']\n",
            "0.9995226860046387\n",
            "drive/MyDrive/assimilation/stimA/A1Pn1I9.wav\n",
            "Transcription: ['PLEASE SARAH CAN YOU HAND ME A CLEAN FORK']\n",
            "['L', '<pad>', 'E', '<pad>', 'A', 'N', 'N', '<pad>', '<pad>', '|']\n",
            "0.9976850748062134\n",
            "drive/MyDrive/assimilation/stimA/A1Pn2A4.wav\n",
            "Transcription: [\"I'M OUT OF CLEAN PAN SO I SHOULD DO THE DISHES\"]\n",
            "['<pad>', 'E', '<pad>', '<pad>', 'A', 'N', '<pad>', '<pad>', '<pad>', '|']\n",
            "0.998325765132904\n",
            "drive/MyDrive/assimilation/stimA/A1Pn2C4.wav\n",
            "Transcription: ['AM AT OF CLEAN SPOONS SO I SHOULD DO THE DISHES']\n",
            "['<pad>', 'E', 'E', '<pad>', 'A', 'N', '<pad>', '<pad>', '<pad>', '<pad>']\n",
            "0.9979331493377686\n",
            "drive/MyDrive/assimilation/stimA/A1Pn2I4.wav\n",
            "Transcription: [\"I'M OUT OF CLEAN FORKS SO I SHOULD DO THE DISHES\"]\n",
            "['L', 'E', 'E', '<pad>', 'A', 'N', 'N', '<pad>', '<pad>', '|']\n",
            "0.9968446493148804\n",
            "drive/MyDrive/assimilation/stimA/A1Pn3A6.wav\n",
            "Transcription: [\"I'M LOOKING FOR A CLEAN PAN IN THIS KITCHEN BUT I CAN'T FIND ONE\"]\n",
            "['<pad>', 'E', '<pad>', 'A', '<pad>', 'N', '<pad>', '<pad>', '|', '|']\n",
            "0.9536221623420715\n",
            "drive/MyDrive/assimilation/stimA/A1Pn3C6.wav\n",
            "Transcription: [\"I'M LOOKING FOR A CLEAN SPOON IN THIS KITCHEN BUT I CAN'T FIND ONE\"]\n",
            "['<pad>', 'E', 'E', '<pad>', 'A', 'N', 'N', '<pad>', '<pad>', '<pad>']\n",
            "0.9999359846115112\n",
            "drive/MyDrive/assimilation/stimA/A1Pn3I6.wav\n",
            "Transcription: [\"I'M LOOKING FOR A CLEAN FORK IN THIS KITCHEN BUT I CAN'T FIND ONE\"]\n",
            "['<pad>', 'E', '<pad>', 'A', '<pad>', 'N', '<pad>', '|', '|', '<pad>']\n",
            "0.9986024498939514\n",
            "drive/MyDrive/assimilation/stimA/A4Pn1A11.wav\n",
            "Transcription: [\"I HAVE TO DECIDE BY MYSELF IT'S MY OWN PLAN\"]\n",
            "['<pad>', '<pad>', 'O', 'W', '<pad>', 'N', 'N', '|', '|', '|']\n",
            "0.9995331764221191\n",
            "drive/MyDrive/assimilation/stimA/A4Pn1C11.wav\n",
            "Transcription: [\"I HAVE TO DECIDE BY MYSELF IT'S MY OWN CHOICE\"]\n",
            "['<pad>', '<pad>', 'O', 'W', '<pad>', 'N', '<pad>', '|', '|', '<pad>']\n",
            "0.9999344348907471\n",
            "drive/MyDrive/assimilation/stimA/A4Pn1I11.wav\n",
            "Transcription: [\"I HAVE TO DECIDE BY MYSELF IT'S MY OWN LIFE\"]\n",
            "['<pad>', '<pad>', 'O', 'W', '<pad>', 'N', '<pad>', '|', '|', '|']\n",
            "0.7980812191963196\n",
            "drive/MyDrive/assimilation/stimA/A4Pn2A3.wav\n",
            "Transcription: [\"IT'S YOUR OWN PLAN YOU HAVE TO FIGURE OUT WHAT YOU WANT BY YOURSELF\"]\n",
            "['<pad>', '<pad>', 'O', 'W', '<pad>', 'N', 'N', '<pad>', '|', '|']\n",
            "0.9702993035316467\n",
            "drive/MyDrive/assimilation/stimA/A4Pn2C3.wav\n",
            "Transcription: [\"IT'S YOUR OWN CHOICE YOU HAVE TO FIGURE OUT WHAT YOU WANT BY YOURSELF\"]\n",
            "['<pad>', '<pad>', 'O', 'W', '<pad>', 'N', 'N', '<pad>', '|', '|']\n",
            "0.9999922513961792\n",
            "drive/MyDrive/assimilation/stimA/A4Pn2I3.wav\n",
            "Transcription: [\"IT'S YOUR OWN LIFE YOU HAVE TO FIGURE OUT WHAT YOU WANT BY YOURSELF\"]\n",
            "['O', 'O', 'W', 'W', '<pad>', 'N', 'N', '|', '|', '|']\n",
            "0.9999641180038452\n",
            "drive/MyDrive/assimilation/stimA/A4Pn3A3.wav\n",
            "Transcription: [\"IT'S MY OWN PLAN I'LL DO WHAT I WANT\"]\n",
            "['|', '<pad>', 'O', 'W', '<pad>', 'N', 'N', '|', '|', '<pad>']\n",
            "0.9998816251754761\n",
            "drive/MyDrive/assimilation/stimA/A4Pn3C3.wav\n",
            "Transcription: [\"IT'S MY OWN CHOICE I'LL DO WHAT I WANT\"]\n",
            "['|', '<pad>', 'O', 'W', 'W', 'N', 'N', '|', '|', '<pad>']\n",
            "0.9999163150787354\n",
            "drive/MyDrive/assimilation/stimA/A4Pn3I3.wav\n",
            "Transcription: [\"IT'S MY OWN LIFE I'LL DO WHAT I WANT\"]\n",
            "['|', '<pad>', 'O', 'W', '<pad>', 'N', '<pad>', '|', '|', '<pad>']\n",
            "0.027161357924342155\n",
            "drive/MyDrive/assimilation/stimA/A3Pn1A6.wav\n",
            "Transcription: ['THE COLLAR OF THAT TAM BELT IS REALLY UGLY']\n",
            "['<pad>', 'A', '<pad>', '<pad>', '<pad>', 'M', '<pad>', '<pad>', '<pad>', '|']\n",
            "0.005231255665421486\n",
            "drive/MyDrive/assimilation/stimA/A3Pn1C6.wav\n",
            "Transcription: [\"THE COLOR OF THAT TAM'S SHIRT IS REALLY UGLY\"]\n",
            "['<pad>', 'A', '<pad>', '<pad>', '<pad>', 'M', '<pad>', '<pad>', \"'\", 'S']\n",
            "0.9660618901252747\n",
            "drive/MyDrive/assimilation/stimA/A3Pn1I6.wav\n",
            "Transcription: ['THE COLLAR OF THAT TAN SCARF IS REALLY UGLY']\n",
            "['A', '<pad>', '<pad>', '<pad>', '<pad>', 'N', '<pad>', '<pad>', '<pad>', '|']\n",
            "0.05534565821290016\n",
            "drive/MyDrive/assimilation/stimA/A3Pn2A9.wav\n",
            "Transcription: ['I BOUGHT A REALLY EXPENSIVE TAM BELT IN THAT STORE']\n",
            "['<pad>', '<pad>', 'A', '<pad>', '<pad>', 'M', '<pad>', '<pad>', '<pad>', '|']\n",
            "0.005985786207020283\n",
            "drive/MyDrive/assimilation/stimA/A3Pn2C9.wav\n",
            "Transcription: ['I HAVE HOT A REALLY EXPENSIVE TAM SHIRT IN THAT STORE']\n",
            "['<pad>', 'A', '<pad>', '<pad>', '<pad>', 'M', '<pad>', '<pad>', '<pad>', '<pad>']\n",
            "0.5397893190383911\n",
            "drive/MyDrive/assimilation/stimA/A3Pn2I9.wav\n",
            "Transcription: ['I BOUGHT A REALLY EXPENSIVE TAN SCARF IN THAT STORE']\n",
            "['<pad>', '<pad>', 'A', '<pad>', '<pad>', 'N', 'N', '<pad>', '<pad>', '<pad>']\n",
            "0.009532990865409374\n",
            "drive/MyDrive/assimilation/stimA/A3Pn3A2.wav\n",
            "Transcription: ['MY TAM BELT WAS STOLEN IN THE LAUNDRY']\n",
            "['<pad>', '<pad>', 'A', '<pad>', '<pad>', 'M', '<pad>', '<pad>', '<pad>', '|']\n",
            "0.0009502042667008936\n",
            "drive/MyDrive/assimilation/stimA/A3Pn3C2.wav\n",
            "Transcription: ['MY TAMD SHIRT WAS STOLEN IN THE LAUNDRY']\n",
            "['<pad>', '<pad>', 'A', '<pad>', '<pad>', 'M', '<pad>', '<pad>', '<pad>', '<pad>']\n",
            "0.9859700798988342\n",
            "drive/MyDrive/assimilation/stimA/A3Pn3I2.wav\n",
            "Transcription: ['MY TAN SCARF WAS STOLEN IN THE LAUNDRY']\n",
            "['<pad>', '<pad>', 'A', '<pad>', '<pad>', 'N', '<pad>', '<pad>', '<pad>', '<pad>']\n",
            "0.9941315054893494\n",
            "drive/MyDrive/assimilation/stimA/A5Pn1A4.wav\n",
            "Transcription: ['HE SAW HER LEAN BACK IN THE DIM LIGHT']\n",
            "['<pad>', 'E', '<pad>', 'A', 'A', 'N', 'N', '<pad>', '<pad>', '|']\n",
            "0.08238524943590164\n",
            "drive/MyDrive/assimilation/stimA/A5Pn1C4.wav\n",
            "Transcription: ['HE SAW HER LEAM SHAPE IN THE DIM LIGHT']\n",
            "['E', 'E', '<pad>', 'A', '<pad>', 'M', '<pad>', '<pad>', '<pad>', '<pad>']\n",
            "0.9991067051887512\n",
            "drive/MyDrive/assimilation/stimA/A5Pn1I4.wav\n",
            "Transcription: ['HE SAW HER LEAN LINE IN THE DIM LIGHT']\n",
            "['E', 'E', '<pad>', 'A', '<pad>', 'N', 'N', '<pad>', '<pad>', '|']\n",
            "0.9732580184936523\n",
            "drive/MyDrive/assimilation/stimA/A5Pn2A7.wav\n",
            "Transcription: ['HE COULD DISTINGUISH HER LEAN BACK IN THE DARK ROOM']\n",
            "['E', 'E', '<pad>', 'A', '<pad>', 'N', '<pad>', '<pad>', '|', '|']\n",
            "0.21382129192352295\n",
            "drive/MyDrive/assimilation/stimA/A5Pn2C7.wav\n",
            "Transcription: ['HE COULD DISTINGUISH HER LEAMS SHAPE IN THE DARK ROOM']\n",
            "['E', '<pad>', '<pad>', 'A', '<pad>', 'M', '<pad>', '<pad>', '<pad>', 'S']\n",
            "0.9998908042907715\n",
            "drive/MyDrive/assimilation/stimA/A5Pn2I7.wav\n",
            "Transcription: ['HE COULD DISTINGUISH HER LEAN LINE IN THE DARK ROOM']\n",
            "['<pad>', 'E', '<pad>', 'A', '<pad>', 'N', '<pad>', '<pad>', '<pad>', '|']\n",
            "0.9971101880073547\n",
            "drive/MyDrive/assimilation/stimA/A5Pn3A11.wav\n",
            "Transcription: ['THE EVENING LIGHT STRANGELY DISTORTED HER LEAN BACK']\n",
            "['<pad>', 'E', '<pad>', 'A', '<pad>', 'N', '<pad>', '<pad>', '<pad>', '|']\n",
            "0.00027617806335911155\n",
            "drive/MyDrive/assimilation/stimA/A5Pn3C11.wav\n",
            "Transcription: ['THE EVENING LIGHT STRANGELY DISTORTED HER LEAM SHAPE']\n",
            "['E', '<pad>', 'A', 'A', '<pad>', 'M', '<pad>', '<pad>', '<pad>', '|']\n",
            "0.7629379630088806\n",
            "drive/MyDrive/assimilation/stimA/A5Pn3I11.wav\n",
            "Transcription: ['THE EVENING LIGHT STRANGELY DISTORTED HER LEAN LINE']\n",
            "['<pad>', 'E', '<pad>', '<pad>', 'A', 'N', 'N', '<pad>', '<pad>', '|']\n",
            "0.5666154623031616\n",
            "drive/MyDrive/assimilation/stimA/A8Pn1A4.wav\n",
            "Transcription: ['I LOST THE THIN PACKET YOU GAVE ME DO YOU HAVE ANOTHER COPY']\n",
            "['H', '<pad>', '<pad>', 'I', '<pad>', 'N', '<pad>', '<pad>', '<pad>', '|']\n",
            "0.16478097438812256\n",
            "drive/MyDrive/assimilation/stimA/A8Pn1C4.wav\n",
            "Transcription: ['I LOST THE THIM LEAFLET YOU GAVE ME DO YOU HAVE ANOTHER COPY']\n",
            "['H', '<pad>', '<pad>', 'I', '<pad>', 'M', '<pad>', '<pad>', '<pad>', '|']\n",
            "0.981438159942627\n",
            "drive/MyDrive/assimilation/stimA/A8Pn1I4.wav\n",
            "Transcription: ['I LOST THE THIN NOTEBOOK YOU GAVE ME DO YOU HAVE ANOTHER COPY']\n",
            "['T', 'H', 'H', 'I', 'I', 'N', 'N', '<pad>', '<pad>', '|']\n",
            "0.8439241647720337\n",
            "drive/MyDrive/assimilation/stimA/A8Pn2A9.wav\n",
            "Transcription: [\"AND L THIS MASS CAN'T FIND THE THIN PACKET I LEFT THERE\"]\n",
            "['T', 'H', '<pad>', 'I', '<pad>', 'N', '<pad>', '<pad>', '<pad>', '|']\n",
            "0.5146711468696594\n",
            "drive/MyDrive/assimilation/stimA/A8Pn2C9.wav\n",
            "Transcription: [\"IN ALL THIS MASS I CAN'T FIND THE THIN LEAF LET I LEFT THERE\"]\n",
            "['H', '<pad>', '<pad>', 'I', '<pad>', 'N', '<pad>', '<pad>', '|', '|']\n",
            "0.999835729598999\n",
            "drive/MyDrive/assimilation/stimA/A8Pn2I9.wav\n",
            "Transcription: [\"IN ALL THIS MASS I CAN'T FIND THE THIN NOTEBOOK I LEFT THERE\"]\n",
            "['T', 'H', '<pad>', 'I', '<pad>', 'N', 'N', '<pad>', '<pad>', '|']\n",
            "0.23374702036380768\n",
            "drive/MyDrive/assimilation/stimA/A8Pn3A3.wav\n",
            "Transcription: [\"READ THIS THIM PACKET CAREFULLY IT'S IMPORTANT\"]\n",
            "['H', 'H', '<pad>', 'I', '<pad>', 'M', '<pad>', '<pad>', '|', '|']\n",
            "0.6332941055297852\n",
            "drive/MyDrive/assimilation/stimA/A8Pn3C3.wav\n",
            "Transcription: [\"READ THIS THEN LEAFLET CAREFULLY IT'S IMPORTANT\"]\n",
            "['H', '<pad>', 'E', '<pad>', '<pad>', 'N', '<pad>', '<pad>', '|', '|']\n",
            "0.9986010193824768\n",
            "drive/MyDrive/assimilation/stimA/A8Pn3I3.wav\n",
            "Transcription: [\"READ THIS THE NOTEBOOK CAREFULLY IT'S IMPORTANT\"]\n",
            "['<pad>', 'E', '<pad>', '|', '|', 'N', '<pad>', '<pad>', 'O', '<pad>']\n"
          ]
        }
      ]
    },
    {
      "cell_type": "code",
      "source": [
        "print(len(target_probs))\n",
        "print(target_probs)"
      ],
      "metadata": {
        "colab": {
          "base_uri": "https://localhost:8080/"
        },
        "id": "C2l-L5HYelBZ",
        "outputId": "3845e924-a1ae-4c62-d721-311526f5e107"
      },
      "execution_count": null,
      "outputs": [
        {
          "output_type": "stream",
          "name": "stdout",
          "text": [
            "45\n",
            "[0.9986101388931274, 0.989863932132721, None, 0.9976850748062134, 0.998325765132904, None, 0.9968446493148804, 0.9536221623420715, None, 0.9986024498939514, 0.9995331764221191, None, 0.7980812191963196, 0.9702993035316467, None, 0.9999641180038452, 0.9998816251754761, None, 0.027161357924342155, 0.005231255665421486, None, 0.05534565821290016, 0.005985786207020283, None, 0.009532990865409374, 0.0009502042667008936, None, 0.9941315054893494, 0.08238524943590164, None, 0.9732580184936523, 0.21382129192352295, None, 0.9971101880073547, 0.00027617806335911155, None, 0.5666154623031616, 0.16478097438812256, None, 0.8439241647720337, 0.5146711468696594, None, 0.23374702036380768, 0.6332941055297852, None]\n"
          ]
        }
      ]
    },
    {
      "cell_type": "code",
      "source": [
        "strict_freqs = [0, 0, 0, 0, 0, 0, 0, 0, 0,\n",
        "               31, 160, 1025, 31, 160, 1025, 31, 160, 1025,\n",
        "               0, 2, 0, 0, 2, 0, 0, 2, 0,\n",
        "               52, 0, 0, 52, 0, 0, 52, 0, 0,\n",
        "               3, 0, 1, 3, 0, 1, 3, 0, 1]\n",
        "loose_freqs = [1, 1, 0, 1, 1, 0, 1, 1, 0,\n",
        "               183, 162, 1121, 183, 162, 1121, 183, 162, 1121,\n",
        "               0, 2, 0, 0, 2, 0, 0, 2, 0,\n",
        "               57, 1, 84, 57, 1, 84, 57, 1, 84,\n",
        "               3, 0, 1, 3, 0, 1, 3, 0, 1]"
      ],
      "metadata": {
        "id": "DZsJdHNJfgiX"
      },
      "execution_count": null,
      "outputs": []
    },
    {
      "cell_type": "code",
      "execution_count": null,
      "metadata": {
        "colab": {
          "base_uri": "https://localhost:8080/"
        },
        "outputId": "693c2a93-a4fb-49d6-a0ab-d21121380d69",
        "id": "3Qk1bxk7MjBi"
      },
      "outputs": [
        {
          "output_type": "stream",
          "name": "stdout",
          "text": [
            "11 4 8 7 15\n"
          ]
        }
      ],
      "source": [
        "print(len(correct[0]), len(incorrect[0]), len(unv_correct[0]), len(unv_incorrect[0]), len(control[0]))\n",
        "\n",
        "# Get average probability for each layer (average over stimuli)\n",
        "correct_avg = [np.mean(value) for value in correct.values()]\n",
        "incorrect_avg = [np.mean(value) for value in incorrect.values()]\n",
        "unv_correct_avg = [np.mean(value) for value in unv_correct.values()]\n",
        "unv_incorrect_avg = [np.mean(value) for value in unv_incorrect.values()]\n",
        "control_avg = [np.mean(value) for value in control.values()]\n",
        "\n",
        "from scipy.stats import sem\n",
        "\n",
        "# Get standard error\n",
        "correct_sem = [sem(value) for value in correct.values()]\n",
        "incorrect_sem = [sem(value) for value in incorrect.values()]\n",
        "unv_correct_sem = [sem(value) for value in unv_correct.values()]\n",
        "unv_incorrect_sem = [sem(value) for value in unv_incorrect.values()]\n",
        "control_sem = [sem(value) for value in control.values()]"
      ]
    },
    {
      "cell_type": "code",
      "source": [
        "plt.style.use('ggplot')\n",
        "fig = plt.figure(figsize=(14,4))\n",
        "\n",
        "gs = fig.add_gridspec(1, 2, hspace=0, wspace=0.05)\n",
        "ax1, ax2 = gs.subplots(sharex='col', sharey='row')\n",
        "\n",
        "x=range(13)\n",
        "\n",
        "ax1.errorbar(x,correct_avg,correct_sem,fmt='.-',capsize=2,elinewidth=1, markersize=9)\n",
        "ax1.errorbar(x,incorrect_avg,incorrect_sem,fmt='.-',capsize=2,elinewidth=1, markersize=9)\n",
        "ax1.errorbar(x,control_avg,control_sem,fmt='.-',capsize=2,elinewidth=1, markersize=9)\n",
        "ax1.grid(False, axis='x')\n",
        "\n",
        "ax2.errorbar(x,unv_correct_avg,unv_correct_sem,fmt='.-',capsize=2,elinewidth=1, markersize=9)\n",
        "ax2.errorbar(x,unv_incorrect_avg,unv_incorrect_sem, fmt='.-',capsize=2,elinewidth=1, markersize=9)\n",
        "ax2.errorbar(x,control_avg,control_sem,fmt='.-',capsize=2,elinewidth=1, markersize=9)\n",
        "ax2.grid(False, axis='x')\n",
        "\n",
        "ax1.set_xticks(range(13), range(13))\n",
        "ax2.set_xticks(range(13), range(13))\n",
        "\n",
        "ax1.set_yticks([0.0, 0.2, 0.4, 0.6, 0.8, 1.0])\n",
        "\n",
        "ax1.set_ylabel('Probability for /n/')\n",
        "\n",
        "ax1.set_xlabel('Transformer Layer')\n",
        "ax2.set_xlabel('Transformer Layer')\n",
        "\n",
        "ax1.set_title('Viable Context')\n",
        "ax2.set_title('Unviable Context')\n",
        "\n",
        "from matplotlib.lines import Line2D\n",
        "from matplotlib.patches import Patch\n",
        "\n",
        "legend_elements = [Line2D([0], [0], marker='.', color='#E24A33', lw=2, markersize=9),\n",
        "                   Line2D([0], [0], marker='.', color='#348ABD', lw=2, markersize=9),\n",
        "                   Line2D([0], [0], marker='.', color='#988ED5', lw=2, markersize=9)]\n",
        "\n",
        "plt.legend(handles=legend_elements, labels=[r'Compensation: [m] $\\rightarrow$ <n>', r'No Compensation: [m] $\\rightarrow$ <m>', r'Control: [n] $\\rightarrow$ <n>'], loc='lower center', bbox_to_anchor=(0, -0.35), ncol=3, fontsize=12)\n",
        "#plt.savefig('probing-n-m.pdf', dpi=300, bbox_inches='tight')"
      ],
      "metadata": {
        "outputId": "822f98f0-4734-411a-e6ef-de3924987727",
        "colab": {
          "base_uri": "https://localhost:8080/",
          "height": 484
        },
        "id": "DNIjhIveMjBn"
      },
      "execution_count": null,
      "outputs": [
        {
          "output_type": "execute_result",
          "data": {
            "text/plain": [
              "<matplotlib.legend.Legend at 0x7f9a4e2d2320>"
            ]
          },
          "metadata": {},
          "execution_count": 17
        },
        {
          "output_type": "display_data",
          "data": {
            "text/plain": [
              "<Figure size 1400x400 with 2 Axes>"
            ],
            "image/png": "[encoded data removed]"
          },
          "metadata": {}
        }
      ]
    },
    {
      "cell_type": "markdown",
      "source": [
        "#Type 2: /n/ --> [ng]"
      ],
      "metadata": {
        "id": "9fZV1_ma96PF"
      }
    },
    {
      "cell_type": "code",
      "source": [
        "from ipapy.ipachar import IPAConsonant"
      ],
      "metadata": {
        "id": "qZKq3P_xbrca"
      },
      "execution_count": null,
      "outputs": []
    },
    {
      "cell_type": "code",
      "source": [
        "ipa_symbol = IPAConsonant(name=\"velar nasal\", descriptors=u\"voiced velar nasal\", unicode_repr=u\"\\u014B\")\n",
        "print(ipa_symbol)"
      ],
      "metadata": {
        "colab": {
          "base_uri": "https://localhost:8080/"
        },
        "id": "CqSe8BQeb5tC",
        "outputId": "b5bfbff0-3f9d-4749-ca90-d91140927017"
      },
      "execution_count": null,
      "outputs": [
        {
          "output_type": "stream",
          "name": "stdout",
          "text": [
            "ŋ\n"
          ]
        }
      ]
    },
    {
      "cell_type": "code",
      "execution_count": null,
      "metadata": {
        "colab": {
          "base_uri": "https://localhost:8080/"
        },
        "id": "MD1u4T3VIRIt",
        "outputId": "6f04a2a9-146d-4daa-9aec-bbd01e8ccc7e"
      },
      "outputs": [
        {
          "output_type": "stream",
          "name": "stdout",
          "text": [
            "27\n"
          ]
        }
      ],
      "source": [
        "import glob\n",
        "# green, plain, fun --> greeng, plaing, fung\n",
        "target_stimuli = ['A2', 'A6', 'A7']\n",
        "target_files = []\n",
        "for target in target_stimuli:\n",
        "  for file in glob.glob(f\"drive/MyDrive/assimilation/stimA/{target}Pn*\"):\n",
        "    if not file.endswith('(1).wav'):\n",
        "      target_files.append(file)\n",
        "\n",
        "print(len(target_files))"
      ]
    },
    {
      "cell_type": "code",
      "source": [
        "num_layers = 13\n",
        "\n",
        "# Here we will store the probabilities for the viable stimuli (compensated vs. not compensated)\n",
        "correct = {layer_idx: [] for layer_idx in range(num_layers)}\n",
        "incorrect = {layer_idx: [] for layer_idx in range(num_layers)}\n",
        "\n",
        "# Here we will store the probabilities for the unviable stimuli (compensated vs. not compensated)\n",
        "unv_correct = {layer_idx: [] for layer_idx in range(num_layers)}\n",
        "unv_incorrect = {layer_idx: [] for layer_idx in range(num_layers)}\n",
        "\n",
        "# Here we will store the probabilities for the control stimuli\n",
        "control = {layer_idx: [] for layer_idx in range(num_layers)}"
      ],
      "metadata": {
        "id": "IkkZ_0wqVpcF"
      },
      "execution_count": null,
      "outputs": []
    },
    {
      "cell_type": "code",
      "source": [
        "target_indeces = [51, 56, 54, 85, 83, 85, 67, 75, 70,\n",
        "                  83, 79, 58, 59, 60, 72, 72, 66, 83,\n",
        "                  75, 74, 73, 121, 115, 119, 43, 42, 44]\n",
        "\n",
        "compensation = [True, True, True, True, True, True, True, True, True,\n",
        "                False, True, False, False, True, False, False, True, False,\n",
        "                False, False, True, True, False, True, True, False, True]\n",
        "\n",
        "conditions = ['viable', 'unviable', 'control', 'viable', 'unviable', 'control', 'viable', 'unviable', 'control',\n",
        "              'unviable', 'control', 'viable', 'unviable', 'control', 'viable', 'viable', 'control', 'unviable',\n",
        "              'viable', 'unviable', 'control', 'viable', 'unviable', 'control', 'viable', 'unviable', 'control']"
      ],
      "metadata": {
        "id": "wIyD88fW-ETN"
      },
      "execution_count": null,
      "outputs": []
    },
    {
      "cell_type": "code",
      "source": [
        "#target_probs = []\n",
        "for file, idx, comp, cond in zip(target_files, target_indeces, compensation, conditions):\n",
        "  target_prob = get_probs(file, idx, comp, cond, model, processor, 'n_ng', 0, 9)\n",
        "  target_probs.append(target_prob)"
      ],
      "metadata": {
        "colab": {
          "base_uri": "https://localhost:8080/"
        },
        "outputId": "bccf3f88-b553-4d5c-c5d9-ed45284a6825",
        "id": "sdjY0Vit_chD"
      },
      "execution_count": null,
      "outputs": [
        {
          "output_type": "stream",
          "name": "stdout",
          "text": [
            "0.9743708372116089\n",
            "Transcription: ['SHE BOUGHT THIS NEW GREEN CUP IN ANTUCKET LAST SUMMER']\n",
            "['E', '<pad>', '<pad>', '<pad>', 'E', 'N', 'N', '<pad>', '<pad>', '|']\n",
            "0.9960143566131592\n",
            "Transcription: ['SHE BOUGHT THIS NEW GREEN CHAIR IN NANTUCKETT LAST SUMMER']\n",
            "['E', '<pad>', '<pad>', '<pad>', 'E', 'N', 'N', '<pad>', '<pad>', '|']\n",
            "0.9999579191207886\n",
            "Transcription: ['SHE BOUGHT THIS NEW GREEN VASE IN NANTUCKETT LAST SUMMER']\n",
            "['E', '<pad>', '<pad>', '<pad>', 'E', 'N', '<pad>', '<pad>', '|', '|']\n",
            "0.9996955394744873\n",
            "Transcription: [\"MY SUN BROKE MY NEIGHBOUR'S NEW GREEN CUP\"]\n",
            "['E', '<pad>', '<pad>', 'E', '<pad>', 'N', '<pad>', '<pad>', '|', '|']\n",
            "0.9987602233886719\n",
            "Transcription: [\"MY SON BROKE MY NEIGHBOUR'S NEW GREEN CHAIR\"]\n",
            "['<pad>', 'E', '<pad>', '<pad>', 'E', 'N', 'N', '<pad>', '<pad>', '|']\n",
            "0.9997832179069519\n",
            "Transcription: [\"MY SUN BROKE MY NEIGHBOUR'S NEW GREEN VASE\"]\n",
            "['E', '<pad>', '<pad>', '<pad>', 'E', 'N', 'N', '<pad>', '<pad>', '|']\n",
            "0.9981614947319031\n",
            "Transcription: ['THE COLLAR OF THIS ANTIQUE GREEN CUP IS REALLY PRETTY']\n",
            "['E', '<pad>', '<pad>', 'E', '<pad>', 'N', '<pad>', '<pad>', '<pad>', '|']\n",
            "0.999653697013855\n",
            "Transcription: ['THE COLOR OF THIS ANTIQUE GREEN CHAIR IS REALLY PRETTY']\n",
            "['<pad>', 'E', '<pad>', '<pad>', 'E', 'N', '<pad>', '<pad>', '<pad>', '|']\n",
            "0.9999468326568604\n",
            "Transcription: ['THE COLOR OF THIS ANTIQUE GREEN VASE IS REALLY PRETTY']\n",
            "['E', '<pad>', '<pad>', '<pad>', 'E', 'N', 'N', '<pad>', '<pad>', '|']\n",
            "0.998975396156311\n",
            "Transcription: ['FROM MY WINDOW E CAN SEE TWO PLAYING CHURCHES']\n",
            "['A', 'Y', '<pad>', 'I', '<pad>', 'N', 'G', '<pad>', '|', '|']\n",
            "0.9996143579483032\n",
            "Transcription: ['FROM MY WINDOW I CAN SEE TWO PLAIN CHAPELS']\n",
            "['<pad>', '<pad>', 'A', '<pad>', 'I', 'N', '<pad>', '<pad>', '<pad>', '|']\n",
            "0.9998001456260681\n",
            "Transcription: ['FLORIDA HAS MANY PLAYING CONDOES NEAR THE BEACH']\n",
            "['A', '<pad>', 'Y', '<pad>', 'I', 'N', '<pad>', 'G', '<pad>', '|']\n",
            "0.9937986731529236\n",
            "Transcription: ['FLORIDA HAS MANY PLAYING CHURCHES NEAR THE BEACH']\n",
            "['A', '<pad>', 'Y', '<pad>', 'I', 'N', 'N', 'G', '<pad>', '|']\n",
            "0.9996980428695679\n",
            "Transcription: ['FLORIDA HAS MANY PLAIN CHAPELS NEAR THE BEACH']\n",
            "['<pad>', 'A', '<pad>', 'I', '<pad>', 'N', '<pad>', '<pad>', '<pad>', '|']\n",
            "0.9992913007736206\n",
            "Transcription: ['HIS TOWN IS KNOWN FOR ITS PLAYING CONDOES AND NICE CLIMATE']\n",
            "['A', 'Y', 'Y', '<pad>', 'I', 'N', 'N', 'G', '<pad>', '|']\n",
            "0.9999094009399414\n",
            "Transcription: ['THIS TOWN IS KNOWN FOR ITS PLAYING CHURCHES AND NICE CLIMATE']\n",
            "['<pad>', 'Y', '<pad>', 'I', 'I', 'N', 'G', '|', '|', '|']\n",
            "0.9989563226699829\n",
            "Transcription: ['THIS TOWN IS KNOWN FOR ITS PLAIN CHAPELS AND NICE CLIMATE']\n",
            "['<pad>', 'A', '<pad>', 'I', '<pad>', 'N', '<pad>', '<pad>', '|', '<pad>']\n",
            "0.9992884397506714\n",
            "Transcription: ['FROM MY WINDOW I CAN SEE TWO PLAYING CONDOS']\n",
            "['A', '<pad>', 'Y', '<pad>', 'I', 'N', '<pad>', 'G', '<pad>', '|']\n",
            "0.999947190284729\n",
            "Transcription: ['I PROMISE YOU THIS WILL BE A FUNG GAME']\n",
            "['<pad>', '<pad>', 'U', '<pad>', '<pad>', 'N', 'N', '<pad>', 'G', '<pad>']\n",
            "0.9995765089988708\n",
            "Transcription: ['I PROMISE YOU THIS WILL BE A FUNG NIGHT']\n",
            "['<pad>', '<pad>', '<pad>', '<pad>', 'U', 'N', 'N', '<pad>', 'G', '<pad>']\n",
            "0.9999823570251465\n",
            "Transcription: ['I PROMISE YOU THIS WILL BE A FUN DAY']\n",
            "['<pad>', '<pad>', '<pad>', 'U', '<pad>', 'N', 'N', '<pad>', '<pad>', '<pad>']\n",
            "0.9999161958694458\n",
            "Transcription: ['WHEN I THINK OF CLUB MED I IMAGINE A LOT OF FUN GAMES ON THE BEACH']\n",
            "['<pad>', '<pad>', 'U', '<pad>', '<pad>', 'N', '<pad>', '<pad>', '<pad>', '<pad>']\n",
            "0.9998867511749268\n",
            "Transcription: ['WHEN I THINK OF CLUB MED I IMAGINE A LOT OF FUNG NIGHTS ON THE BEACH']\n",
            "['<pad>', '<pad>', '<pad>', 'U', '<pad>', 'N', '<pad>', 'G', '<pad>', '<pad>']\n",
            "0.9998038411140442\n",
            "Transcription: ['WHEN I THINK OF CLUB MET I IMAGINE A LOT OF FUN DAZE ON THE BEACH']\n",
            "['<pad>', '<pad>', '<pad>', 'U', '<pad>', 'N', 'N', '<pad>', '<pad>', '|']\n",
            "0.9998407363891602\n",
            "Transcription: ['I WAS A REALLY FUN GAME YESTERDAY']\n",
            "['<pad>', '<pad>', '<pad>', 'U', '<pad>', 'N', '<pad>', '<pad>', '<pad>', '<pad>']\n",
            "0.9998114705085754\n",
            "Transcription: ['THAT WAS A REALLY FUNG NIGHT YESTERDAY']\n",
            "['F', '<pad>', '<pad>', '<pad>', 'U', 'N', '<pad>', '<pad>', 'G', '<pad>']\n",
            "0.999721348285675\n",
            "Transcription: ['THAT WAS A REALLY FUN DAY YESTERDAY']\n",
            "['<pad>', '<pad>', '<pad>', 'U', '<pad>', 'N', 'N', '<pad>', '<pad>', '|']\n"
          ]
        }
      ]
    },
    {
      "cell_type": "code",
      "source": [
        "print(len(target_probs))\n",
        "print(target_probs)"
      ],
      "metadata": {
        "colab": {
          "base_uri": "https://localhost:8080/"
        },
        "outputId": "9c40774f-495f-4a79-e728-48c2f24eb769",
        "id": "37hgrGxCjJiO"
      },
      "execution_count": null,
      "outputs": [
        {
          "output_type": "stream",
          "name": "stdout",
          "text": [
            "72\n",
            "[0.9986101388931274, 0.989863932132721, None, 0.9976850748062134, 0.998325765132904, None, 0.9968446493148804, 0.9536221623420715, None, 0.9986024498939514, 0.9995331764221191, None, 0.7980812191963196, 0.9702993035316467, None, 0.9999641180038452, 0.9998816251754761, None, 0.027161357924342155, 0.005231255665421486, None, 0.05534565821290016, 0.005985786207020283, None, 0.009532990865409374, 0.0009502042667008936, None, 0.9941315054893494, 0.08238524943590164, None, 0.9732580184936523, 0.21382129192352295, None, 0.9971101880073547, 0.00027617806335911155, None, 0.5666154623031616, 0.16478097438812256, None, 0.8439241647720337, 0.5146711468696594, None, 0.23374702036380768, 0.6332941055297852, None, 0.9743708372116089, 0.9960143566131592, None, 0.9996955394744873, 0.9987602233886719, None, 0.9981614947319031, 0.999653697013855, None, 0.998975396156311, None, 0.9998001456260681, 0.9937986731529236, None, 0.9992913007736206, 0.9999094009399414, None, 0.9992884397506714, 0.999947190284729, 0.9995765089988708, None, 0.9999161958694458, 0.9998867511749268, None, 0.9998407363891602, 0.9998114705085754, None]\n"
          ]
        }
      ]
    },
    {
      "cell_type": "code",
      "source": [
        "strict_freqs.extend([0, 5, 3, 0, 5, 3, 0, 5, 3,\n",
        "               0, 0, 0, 0, 0, 0, 0, 0, 0,\n",
        "               0, 0, 0, 0, 0, 0, 0, 0, 0])\n",
        "loose_freqs.extend([5, 7, 4, 5, 7, 4, 5, 7, 4,\n",
        "               0, 0, 0, 0, 0, 0, 0, 0, 0,\n",
        "               0, 0, 0, 0, 0, 0, 0, 0, 0])"
      ],
      "metadata": {
        "id": "E0vuKhx9jJiS"
      },
      "execution_count": null,
      "outputs": []
    },
    {
      "cell_type": "code",
      "source": [
        "print(len(strict_freqs), len(loose_freqs))"
      ],
      "metadata": {
        "colab": {
          "base_uri": "https://localhost:8080/"
        },
        "id": "9JW_IflWqKxT",
        "outputId": "41331a43-f92f-4d3c-d305-e21fd92d99d6"
      },
      "execution_count": null,
      "outputs": [
        {
          "output_type": "stream",
          "name": "stdout",
          "text": [
            "72 72\n"
          ]
        }
      ]
    },
    {
      "cell_type": "code",
      "execution_count": null,
      "metadata": {
        "colab": {
          "base_uri": "https://localhost:8080/"
        },
        "outputId": "a6afaab3-4e2a-4229-e93f-10d81afa89ab",
        "id": "NNrvVpYl_chG"
      },
      "outputs": [
        {
          "output_type": "stream",
          "name": "stdout",
          "text": [
            "5 4 3 6 9\n"
          ]
        }
      ],
      "source": [
        "print(len(correct[0]), len(incorrect[0]), len(unv_correct[0]), len(unv_incorrect[0]), len(control[0]))\n",
        "\n",
        "# Get average probability for each layer (average over stimuli)\n",
        "correct_avg = [np.mean(value) for value in correct.values()]\n",
        "incorrect_avg = [np.mean(value) for value in incorrect.values()]\n",
        "unv_correct_avg = [np.mean(value) for value in unv_correct.values()]\n",
        "unv_incorrect_avg = [np.mean(value) for value in unv_incorrect.values()]\n",
        "control_avg = [np.mean(value) for value in control.values()]\n",
        "\n",
        "from scipy.stats import sem\n",
        "\n",
        "# Get standard error\n",
        "correct_sem = [sem(value) for value in correct.values()]\n",
        "incorrect_sem = [sem(value) for value in incorrect.values()]\n",
        "unv_correct_sem = [sem(value) for value in unv_correct.values()]\n",
        "unv_incorrect_sem = [sem(value) for value in unv_incorrect.values()]\n",
        "control_sem = [sem(value) for value in control.values()]"
      ]
    },
    {
      "cell_type": "code",
      "source": [
        "plt.style.use('ggplot')\n",
        "fig = plt.figure(figsize=(14,4))\n",
        "\n",
        "gs = fig.add_gridspec(1, 2, hspace=0, wspace=0.05)\n",
        "ax1, ax2 = gs.subplots(sharex='col', sharey='row')\n",
        "\n",
        "x=range(13)\n",
        "\n",
        "ax1.errorbar(x,correct_avg,correct_sem,fmt='.-',capsize=2,elinewidth=1, markersize=9)\n",
        "ax1.errorbar(x,incorrect_avg,incorrect_sem,fmt='.-',capsize=2,elinewidth=1, markersize=9)\n",
        "ax1.errorbar(x,control_avg,control_sem,fmt='.-',capsize=2,elinewidth=1, markersize=9)\n",
        "ax1.grid(False, axis='x')\n",
        "\n",
        "ax2.errorbar(x,unv_correct_avg,unv_correct_sem,fmt='.-',capsize=2,elinewidth=1, markersize=9)\n",
        "ax2.errorbar(x,unv_incorrect_avg,unv_incorrect_sem,fmt='.-',capsize=2,elinewidth=1, markersize=9)\n",
        "ax2.errorbar(x,control_avg,control_sem,fmt='.-',capsize=2,elinewidth=1, markersize=9)\n",
        "ax2.grid(False, axis='x')\n",
        "\n",
        "ax1.set_xticks(range(13), range(13))\n",
        "ax2.set_xticks(range(13), range(13))\n",
        "\n",
        "ax1.set_yticks([0.0, 0.2, 0.4, 0.6, 0.8, 1.0])\n",
        "\n",
        "ax1.set_ylabel('Probability for /n/')\n",
        "\n",
        "ax1.set_xlabel('Transformer Layer')\n",
        "ax2.set_xlabel('Transformer Layer')\n",
        "\n",
        "ax1.set_title('Viable Context')\n",
        "ax2.set_title('Unviable Context')\n",
        "\n",
        "from matplotlib.lines import Line2D\n",
        "from matplotlib.patches import Patch\n",
        "\n",
        "legend_elements = [Line2D([0], [0], marker='.', color='#E24A33', lw=2, markersize=9),\n",
        "                   Line2D([0], [0], marker='.', color='#348ABD', lw=2, markersize=9),\n",
        "                   Line2D([0], [0], marker='.', color='#988ED5', lw=2, markersize=9)]\n",
        "\n",
        "plt.legend(handles=legend_elements, labels=[f'Compensation: [{ipa_symbol}] ' + r'$\\rightarrow$ <n>', f'No Compensation: [{ipa_symbol}] ' + r'$\\rightarrow$ <ng>', f'Control: [n] ' + r'$\\rightarrow$ <n>'], loc='lower center', bbox_to_anchor=(0, -0.35), ncol=3, fontsize=12)\n",
        "plt.savefig('probing-n-ng.pdf', dpi=300, bbox_inches='tight')"
      ],
      "metadata": {
        "outputId": "e148b3e3-19bf-4201-f9fd-83f464b0bec5",
        "colab": {
          "base_uri": "https://localhost:8080/",
          "height": 467
        },
        "id": "TNn6f-0N_chH"
      },
      "execution_count": null,
      "outputs": [
        {
          "output_type": "display_data",
          "data": {
            "text/plain": [
              "<Figure size 1400x400 with 2 Axes>"
            ],
            "image/png": "[encoded data removed]"
          },
          "metadata": {}
        }
      ]
    },
    {
      "cell_type": "markdown",
      "source": [
        "#Type 3: /t/ --> [k]"
      ],
      "metadata": {
        "id": "-6LkyFynU5Kd"
      }
    },
    {
      "cell_type": "code",
      "execution_count": null,
      "metadata": {
        "colab": {
          "base_uri": "https://localhost:8080/"
        },
        "id": "hlgqzk29K35d",
        "outputId": "001750ed-08b7-4735-e940-40b33eb78387"
      },
      "outputs": [
        {
          "output_type": "stream",
          "name": "stdout",
          "text": [
            "18\n"
          ]
        }
      ],
      "source": [
        "# great, sweet --> greak, sweek\n",
        "target_stimuli = ['A6', 'A8']\n",
        "target_files = []\n",
        "for target in target_stimuli:\n",
        "  for file in glob.glob(f\"drive/MyDrive/assimilation/stimA/{target}Pt*\"):\n",
        "    if not file.endswith('(1).wav'):\n",
        "      target_files.append(file)\n",
        "\n",
        "print(len(target_files))"
      ]
    },
    {
      "cell_type": "code",
      "source": [
        "target_indeces = [61, 62, 65, 49, 51, 47, 107, 112, 107,\n",
        "                  71, 74, 72, 25, 22, 21, 95, 98, 92]\n",
        "\n",
        "compensation = [True, False, True, True, True, True, True, False, True,   #great\n",
        "                False, True, True, False, True, True, True, True, True]   #sweet\n",
        "\n",
        "conditions = ['viable', 'unviable', 'control', 'viable', 'unviable', 'control', 'viable', 'unviable', 'control',\n",
        "              'unviable', 'viable', 'control', 'unviable', 'viable', 'control', 'viable', 'unviable', 'control']"
      ],
      "metadata": {
        "id": "6jASpGJnnnBD"
      },
      "execution_count": null,
      "outputs": []
    },
    {
      "cell_type": "code",
      "source": [
        "num_layers = 13\n",
        "\n",
        "# Here we will store the probabilities for the viable stimuli (compensated vs. not compensated)\n",
        "correct = {layer_idx: [] for layer_idx in range(num_layers)}\n",
        "incorrect = {layer_idx: [] for layer_idx in range(num_layers)}\n",
        "\n",
        "# Here we will store the probabilities for the unviable stimuli (compensated vs. not compensated)\n",
        "unv_correct = {layer_idx: [] for layer_idx in range(num_layers)}\n",
        "unv_incorrect = {layer_idx: [] for layer_idx in range(num_layers)}\n",
        "\n",
        "# Here we will store the probabilities for the control stimuli\n",
        "control = {layer_idx: [] for layer_idx in range(num_layers)}"
      ],
      "metadata": {
        "id": "qglenxIWonJb"
      },
      "execution_count": null,
      "outputs": []
    },
    {
      "cell_type": "code",
      "source": [
        "#target_probs = []\n",
        "for file, idx, comp, cond in zip(target_files, target_indeces, compensation, conditions):\n",
        "  target_prob = get_probs(file, idx, comp, cond, model, processor, 't_k', 1, 6)\n",
        "  target_probs.append(target_prob)"
      ],
      "metadata": {
        "colab": {
          "base_uri": "https://localhost:8080/"
        },
        "id": "1OLm4snUorCc",
        "outputId": "d7805121-ed21-4129-fc7a-0b09a4078083"
      },
      "execution_count": null,
      "outputs": [
        {
          "output_type": "stream",
          "name": "stdout",
          "text": [
            "0.9925644993782043\n",
            "Transcription: ['I THOUGHT THAT WAS A REALLY GREAT CRUISE WHAT DID YOU THINK']\n",
            "['<pad>', 'E', '<pad>', 'A', '<pad>', 'T', '<pad>', '|', '<pad>', '<pad>']\n",
            "0.24907733500003815\n",
            "Transcription: ['I THOUGHT THAT WAS A REALLY GREAK MATCH WHAT DID YOU THINK']\n",
            "['E', '<pad>', '<pad>', 'A', '<pad>', 'K', '<pad>', '<pad>', '|', '|']\n",
            "0.994468092918396\n",
            "Transcription: ['I THOUGHT THAT WAS A REALLY GREAT FIGHT WHAT DID YOU THINK']\n",
            "['R', 'E', 'E', 'A', '<pad>', 'T', 'T', '<pad>', '|', '|']\n",
            "0.9954415559768677\n",
            "Transcription: [\"IT WOULD HAVE BEEN A GREAT CRUISE IF IT HADN'T RAINED\"]\n",
            "['<pad>', 'E', '<pad>', 'A', '<pad>', 'T', '<pad>', '|', '<pad>', '<pad>']\n",
            "0.7943904399871826\n",
            "Transcription: [\"IT WOULD HAVE BEEN A GREAT MATCH IF IT HADN'T RAINED\"]\n",
            "['<pad>', 'E', '<pad>', 'A', '<pad>', 'T', '<pad>', '<pad>', '|', '|']\n",
            "0.9996993541717529\n",
            "Transcription: [\"IT WOULD HAVE BEEN A GREAT FIGHT IF IT HADN'T RAINED\"]\n",
            "['<pad>', 'E', 'A', 'A', '<pad>', 'T', '<pad>', '|', '|', '<pad>']\n",
            "0.9875243902206421\n",
            "Transcription: ['IT WAS ALL OVER QUICKLY IT WAS SUCH A GREAT CRUISE']\n",
            "['<pad>', 'E', 'E', 'A', '<pad>', 'T', '<pad>', '|', '<pad>', '<pad>']\n",
            "0.20524261891841888\n",
            "Transcription: ['IT WAS ALL OVER QUICKLY IT WAS SUCH A GREAK MATCH']\n",
            "['<pad>', 'E', '<pad>', 'A', '<pad>', 'K', '<pad>', '<pad>', '|', '|']\n",
            "0.9603994488716125\n",
            "Transcription: ['IT WAS ALL OVER QUICKLY IT WAS SUCH A GREAT FIGHT']\n",
            "['R', '<pad>', 'E', 'A', 'A', 'T', 'T', '|', '|', '|']\n",
            "0.4418945908546448\n",
            "Transcription: ['THE SOUTH IS KNOWN FOR ITS SWEEK LIQUORS']\n",
            "['E', '<pad>', '<pad>', 'E', '<pad>', 'K', '<pad>', '<pad>', '<pad>', '|']\n",
            "0.9142888188362122\n",
            "Transcription: ['THE SOUTH IS KNOWN FOR ITS SWEET COCK TAILS']\n",
            "['E', '<pad>', '<pad>', 'E', '<pad>', 'T', '<pad>', '|', '<pad>', '<pad>']\n",
            "0.9999327659606934\n",
            "Transcription: ['HE SOUTH IS KKNOWN OR ITS SWEET CHOCOOLAE']\n",
            "['E', 'E', '<pad>', 'E', '<pad>', 'T', '<pad>', '<pad>', '|', '|']\n",
            "0.41127368807792664\n",
            "Transcription: ['THAT SWEEK LIQUER IS NOT GOOD FOR MY FIGURE']\n",
            "['E', '<pad>', '<pad>', 'E', '<pad>', 'K', '<pad>', '<pad>', '|', '|']\n",
            "0.7042865753173828\n",
            "Transcription: ['HAT SWEET COCKTAIL IS NOT GOOD FOR MY FIGURE']\n",
            "['<pad>', 'E', '<pad>', '<pad>', 'E', 'T', '<pad>', '|', '|', '<pad>']\n",
            "0.9997257590293884\n",
            "Transcription: ['THAT SWEET CHOCOLATE IS NOCKOOD FOR MY FIGURE']\n",
            "['<pad>', 'E', '<pad>', 'E', 'E', 'T', '<pad>', '|', '|', '|']\n",
            "0.9976714253425598\n",
            "Transcription: [\"IT'S NICE TO FINISH A BIG MEAL WITH A SWEET COCKTAIL\"]\n",
            "['E', '<pad>', '<pad>', 'E', '<pad>', 'T', '<pad>', '|', '<pad>', '<pad>']\n",
            "0.9017810225486755\n",
            "Transcription: [\"IT'S NICE TO FINISH A BIG MEAL WITH A SWEET LIQUOR\"]\n",
            "['E', '<pad>', '<pad>', 'E', '<pad>', 'T', '<pad>', '<pad>', '|', '|']\n",
            "0.9999628067016602\n",
            "Transcription: [\"IT'S NICE TO FINISH A BIG MEAL WITH A SWEET CHOCOLATE\"]\n",
            "['E', '<pad>', '<pad>', 'E', '<pad>', 'T', '<pad>', '|', '|', '<pad>']\n"
          ]
        }
      ]
    },
    {
      "cell_type": "code",
      "source": [
        "print(len(target_probs))\n",
        "print(target_probs)"
      ],
      "metadata": {
        "colab": {
          "base_uri": "https://localhost:8080/"
        },
        "outputId": "7421b374-9439-43a0-a756-49b5aacfd9fa",
        "id": "y-yMtH9ClATc"
      },
      "execution_count": null,
      "outputs": [
        {
          "output_type": "stream",
          "name": "stdout",
          "text": [
            "90\n",
            "[0.9986101388931274, 0.989863932132721, None, 0.9976850748062134, 0.998325765132904, None, 0.9968446493148804, 0.9536221623420715, None, 0.9986024498939514, 0.9995331764221191, None, 0.7980812191963196, 0.9702993035316467, None, 0.9999641180038452, 0.9998816251754761, None, 0.027161357924342155, 0.005231255665421486, None, 0.05534565821290016, 0.005985786207020283, None, 0.009532990865409374, 0.0009502042667008936, None, 0.9941315054893494, 0.08238524943590164, None, 0.9732580184936523, 0.21382129192352295, None, 0.9971101880073547, 0.00027617806335911155, None, 0.5666154623031616, 0.16478097438812256, None, 0.8439241647720337, 0.5146711468696594, None, 0.23374702036380768, 0.6332941055297852, None, 0.9743708372116089, 0.9960143566131592, None, 0.9996955394744873, 0.9987602233886719, None, 0.9981614947319031, 0.999653697013855, None, 0.998975396156311, None, 0.9998001456260681, 0.9937986731529236, None, 0.9992913007736206, 0.9999094009399414, None, 0.9992884397506714, 0.999947190284729, 0.9995765089988708, None, 0.9999161958694458, 0.9998867511749268, None, 0.9998407363891602, 0.9998114705085754, None, 0.9925644993782043, 0.24907733500003815, None, 0.9954415559768677, 0.7943904399871826, None, 0.9875243902206421, 0.20524261891841888, None, 0.4418945908546448, 0.9142888188362122, None, 0.41127368807792664, 0.7042865753173828, None, 0.9976714253425598, 0.9017810225486755, None]\n"
          ]
        }
      ]
    },
    {
      "cell_type": "code",
      "source": [
        "strict_freqs.extend([0, 40, 80, 0, 40, 80, 0, 40, 80,\n",
        "                2, 0, 2, 2, 0, 2, 0, 2, 2])\n",
        "loose_freqs.extend([1, 43, 115, 1, 43, 115, 1, 43, 115,\n",
        "               2, 0, 3, 2, 0, 3, 0, 2, 3])"
      ],
      "metadata": {
        "id": "TSAgBukSlATe"
      },
      "execution_count": null,
      "outputs": []
    },
    {
      "cell_type": "code",
      "source": [
        "print(len(strict_freqs), len(loose_freqs))"
      ],
      "metadata": {
        "colab": {
          "base_uri": "https://localhost:8080/"
        },
        "id": "Odb5pNzJqbl5",
        "outputId": "83825987-9acb-422e-90b8-3fbbf2d767f5"
      },
      "execution_count": null,
      "outputs": [
        {
          "output_type": "stream",
          "name": "stdout",
          "text": [
            "90 90\n"
          ]
        }
      ]
    },
    {
      "cell_type": "code",
      "execution_count": null,
      "metadata": {
        "colab": {
          "base_uri": "https://localhost:8080/"
        },
        "outputId": "930f98f0-3f4c-407a-b62e-a58e7e565d47",
        "id": "pHDJMuy1pZnt"
      },
      "outputs": [
        {
          "output_type": "stream",
          "name": "stdout",
          "text": [
            "6 0 2 4 6\n"
          ]
        },
        {
          "output_type": "stream",
          "name": "stderr",
          "text": [
            "/usr/local/lib/python3.10/dist-packages/numpy/core/_methods.py:190: RuntimeWarning: invalid value encountered in double_scalars\n",
            "  ret = ret.dtype.type(ret / rcount)\n",
            "/usr/local/lib/python3.10/dist-packages/numpy/core/_methods.py:223: RuntimeWarning: invalid value encountered in divide\n",
            "  arrmean = um.true_divide(arrmean, div, out=arrmean, casting='unsafe',\n",
            "/usr/local/lib/python3.10/dist-packages/numpy/core/_methods.py:257: RuntimeWarning: invalid value encountered in double_scalars\n",
            "  ret = ret.dtype.type(ret / rcount)\n"
          ]
        }
      ],
      "source": [
        "print(len(correct[0]), len(incorrect[0]), len(unv_correct[0]), len(unv_incorrect[0]), len(control[0]))\n",
        "\n",
        "# Get average probability for each layer (average over stimuli)\n",
        "correct_avg = [np.mean(value) for value in correct.values()]\n",
        "incorrect_avg = [np.mean(value) for value in incorrect.values()]\n",
        "unv_correct_avg = [np.mean(value) for value in unv_correct.values()]\n",
        "unv_incorrect_avg = [np.mean(value) for value in unv_incorrect.values()]\n",
        "control_avg = [np.mean(value) for value in control.values()]\n",
        "\n",
        "from scipy.stats import sem\n",
        "\n",
        "# Get standard error\n",
        "correct_sem = [sem(value) for value in correct.values()]\n",
        "incorrect_sem = [sem(value) for value in incorrect.values()]\n",
        "unv_correct_sem = [sem(value) for value in unv_correct.values()]\n",
        "unv_incorrect_sem = [sem(value) for value in unv_incorrect.values()]\n",
        "control_sem = [sem(value) for value in control.values()]"
      ]
    },
    {
      "cell_type": "code",
      "source": [
        "plt.style.use('ggplot')\n",
        "fig = plt.figure(figsize=(14,4))\n",
        "\n",
        "gs = fig.add_gridspec(1, 2, hspace=0, wspace=0.05)\n",
        "ax1, ax2 = gs.subplots(sharex='col', sharey='row')\n",
        "\n",
        "x=range(13)\n",
        "\n",
        "ax1.errorbar(x,correct_avg,correct_sem,fmt='.-',capsize=2,elinewidth=1, markersize=9, color='#E24A33')\n",
        "#ax1.errorbar(x,incorrect_avg,incorrect_sem,fmt='.-',capsize=2,elinewidth=1, markersize=9)\n",
        "ax1.errorbar(x,control_avg,control_sem,fmt='.-',capsize=2,elinewidth=1, markersize=9, color='#988ED5')\n",
        "ax1.grid(False, axis='x')\n",
        "\n",
        "ax2.errorbar(x,unv_correct_avg,unv_correct_sem,fmt='.-',capsize=2,elinewidth=1, markersize=9)\n",
        "ax2.errorbar(x,unv_incorrect_avg,unv_incorrect_sem,fmt='.-',capsize=2,elinewidth=1, markersize=9)\n",
        "ax2.errorbar(x,control_avg,control_sem,fmt='.-',capsize=2,elinewidth=1, markersize=9)\n",
        "ax2.grid(False, axis='x')\n",
        "\n",
        "ax1.set_xticks(range(13), range(13))\n",
        "ax2.set_xticks(range(13), range(13))\n",
        "\n",
        "ax1.set_ylabel('Probability for /t/')\n",
        "ax1.set_yticks([0.0, 0.2, 0.4, 0.6, 0.8, 1.0])\n",
        "\n",
        "ax1.set_xlabel('Transformer Layer')\n",
        "ax2.set_xlabel('Transformer Layer')\n",
        "\n",
        "ax1.set_title('Viable Context')\n",
        "ax2.set_title('Unviable Context')\n",
        "\n",
        "from matplotlib.lines import Line2D\n",
        "from matplotlib.patches import Patch\n",
        "\n",
        "legend_elements = [Line2D([0], [0], marker='.', color='#E24A33', lw=2, markersize=9),\n",
        "                   Line2D([0], [0], marker='.', color='#348ABD', lw=2, markersize=9),\n",
        "                   Line2D([0], [0], marker='.', color='#988ED5', lw=2, markersize=9)]\n",
        "\n",
        "plt.legend(handles=legend_elements, labels=[r'Compensation: [k] $\\rightarrow$ <t>', r'No Compensation: [k] $\\rightarrow$ <k>', r'Control: [t] $\\rightarrow$ <t>'], loc='lower center', bbox_to_anchor=(0, -0.35), ncol=3, fontsize=12)\n",
        "#plt.savefig('probing-t-k.pdf', dpi=300, bbox_inches='tight')"
      ],
      "metadata": {
        "outputId": "a93ab218-cfcc-49d5-bad3-2f6e04acfbaa",
        "colab": {
          "base_uri": "https://localhost:8080/",
          "height": 484
        },
        "id": "Nz0oddNLpZnx"
      },
      "execution_count": null,
      "outputs": [
        {
          "output_type": "execute_result",
          "data": {
            "text/plain": [
              "<matplotlib.legend.Legend at 0x7f9a05a81030>"
            ]
          },
          "metadata": {},
          "execution_count": 41
        },
        {
          "output_type": "display_data",
          "data": {
            "text/plain": [
              "<Figure size 1400x400 with 2 Axes>"
            ],
            "image/png": "[encoded data removed]"
          },
          "metadata": {}
        }
      ]
    },
    {
      "cell_type": "markdown",
      "source": [
        "#Type 4: /t/ --> [p]"
      ],
      "metadata": {
        "id": "eFuK9qTPupdH"
      }
    },
    {
      "cell_type": "code",
      "execution_count": null,
      "metadata": {
        "colab": {
          "base_uri": "https://localhost:8080/"
        },
        "id": "-iCH0mye4c1V",
        "outputId": "12755b50-ab15-4728-e63e-2511d18e0c93"
      },
      "outputs": [
        {
          "output_type": "stream",
          "name": "stdout",
          "text": [
            "18\n"
          ]
        }
      ],
      "source": [
        "# fat, wet --> fap, wep (A5, A7)\n",
        "target_stimuli = ['A5', 'A7']\n",
        "target_files = []\n",
        "for target in target_stimuli:\n",
        "  for file in glob.glob(f\"drive/MyDrive/assimilation/stimA/{target}Pt*\"):\n",
        "    if not file.endswith('(1).wav') and not file.endswith('(2).wav'):\n",
        "      target_files.append(file)\n",
        "\n",
        "print(len(target_files))"
      ]
    },
    {
      "cell_type": "code",
      "source": [
        "target_indeces = [50, 52, 48, 94, 102, 99, 30, 34, 31,\n",
        "                  53, 50, 54, 96, 97, 89, 33, 31, 30]\n",
        "\n",
        "compensation = [True, True, True, True, False, True, True, True, True,    #fat\n",
        "                True, False, True, False, True, True, True, True, True]   #wet\n",
        "\n",
        "conditions = ['viable', 'unviable', 'control'] * 6"
      ],
      "metadata": {
        "id": "qXFx3VHDu_UT"
      },
      "execution_count": null,
      "outputs": []
    },
    {
      "cell_type": "code",
      "source": [
        "num_layers = 13\n",
        "\n",
        "# Here we will store the probabilities for the viable stimuli (compensated vs. not compensated)\n",
        "correct = {layer_idx: [] for layer_idx in range(num_layers)}\n",
        "incorrect = {layer_idx: [] for layer_idx in range(num_layers)}\n",
        "\n",
        "# Here we will store the probabilities for the unviable stimuli (compensated vs. not compensated)\n",
        "unv_correct = {layer_idx: [] for layer_idx in range(num_layers)}\n",
        "unv_incorrect = {layer_idx: [] for layer_idx in range(num_layers)}\n",
        "\n",
        "# Here we will store the probabilities for the control stimuli\n",
        "control = {layer_idx: [] for layer_idx in range(num_layers)}"
      ],
      "metadata": {
        "id": "lUZ73buMvvI7"
      },
      "execution_count": null,
      "outputs": []
    },
    {
      "cell_type": "code",
      "source": [
        "#target_probs = []\n",
        "for file, idx, comp, cond in zip(target_files, target_indeces, compensation, conditions):\n",
        "  target_prob = get_probs(file, idx, comp, cond, model, processor, 't_p', 1, 6)\n",
        "  target_probs.append(target_prob)"
      ],
      "metadata": {
        "colab": {
          "base_uri": "https://localhost:8080/"
        },
        "outputId": "3e512fb4-e20c-4c52-990f-7b01e1dc7129",
        "id": "uSL27LhHvvI8"
      },
      "execution_count": null,
      "outputs": [
        {
          "output_type": "stream",
          "name": "stdout",
          "text": [
            "0.9983124732971191\n",
            "Transcription: ['THAT STORY ABOUT A FAT PUPPY WAS MY FAVORITE CHILDHOOD BOOK']\n",
            "['<pad>', '<pad>', 'A', '<pad>', '<pad>', 'T', '<pad>', '|', '|', '<pad>']\n",
            "0.7805486917495728\n",
            "Transcription: ['THAT STORY ABOUT A FAT SQUIRREL WAS MY FAVORITE CHILDHOOD BOOK']\n",
            "['<pad>', 'A', '<pad>', '<pad>', '<pad>', 'T', '<pad>', '<pad>', '<pad>', '|']\n",
            "0.9999097585678101\n",
            "Transcription: ['THAT STORY ABOUT A FAT MONKEY WAS MY FAVORITE CHILDHOOD BOOK']\n",
            "['<pad>', '<pad>', 'A', '<pad>', '<pad>', 'T', '<pad>', '|', '|', '<pad>']\n",
            "0.9982782602310181\n",
            "Transcription: ['Y KIDS LOVE THAT MOVY ABOUT THE FAT PUPPY AND  THIN RABBIT']\n",
            "['<pad>', '<pad>', 'A', '<pad>', '<pad>', 'T', '<pad>', '|', '<pad>', '<pad>']\n",
            "0.4585561156272888\n",
            "Transcription: ['Y KIDS LOVE THAT MOVY ABOUT THE FAP SQUIRREL AND THE THIN RABBIT']\n",
            "['<pad>', 'A', '<pad>', '<pad>', '<pad>', 'P', '<pad>', '<pad>', '<pad>', '|']\n",
            "0.9997393488883972\n",
            "Transcription: ['Y KIDS LOVE AT MOVY ABOUT THE FAT MONKEY AND THE THIN RABBIT']\n",
            "['<pad>', 'A', '<pad>', '<pad>', '<pad>', 'T', '<pad>', '|', '<pad>', '<pad>']\n",
            "0.9396136999130249\n",
            "Transcription: ['MAX THE FAT PUPPY IS EATING SOME CHOCOLATE']\n",
            "['<pad>', '<pad>', 'A', '<pad>', '<pad>', 'T', 'T', '|', '|', '<pad>']\n",
            "0.9242374897003174\n",
            "Transcription: ['AX THE FAT SQUIRRELS EATING SOME CHOCOLATE']\n",
            "['<pad>', 'A', '<pad>', '<pad>', '<pad>', 'T', '<pad>', '<pad>', '<pad>', '|']\n",
            "0.9993658661842346\n",
            "Transcription: ['MAX THE FAT MONKEY IS EATING SOE CHOCOLATE']\n",
            "['<pad>', 'A', '<pad>', '<pad>', '<pad>', 'T', '<pad>', '|', '|', 'M']\n",
            "0.9997983574867249\n",
            "Transcription: ['HE CAME TO SCHOOL WITH WET PANTS AFTER PLAYING IN THE RAIN']\n",
            "['<pad>', '<pad>', 'E', '<pad>', '<pad>', 'T', '<pad>', '|', '|', '<pad>']\n",
            "0.39844557642936707\n",
            "Transcription: ['HE CAME TO SCHOOL IT WEPT SOCKS AFTER PLAYING IN THE RAIN']\n",
            "['<pad>', '<pad>', 'E', '<pad>', '<pad>', 'P', 'T', '<pad>', '|', '|']\n",
            "0.9999645948410034\n",
            "Transcription: ['HE CAME TO SCHOOL WITH WET SHOES AFTER PLAYING IN THE RAIN']\n",
            "['W', '<pad>', 'E', '<pad>', '<pad>', 'T', '<pad>', '<pad>', '|', '|']\n",
            "0.0002879985549952835\n",
            "Transcription: ['IT RAINED WHILE CAMPING AND I HAD WEPT PANTS ALL DAY']\n",
            "['W', '<pad>', '<pad>', 'E', '<pad>', 'P', 'T', 'T', '|', '|']\n",
            "0.9972932934761047\n",
            "Transcription: [\"IT RAINED WHILE  CAMPING AND I'D WET SOCKS ALL DAY\"]\n",
            "['<pad>', '<pad>', 'E', '<pad>', '<pad>', 'T', 'T', '<pad>', '|', '|']\n",
            "0.9994484782218933\n",
            "Transcription: ['IT RAINED WHILE CAMPING AND I HAD WET SHOES ALL DAY']\n",
            "['<pad>', '<pad>', 'E', '<pad>', '<pad>', 'T', 'T', '<pad>', '|', '|']\n",
            "0.9695534110069275\n",
            "Transcription: [\"TAKE OFF YOUR WET PANTS YOU'LL CATCH A COLD\"]\n",
            "['W', '<pad>', 'E', '<pad>', '<pad>', 'T', '<pad>', '|', '|', '<pad>']\n",
            "0.7986876964569092\n",
            "Transcription: [\"TAKE OFF YOUR WET SOCKS YOU'LL CATCH A COLD\"]\n",
            "['W', '<pad>', 'E', '<pad>', '<pad>', 'T', '<pad>', '<pad>', '|', '|']\n",
            "0.9998387098312378\n",
            "Transcription: [\"TAKE OFF YOUR WET SHOES YOU'LL CATCH A COLD\"]\n",
            "['W', '<pad>', 'E', '<pad>', '<pad>', 'T', 'T', '<pad>', '|', '|']\n"
          ]
        }
      ]
    },
    {
      "cell_type": "code",
      "source": [
        "print(len(target_probs))\n",
        "print(target_probs)"
      ],
      "metadata": {
        "colab": {
          "base_uri": "https://localhost:8080/"
        },
        "outputId": "4e75f1b1-40ec-47a4-db8e-9de07ba351a0",
        "id": "-Fcro9SHmY-o"
      },
      "execution_count": null,
      "outputs": [
        {
          "output_type": "stream",
          "name": "stdout",
          "text": [
            "108\n",
            "[0.9986101388931274, 0.989863932132721, None, 0.9976850748062134, 0.998325765132904, None, 0.9968446493148804, 0.9536221623420715, None, 0.9986024498939514, 0.9995331764221191, None, 0.7980812191963196, 0.9702993035316467, None, 0.9999641180038452, 0.9998816251754761, None, 0.027161357924342155, 0.005231255665421486, None, 0.05534565821290016, 0.005985786207020283, None, 0.009532990865409374, 0.0009502042667008936, None, 0.9941315054893494, 0.08238524943590164, None, 0.9732580184936523, 0.21382129192352295, None, 0.9971101880073547, 0.00027617806335911155, None, 0.5666154623031616, 0.16478097438812256, None, 0.8439241647720337, 0.5146711468696594, None, 0.23374702036380768, 0.6332941055297852, None, 0.9743708372116089, 0.9960143566131592, None, 0.9996955394744873, 0.9987602233886719, None, 0.9981614947319031, 0.999653697013855, None, 0.998975396156311, None, 0.9998001456260681, 0.9937986731529236, None, 0.9992913007736206, 0.9999094009399414, None, 0.9992884397506714, 0.999947190284729, 0.9995765089988708, None, 0.9999161958694458, 0.9998867511749268, None, 0.9998407363891602, 0.9998114705085754, None, 0.9925644993782043, 0.24907733500003815, None, 0.9954415559768677, 0.7943904399871826, None, 0.9875243902206421, 0.20524261891841888, None, 0.4418945908546448, 0.9142888188362122, None, 0.41127368807792664, 0.7042865753173828, None, 0.9976714253425598, 0.9017810225486755, None, 0.9983124732971191, 0.7805486917495728, None, 0.9982782602310181, 0.4585561156272888, None, 0.9396136999130249, 0.9242374897003174, None, 0.9997983574867249, 0.39844557642936707, None, 0.0002879985549952835, 0.9972932934761047, None, 0.9695534110069275, 0.7986876964569092, None]\n"
          ]
        }
      ]
    },
    {
      "cell_type": "code",
      "source": [
        "strict_freqs.extend([1,1,1,1,1,1,1,1,1,\n",
        "               0,1,11,0,1,11,0,1,11])\n",
        "loose_freqs.extend([1,1,1,1,1,1,1,1,1,\n",
        "               0,1,11,0,1,11,0,1,11])"
      ],
      "metadata": {
        "id": "ReWARRZTmY-o"
      },
      "execution_count": null,
      "outputs": []
    },
    {
      "cell_type": "code",
      "source": [
        "print(len(strict_freqs), len(loose_freqs))"
      ],
      "metadata": {
        "colab": {
          "base_uri": "https://localhost:8080/"
        },
        "id": "Nv7swjJKqjXQ",
        "outputId": "e6887a5f-7850-495f-cd89-7d0bafe03e75"
      },
      "execution_count": null,
      "outputs": [
        {
          "output_type": "stream",
          "name": "stdout",
          "text": [
            "108 108\n"
          ]
        }
      ]
    },
    {
      "cell_type": "code",
      "execution_count": null,
      "metadata": {
        "colab": {
          "base_uri": "https://localhost:8080/"
        },
        "outputId": "849b6300-ea34-4cca-e53e-f0eb2af86121",
        "id": "VImNbbUFvvI9"
      },
      "outputs": [
        {
          "output_type": "stream",
          "name": "stdout",
          "text": [
            "5 1 4 2 6\n"
          ]
        },
        {
          "output_type": "stream",
          "name": "stderr",
          "text": [
            "/usr/local/lib/python3.10/dist-packages/numpy/core/_methods.py:257: RuntimeWarning: invalid value encountered in double_scalars\n",
            "  ret = ret.dtype.type(ret / rcount)\n"
          ]
        }
      ],
      "source": [
        "print(len(correct[0]), len(incorrect[0]), len(unv_correct[0]), len(unv_incorrect[0]), len(control[0]))\n",
        "\n",
        "# Get average probability for each layer (average over stimuli)\n",
        "correct_avg = [np.mean(value) for value in correct.values()]\n",
        "incorrect_avg = [np.mean(value) for value in incorrect.values()]\n",
        "unv_correct_avg = [np.mean(value) for value in unv_correct.values()]\n",
        "unv_incorrect_avg = [np.mean(value) for value in unv_incorrect.values()]\n",
        "control_avg = [np.mean(value) for value in control.values()]\n",
        "\n",
        "from scipy.stats import sem\n",
        "\n",
        "# Get standard error\n",
        "correct_sem = [sem(value) for value in correct.values()]\n",
        "incorrect_sem = [sem(value) for value in incorrect.values()]\n",
        "unv_correct_sem = [sem(value) for value in unv_correct.values()]\n",
        "unv_incorrect_sem = [sem(value) for value in unv_incorrect.values()]\n",
        "control_sem = [sem(value) for value in control.values()]"
      ]
    },
    {
      "cell_type": "code",
      "source": [
        "plt.style.use('ggplot')\n",
        "fig = plt.figure(figsize=(14,4))\n",
        "\n",
        "gs = fig.add_gridspec(1, 2, hspace=0, wspace=0.05)\n",
        "ax1, ax2 = gs.subplots(sharex='col', sharey='row')\n",
        "\n",
        "x=range(13)\n",
        "\n",
        "ax1.errorbar(x,correct_avg,correct_sem,fmt='.-',capsize=2,elinewidth=1, markersize=9)\n",
        "ax1.errorbar(x,incorrect_avg,None,fmt='.-',capsize=2,elinewidth=1, markersize=9)\n",
        "ax1.errorbar(x,control_avg,control_sem,fmt='.-',capsize=2,elinewidth=1, markersize=9)\n",
        "ax1.grid(False, axis='x')\n",
        "\n",
        "ax2.errorbar(x,unv_correct_avg,unv_correct_sem,fmt='.-',capsize=2,elinewidth=1, markersize=9)\n",
        "ax2.errorbar(x,unv_incorrect_avg,unv_incorrect_sem,fmt='.-',capsize=2,elinewidth=1, markersize=9)\n",
        "ax2.errorbar(x,control_avg,control_sem,fmt='.-',capsize=2,elinewidth=1, markersize=9)\n",
        "ax2.grid(False, axis='x')\n",
        "\n",
        "ax1.set_xticks(range(13), range(13))\n",
        "ax2.set_xticks(range(13), range(13))\n",
        "\n",
        "ax1.set_yticks([0.0, 0.2, 0.4, 0.6, 0.8, 1.0])\n",
        "\n",
        "ax1.set_ylabel('Probability for /t/')\n",
        "\n",
        "ax1.set_xlabel('Transformer Layer')\n",
        "ax2.set_xlabel('Transformer Layer')\n",
        "\n",
        "ax1.set_title('Viable Context')\n",
        "ax2.set_title('Unviable Context')\n",
        "\n",
        "from matplotlib.lines import Line2D\n",
        "from matplotlib.patches import Patch\n",
        "\n",
        "legend_elements = [Line2D([0], [0], marker='.', color='#E24A33', lw=2, markersize=9),\n",
        "                   Line2D([0], [0], marker='.', color='#348ABD', lw=2, markersize=9),\n",
        "                   Line2D([0], [0], marker='.', color='#988ED5', lw=2, markersize=9)]\n",
        "\n",
        "plt.legend(handles=legend_elements, labels=[r'Compensation: [p] $\\rightarrow$ <t>', r'No Compensation: [p] $\\rightarrow$ <t>', r'Control: [t] $\\rightarrow$ <t>'], loc='lower center', bbox_to_anchor=(0, -0.35), ncol=3, fontsize=12)\n",
        "#plt.savefig('probing-t-p.pdf', dpi=300, bbox_inches='tight')"
      ],
      "metadata": {
        "outputId": "9338e511-2010-47ad-e4a6-9c9115a62ca0",
        "colab": {
          "base_uri": "https://localhost:8080/",
          "height": 484
        },
        "id": "zeK1fdZYvvI9"
      },
      "execution_count": null,
      "outputs": [
        {
          "output_type": "execute_result",
          "data": {
            "text/plain": [
              "<matplotlib.legend.Legend at 0x7f9a058e3370>"
            ]
          },
          "metadata": {},
          "execution_count": 51
        },
        {
          "output_type": "display_data",
          "data": {
            "text/plain": [
              "<Figure size 1400x400 with 2 Axes>"
            ],
            "image/png": "[encoded data removed]"
          },
          "metadata": {}
        }
      ]
    },
    {
      "cell_type": "markdown",
      "source": [
        "#Type 5: /d/ --> [b]"
      ],
      "metadata": {
        "id": "IGaudET8wqwF"
      }
    },
    {
      "cell_type": "code",
      "execution_count": null,
      "metadata": {
        "colab": {
          "base_uri": "https://localhost:8080/"
        },
        "id": "exBzXqEwT86t",
        "outputId": "0429cc4d-1446-432e-b94c-837e06d7cc7c"
      },
      "outputs": [
        {
          "output_type": "stream",
          "name": "stdout",
          "text": [
            "27\n"
          ]
        }
      ],
      "source": [
        "import glob\n",
        "\n",
        "# mad, sad, bad --> mab, sab, bab\n",
        "target_stimuli = ['A1', 'A2', 'A4']\n",
        "target_files = []\n",
        "for target in target_stimuli:\n",
        "  for file in glob.glob(f\"drive/MyDrive/assimilation/stimA/{target}Pd*\"):\n",
        "    if not file.endswith('(1).wav'):\n",
        "      target_files.append(file)\n",
        "\n",
        "print(len(target_files))"
      ]
    },
    {
      "cell_type": "code",
      "source": [
        "target_indeces = [100, 98, 100, 123, 122, 125, 84, 84, 86,\n",
        "                  66, 67, 65, 19, 19, 18, 27, 27, 28,\n",
        "                  139, 137, 137, 152, 154, 145, 127, 139, 122]\n",
        "\n",
        "compensation = [True, True, False, False, True, True, True, True, False,      #mad\n",
        "                False, False, True, False, False, True, False, False, True,   #sad\n",
        "                True, False, True, True, True, True, True, True, True]        #bad\n",
        "\n",
        "conditions = ['viable', 'control', 'unviable', 'unviable', 'viable', 'control', 'viable', 'control', 'unviable',\n",
        "              'viable', 'unviable', 'control', 'viable', 'unviable', 'control','viable', 'unviable', 'control',\n",
        "              'viable', 'unviable', 'control', 'viable', 'unviable', 'control','viable', 'unviable', 'control']"
      ],
      "metadata": {
        "id": "UySwAoetw2-v"
      },
      "execution_count": null,
      "outputs": []
    },
    {
      "cell_type": "code",
      "source": [
        "num_layers = 13\n",
        "\n",
        "# Here we will store the probabilities for the viable stimuli (compensated vs. not compensated)\n",
        "correct = {layer_idx: [] for layer_idx in range(num_layers)}\n",
        "incorrect = {layer_idx: [] for layer_idx in range(num_layers)}\n",
        "\n",
        "# Here we will store the probabilities for the unviable stimuli (compensated vs. not compensated)\n",
        "unv_correct = {layer_idx: [] for layer_idx in range(num_layers)}\n",
        "unv_incorrect = {layer_idx: [] for layer_idx in range(num_layers)}\n",
        "\n",
        "# Here we will store the probabilities for the control stimuli\n",
        "control = {layer_idx: [] for layer_idx in range(num_layers)}"
      ],
      "metadata": {
        "id": "s-dSe6vVx3Hr"
      },
      "execution_count": null,
      "outputs": []
    },
    {
      "cell_type": "code",
      "source": [
        "#target_probs = []\n",
        "for file, idx, comp, cond in zip(target_files, target_indeces, compensation, conditions):\n",
        "  target_prob = get_probs(file, idx, comp, cond, model, processor, 'd_b', 1, 14)\n",
        "  target_probs.append(target_prob)"
      ],
      "metadata": {
        "colab": {
          "base_uri": "https://localhost:8080/"
        },
        "outputId": "6969975a-a247-4c3b-e241-b9759c213c17",
        "id": "L-aKOxxCzHm8"
      },
      "execution_count": null,
      "outputs": [
        {
          "output_type": "stream",
          "name": "stdout",
          "text": [
            "0.9024166464805603\n",
            "Transcription: [\"I DON'T WANT TO GO HOME TO FACE MY MAD BROTHER\"]\n",
            "['<pad>', '<pad>', 'A', '<pad>', '<pad>', 'D', '<pad>', '<pad>', '|', '|']\n",
            "0.9998685121536255\n",
            "Transcription: [\"I DON'T WANT TO GO HOME TO FACE MY MAD MOTHER\"]\n",
            "['<pad>', 'A', '<pad>', '<pad>', '<pad>', 'D', '<pad>', '|', '|', '<pad>']\n",
            "2.54817077802727e-05\n",
            "Transcription: [\"I DON'T WANT TO GO HOME TO FACE MY MAPP DAUGHTER\"]\n",
            "['<pad>', 'M', '<pad>', '<pad>', 'A', 'P', '<pad>', '<pad>', 'P', '<pad>']\n",
            "0.15180368721485138\n",
            "Transcription: ['AFTER CRASHING THE FAMILY CAR I HAD A VERY MAB DAUGHTER']\n",
            "['<pad>', 'A', '<pad>', '<pad>', '<pad>', 'B', '<pad>', '<pad>', '<pad>', '|']\n",
            "0.9976710677146912\n",
            "Transcription: ['AFTER CRASHING THE FAMILY CAR I HAD A VERY MAD BROTHER']\n",
            "['<pad>', '<pad>', 'A', '<pad>', '<pad>', 'D', '<pad>', '<pad>', '|', '|']\n",
            "0.9999821186065674\n",
            "Transcription: ['AFTER CRASHING THE FAMILY CAR I HAD A VERY MAD MOTHER']\n",
            "['<pad>', '<pad>', 'A', '<pad>', '<pad>', 'D', '<pad>', '|', '|', '<pad>']\n",
            "0.750142514705658\n",
            "Transcription: [\"IT'S AWFUL MY CRANKY MAD BROTHER YELLS ALL THE TIME\"]\n",
            "['<pad>', '<pad>', 'A', '<pad>', '<pad>', 'D', '<pad>', '<pad>', '|', '|']\n",
            "0.9995971322059631\n",
            "Transcription: [\"IT'S AWFUL MY CRANKY MAD MOTHER YELLS ALL THE TIME\"]\n",
            "['<pad>', '<pad>', 'A', '<pad>', '<pad>', 'D', '<pad>', '|', '|', '<pad>']\n",
            "0.0002866423164959997\n",
            "Transcription: [\"IT'S AWFUL MY CRANKY MAB DAUGHTER YELLS ALL THE TIME\"]\n",
            "['<pad>', '<pad>', 'A', '<pad>', '<pad>', 'B', '<pad>', '<pad>', '<pad>', '|']\n",
            "0.20420020818710327\n",
            "Transcription: [\"SHE'S WRITTEN AT LEAST ONE SAB BALET IN HER LIFE\"]\n",
            "['<pad>', '<pad>', 'A', '<pad>', '<pad>', 'B', '<pad>', '<pad>', '|', '|']\n",
            "0.0021935459226369858\n",
            "Transcription: ['SHE HAS WRITTEN AT LEAST ONE SAB NOVEL IN HER LIFE']\n",
            "['<pad>', 'A', '<pad>', '<pad>', '<pad>', 'B', '<pad>', '<pad>', '|', '|']\n",
            "0.999664306640625\n",
            "Transcription: [\"SHE'S WRITTEN AT LEAST ONE SAD MOVI IN HER LIFE\"]\n",
            "['<pad>', 'A', '<pad>', '<pad>', '<pad>', 'D', '<pad>', '|', '|', 'M']\n",
            "0.229469433426857\n",
            "Transcription: ['THIS SAB BALLET IS AN AMERICAN CLASSIC']\n",
            "['<pad>', 'A', '<pad>', '<pad>', '<pad>', 'B', '<pad>', '|', '|', 'B']\n",
            "0.00012883268937002867\n",
            "Transcription: ['THIS ABNOVEL IS IN AMERICAN CLASSIC']\n",
            "['<pad>', '<pad>', 'A', '<pad>', '<pad>', 'B', '<pad>', '<pad>', '<pad>', '<pad>']\n",
            "0.9973646998405457\n",
            "Transcription: ['THIS SAD MOVIE IS AN AMERICAN CLASSIC']\n",
            "['<pad>', 'A', 'A', '<pad>', '<pad>', 'D', '<pad>', '<pad>', '|', 'M']\n",
            "0.04095715284347534\n",
            "Transcription: [\"WHILE THE SAB BALET WON MANY AWARDS I DON'T LIKE IT\"]\n",
            "['<pad>', 'A', 'A', '<pad>', '<pad>', 'B', '<pad>', '<pad>', '|', '|']\n",
            "0.01092133391648531\n",
            "Transcription: [\"WHILE THE SAB NOVEL ONE MANY AWARDS I DON'T LIKE IT\"]\n",
            "['<pad>', 'A', '<pad>', '<pad>', '<pad>', 'B', '<pad>', '<pad>', '|', '<pad>']\n",
            "0.9995335340499878\n",
            "Transcription: [\"WHILE THE SAD MOVY ON MANY AWARDS I DON'T LIKE IT\"]\n",
            "['<pad>', 'A', '<pad>', '<pad>', '<pad>', 'D', '<pad>', '|', '|', 'M']\n",
            "0.5580680966377258\n",
            "Transcription: [\"I'LL NEVER GO BACK TO THIS PUB I HAD SUCH A BAD BEER THERE\"]\n",
            "['<pad>', '<pad>', 'A', '<pad>', '<pad>', 'D', '<pad>', '<pad>', '|', '|']\n",
            "0.34421423077583313\n",
            "Transcription: [\"I'LL NEVER GO BACK TO THIS PUB I HAD SUCH A BAB LUNCH THERE\"]\n",
            "['<pad>', '<pad>', 'A', '<pad>', '<pad>', 'B', '<pad>', '|', '|', '|']\n",
            "0.983360767364502\n",
            "Transcription: [\"I'LL NEVER GO BACK TO THIS PUB I HAD SUCH A BAD DISH THERE\"]\n",
            "['<pad>', '<pad>', 'A', '<pad>', '<pad>', 'D', 'D', '|', '|', '|']\n",
            "0.9968658089637756\n",
            "Transcription: [\"IT TASTES LIKE IT'S BEEN SITTING OUT ALL NIGHT THIS IS A REALLY BAD BEER\"]\n",
            "['<pad>', '<pad>', 'A', '<pad>', '<pad>', 'D', '<pad>', '|', '|', '|']\n",
            "0.8018513321876526\n",
            "Transcription: [\"IT TASTES LIKE IT'S BEEN SITTING OUT ALL NIGHT THIS IS A REALLY BAD LUNCH\"]\n",
            "['<pad>', '<pad>', 'A', '<pad>', '<pad>', 'D', '<pad>', '|', '|', '|']\n",
            "0.5722389221191406\n",
            "Transcription: [\"IT TASTES LIKE IT'S BEEN SITTING OUT ALL NIGHT THIS IS A REALLY BAD DISH\"]\n",
            "['<pad>', '<pad>', 'A', '<pad>', '<pad>', 'D', 'D', '<pad>', '|', '|']\n",
            "0.9921466708183289\n",
            "Transcription: ['FOR SOMETHING SO EXPENSIVE THIS IS A REALLY BAD BEER']\n",
            "['<pad>', '<pad>', '<pad>', 'A', '<pad>', 'D', 'D', '<pad>', '|', '<pad>']\n",
            "0.9930891394615173\n",
            "Transcription: ['OR SOMETHING SO EXPENSIVE THIS IS A REALLY BAD LUNCH']\n",
            "['<pad>', '<pad>', 'A', '<pad>', '<pad>', 'D', '<pad>', '|', '|', '|']\n",
            "0.9999794960021973\n",
            "Transcription: ['FOR SOMETHING SO EXPENSIVE THIS IS A REALLY BAD DISH']\n",
            "['<pad>', '<pad>', 'A', '<pad>', '<pad>', 'D', '<pad>', '|', '|', '|']\n"
          ]
        }
      ]
    },
    {
      "cell_type": "code",
      "source": [
        "print(len(target_probs))\n",
        "print(target_probs)"
      ],
      "metadata": {
        "colab": {
          "base_uri": "https://localhost:8080/"
        },
        "outputId": "3aee5c6a-cecc-4d78-a8d1-bdee926cf18a",
        "id": "5i6dL8vNns0p"
      },
      "execution_count": null,
      "outputs": [
        {
          "output_type": "stream",
          "name": "stdout",
          "text": [
            "135\n",
            "[0.9986101388931274, 0.989863932132721, None, 0.9976850748062134, 0.998325765132904, None, 0.9968446493148804, 0.9536221623420715, None, 0.9986024498939514, 0.9995331764221191, None, 0.7980812191963196, 0.9702993035316467, None, 0.9999641180038452, 0.9998816251754761, None, 0.027161357924342155, 0.005231255665421486, None, 0.05534565821290016, 0.005985786207020283, None, 0.009532990865409374, 0.0009502042667008936, None, 0.9941315054893494, 0.08238524943590164, None, 0.9732580184936523, 0.21382129192352295, None, 0.9971101880073547, 0.00027617806335911155, None, 0.5666154623031616, 0.16478097438812256, None, 0.8439241647720337, 0.5146711468696594, None, 0.23374702036380768, 0.6332941055297852, None, 0.9743708372116089, 0.9960143566131592, None, 0.9996955394744873, 0.9987602233886719, None, 0.9981614947319031, 0.999653697013855, None, 0.998975396156311, None, 0.9998001456260681, 0.9937986731529236, None, 0.9992913007736206, 0.9999094009399414, None, 0.9992884397506714, 0.999947190284729, 0.9995765089988708, None, 0.9999161958694458, 0.9998867511749268, None, 0.9998407363891602, 0.9998114705085754, None, 0.9925644993782043, 0.24907733500003815, None, 0.9954415559768677, 0.7943904399871826, None, 0.9875243902206421, 0.20524261891841888, None, 0.4418945908546448, 0.9142888188362122, None, 0.41127368807792664, 0.7042865753173828, None, 0.9976714253425598, 0.9017810225486755, None, 0.9983124732971191, 0.7805486917495728, None, 0.9982782602310181, 0.4585561156272888, None, 0.9396136999130249, 0.9242374897003174, None, 0.9997983574867249, 0.39844557642936707, None, 0.0002879985549952835, 0.9972932934761047, None, 0.9695534110069275, 0.7986876964569092, None, 0.9024166464805603, None, 2.54817077802727e-05, 0.15180368721485138, 0.9976710677146912, None, 0.750142514705658, None, 0.0002866423164959997, 0.20420020818710327, 0.0021935459226369858, None, 0.229469433426857, 0.00012883268937002867, None, 0.04095715284347534, 0.01092133391648531, None, 0.5580680966377258, 0.34421423077583313, None, 0.9968658089637756, 0.8018513321876526, None, 0.9921466708183289, 0.9930891394615173, None]\n"
          ]
        }
      ]
    },
    {
      "cell_type": "code",
      "source": [
        "strict_freqs.extend([0,0,0,0,0,0,0,0,0,\n",
        "               0,0,0,0,0,0,0,0,0,\n",
        "               11,0,0,11,0,0,11,0,0])\n",
        "loose_freqs.extend([0,0,0,0,0,0,0,0,0,\n",
        "               0,0,0,0,0,0,0,0,0,\n",
        "               11,0,1,11,0,1,11,0,1])"
      ],
      "metadata": {
        "id": "uMTMRZz0ns0s"
      },
      "execution_count": null,
      "outputs": []
    },
    {
      "cell_type": "code",
      "source": [
        "print(len(strict_freqs), len(loose_freqs))"
      ],
      "metadata": {
        "colab": {
          "base_uri": "https://localhost:8080/"
        },
        "id": "F2yjQQpOqplU",
        "outputId": "09351e01-93d6-47e1-c8ca-c004b065b3b6"
      },
      "execution_count": null,
      "outputs": [
        {
          "output_type": "stream",
          "name": "stdout",
          "text": [
            "135 135\n"
          ]
        }
      ]
    },
    {
      "cell_type": "code",
      "execution_count": null,
      "metadata": {
        "colab": {
          "base_uri": "https://localhost:8080/"
        },
        "outputId": "58867320-9d6b-4094-ad54-d5d4bdb61c6a",
        "id": "Ds5ijfN2zHm_"
      },
      "outputs": [
        {
          "output_type": "stream",
          "name": "stdout",
          "text": [
            "6 3 2 7 9\n"
          ]
        }
      ],
      "source": [
        "print(len(correct[0]), len(incorrect[0]), len(unv_correct[0]), len(unv_incorrect[0]), len(control[0]))\n",
        "\n",
        "# Get average probability for each layer (average over stimuli)\n",
        "correct_avg = [np.mean(value) for value in correct.values()]\n",
        "incorrect_avg = [np.mean(value) for value in incorrect.values()]\n",
        "unv_correct_avg = [np.mean(value) for value in unv_correct.values()]\n",
        "unv_incorrect_avg = [np.mean(value) for value in unv_incorrect.values()]\n",
        "control_avg = [np.mean(value) for value in control.values()]\n",
        "\n",
        "from scipy.stats import sem\n",
        "\n",
        "# Get standard error\n",
        "correct_sem = [sem(value) for value in correct.values()]\n",
        "incorrect_sem = [sem(value) for value in incorrect.values()]\n",
        "unv_correct_sem = [sem(value) for value in unv_correct.values()]\n",
        "unv_incorrect_sem = [sem(value) for value in unv_incorrect.values()]\n",
        "control_sem = [sem(value) for value in control.values()]"
      ]
    },
    {
      "cell_type": "code",
      "source": [
        "plt.style.use('ggplot')\n",
        "fig = plt.figure(figsize=(14,4))\n",
        "\n",
        "gs = fig.add_gridspec(1, 2, hspace=0, wspace=0.05)\n",
        "ax1, ax2 = gs.subplots(sharex='col', sharey='row')\n",
        "\n",
        "x=range(13)\n",
        "\n",
        "ax1.errorbar(x,correct_avg,correct_sem,fmt='.-',capsize=2,elinewidth=1, markersize=9)\n",
        "ax1.errorbar(x,incorrect_avg,incorrect_sem,fmt='.-',capsize=2,elinewidth=1, markersize=9)\n",
        "ax1.errorbar(x,control_avg,control_sem,fmt='.-',capsize=2,elinewidth=1, markersize=9)\n",
        "ax1.grid(False, axis='x')\n",
        "\n",
        "ax2.errorbar(x,unv_correct_avg,unv_correct_sem,fmt='.-',capsize=2,elinewidth=1, markersize=9)\n",
        "ax2.errorbar(x,unv_incorrect_avg,unv_incorrect_sem,fmt='.-',capsize=2,elinewidth=1, markersize=9)\n",
        "ax2.errorbar(x,control_avg,control_sem,fmt='.-',capsize=2,elinewidth=1, markersize=9)\n",
        "ax2.grid(False, axis='x')\n",
        "\n",
        "ax1.set_xticks(range(13), range(13))\n",
        "ax2.set_xticks(range(13), range(13))\n",
        "\n",
        "ax1.set_yticks([0.0, 0.2, 0.4, 0.6, 0.8, 1.0])\n",
        "\n",
        "ax1.set_ylabel('Probability for /d/')\n",
        "#fig.text(0.5, -0.03, 'Transformer Layer', ha='center')\n",
        "\n",
        "# # # add a big axis, hide frame\n",
        "# fig.add_subplot(111, frameon=False)\n",
        "# # # hide tick and tick label of the big axis\n",
        "# plt.tick_params(labelcolor='none', which='both', top=False, bottom=False, left=False, right=False, gridOn=False)\n",
        "ax1.set_xlabel('Transformer Layer')\n",
        "ax2.set_xlabel('Transformer Layer')\n",
        "\n",
        "ax1.set_title('Viable Context')\n",
        "ax2.set_title('Unviable Context')\n",
        "\n",
        "from matplotlib.lines import Line2D\n",
        "from matplotlib.patches import Patch\n",
        "\n",
        "legend_elements = [Line2D([0], [0], marker='.', color='#E24A33', lw=2, markersize=9),\n",
        "                   Line2D([0], [0], marker='.', color='#348ABD', lw=2, markersize=9),\n",
        "                   Line2D([0], [0], marker='.', color='#988ED5', lw=2, markersize=9)]\n",
        "\n",
        "plt.legend(handles=legend_elements, labels=[r'Compensation: [b] $\\rightarrow$ <d>', r'No Compensation: [b] $\\rightarrow$ <b>', r'Control: [d] $\\rightarrow$ <d>'], loc='lower center', bbox_to_anchor=(0, -0.35), ncol=3, fontsize=12)\n",
        "#plt.savefig('probing-d-b.pdf', dpi=300, bbox_inches='tight')"
      ],
      "metadata": {
        "outputId": "ea472733-d0b4-4cbc-b43a-08c89e8b0a12",
        "colab": {
          "base_uri": "https://localhost:8080/",
          "height": 484
        },
        "id": "vSdLu5FNzHnC"
      },
      "execution_count": null,
      "outputs": [
        {
          "output_type": "execute_result",
          "data": {
            "text/plain": [
              "<matplotlib.legend.Legend at 0x7f9a05619000>"
            ]
          },
          "metadata": {},
          "execution_count": 61
        },
        {
          "output_type": "display_data",
          "data": {
            "text/plain": [
              "<Figure size 1400x400 with 2 Axes>"
            ],
            "image/png": "[encoded data removed]"
          },
          "metadata": {}
        }
      ]
    },
    {
      "cell_type": "markdown",
      "source": [
        "#Type 6: /d/ --> [g]"
      ],
      "metadata": {
        "id": "gKTzZB_T01B4"
      }
    },
    {
      "cell_type": "code",
      "execution_count": null,
      "metadata": {
        "colab": {
          "base_uri": "https://localhost:8080/"
        },
        "id": "oi3cIuxWdrE7",
        "outputId": "7c910b83-2f30-43c1-9025-8a76a9ccd6c2"
      },
      "outputs": [
        {
          "output_type": "stream",
          "name": "stdout",
          "text": [
            "9\n"
          ]
        }
      ],
      "source": [
        "import glob\n",
        "\n",
        "# red --> reg\n",
        "target_stimuli = ['A3']\n",
        "target_files = []\n",
        "for target in target_stimuli:\n",
        "  for file in glob.glob(f\"drive/MyDrive/assimilation/stimA/{target}Pd*\"):\n",
        "    if not file.endswith('(1).wav'):\n",
        "      target_files.append(file)\n",
        "\n",
        "print(len(target_files))"
      ]
    },
    {
      "cell_type": "code",
      "source": [
        "target_indeces = [18, 18, 17, 103, 94, 67, 71, 61, 101]\n",
        "\n",
        "compensation = [True, False, True, False, True, True, False, True, True]\n",
        "\n",
        "conditions = ['viable', 'unviable', 'control', 'unviable', 'control', 'viable', 'unviable', 'control', 'viable']"
      ],
      "metadata": {
        "id": "h9gbP2Dh2gNi"
      },
      "execution_count": null,
      "outputs": []
    },
    {
      "cell_type": "code",
      "source": [
        "num_layers = 13\n",
        "\n",
        "# Here we will store the probabilities for the viable stimuli (compensated vs. not compensated)\n",
        "correct = {layer_idx: [] for layer_idx in range(num_layers)}\n",
        "incorrect = {layer_idx: [] for layer_idx in range(num_layers)}\n",
        "\n",
        "# Here we will store the probabilities for the unviable stimuli (compensated vs. not compensated)\n",
        "unv_correct = {layer_idx: [] for layer_idx in range(num_layers)}\n",
        "unv_incorrect = {layer_idx: [] for layer_idx in range(num_layers)}\n",
        "\n",
        "# Here we will store the probabilities for the control stimuli\n",
        "control = {layer_idx: [] for layer_idx in range(num_layers)}"
      ],
      "metadata": {
        "id": "Ilh0UYoS2gNj"
      },
      "execution_count": null,
      "outputs": []
    },
    {
      "cell_type": "code",
      "source": [
        "#target_probs = []\n",
        "for file, idx, comp, cond in zip(target_files, target_indeces, compensation, conditions):\n",
        "  target_prob = get_probs(file, idx, comp, cond, model, processor, 'd_g', 0, 14)\n",
        "  target_probs.append(target_prob)"
      ],
      "metadata": {
        "colab": {
          "base_uri": "https://localhost:8080/"
        },
        "outputId": "353ffa60-c88e-44a5-87f9-bbd3c6436c69",
        "id": "r9aJ4dPI3OFJ"
      },
      "execution_count": null,
      "outputs": [
        {
          "output_type": "stream",
          "name": "stdout",
          "text": [
            "0.9853923916816711\n",
            "Transcription: ['THOSE RED GLASSES AD A NICE TOUCH TO YOUR BLACK OUTFIT']\n",
            "['R', '<pad>', 'E', '<pad>', '<pad>', 'D', '<pad>', '|', '|', '<pad>']\n",
            "0.042733095586299896\n",
            "Transcription: ['T REG LIP STICKAS A NICE TOUCH TO YOUR BLACK OUTFIT']\n",
            "['<pad>', 'E', '<pad>', '<pad>', '<pad>', 'G', '<pad>', '<pad>', '|', '<pad>']\n",
            "0.9988225102424622\n",
            "Transcription: ['THAT RED NECKLACE AS A NICE TOUCHED YOUR BLACK OUTFIT']\n",
            "['R', 'E', '<pad>', '<pad>', '<pad>', 'D', '<pad>', '|', '<pad>', '<pad>']\n",
            "0.24288222193717957\n",
            "Transcription: [\"YOU'RE TOO PALE TO WEAR THAT FLASHY REG LIPSTICK\"]\n",
            "['R', 'E', '<pad>', '<pad>', '<pad>', 'G', '<pad>', '<pad>', '|', '<pad>']\n",
            "0.9998592138290405\n",
            "Transcription: [\"YOU'RE TOO PALE TO WEAR THAT FLASHY RED NECKLACE\"]\n",
            "['R', '<pad>', 'E', '<pad>', '<pad>', 'D', '<pad>', '|', '|', '<pad>']\n",
            "0.9610888361930847\n",
            "Transcription: ['I ALREADY LOST MY NEW RED GLASSES THAT I JUST BOUGHT']\n",
            "['R', '<pad>', 'E', '<pad>', '<pad>', 'D', '<pad>', '<pad>', '|', '|']\n",
            "0.0001333201362285763\n",
            "Transcription: ['I ALREADY LOST MY NEW REGLIP STIC THAT I JUST BOUGHT']\n",
            "['<pad>', '<pad>', '<pad>', '<pad>', '<pad>', 'G', 'G', '<pad>', 'L', 'L']\n",
            "0.9996040463447571\n",
            "Transcription: ['I ALREADY LOST WHEN YOU READ NECKLACE THAT I JUST BOUGHT']\n",
            "['R', 'E', 'A', '<pad>', '<pad>', 'D', '<pad>', '|', '|', '|']\n",
            "0.9585375785827637\n",
            "Transcription: [\"YOU'RE TOO PALE TO WEAR THOSE FLASHY RED GLASSES\"]\n",
            "['<pad>', 'E', '<pad>', '<pad>', '<pad>', 'D', '<pad>', '|', '|', '<pad>']\n"
          ]
        }
      ]
    },
    {
      "cell_type": "code",
      "source": [
        "print(len(target_probs))\n",
        "print(target_probs)"
      ],
      "metadata": {
        "colab": {
          "base_uri": "https://localhost:8080/"
        },
        "outputId": "eddea29c-890a-43c9-f51a-25b886f17313",
        "id": "7Iv6_SMXoW4E"
      },
      "execution_count": null,
      "outputs": [
        {
          "output_type": "stream",
          "name": "stdout",
          "text": [
            "144\n",
            "[0.9986101388931274, 0.989863932132721, None, 0.9976850748062134, 0.998325765132904, None, 0.9968446493148804, 0.9536221623420715, None, 0.9986024498939514, 0.9995331764221191, None, 0.7980812191963196, 0.9702993035316467, None, 0.9999641180038452, 0.9998816251754761, None, 0.027161357924342155, 0.005231255665421486, None, 0.05534565821290016, 0.005985786207020283, None, 0.009532990865409374, 0.0009502042667008936, None, 0.9941315054893494, 0.08238524943590164, None, 0.9732580184936523, 0.21382129192352295, None, 0.9971101880073547, 0.00027617806335911155, None, 0.5666154623031616, 0.16478097438812256, None, 0.8439241647720337, 0.5146711468696594, None, 0.23374702036380768, 0.6332941055297852, None, 0.9743708372116089, 0.9960143566131592, None, 0.9996955394744873, 0.9987602233886719, None, 0.9981614947319031, 0.999653697013855, None, 0.998975396156311, None, 0.9998001456260681, 0.9937986731529236, None, 0.9992913007736206, 0.9999094009399414, None, 0.9992884397506714, 0.999947190284729, 0.9995765089988708, None, 0.9999161958694458, 0.9998867511749268, None, 0.9998407363891602, 0.9998114705085754, None, 0.9925644993782043, 0.24907733500003815, None, 0.9954415559768677, 0.7943904399871826, None, 0.9875243902206421, 0.20524261891841888, None, 0.4418945908546448, 0.9142888188362122, None, 0.41127368807792664, 0.7042865753173828, None, 0.9976714253425598, 0.9017810225486755, None, 0.9983124732971191, 0.7805486917495728, None, 0.9982782602310181, 0.4585561156272888, None, 0.9396136999130249, 0.9242374897003174, None, 0.9997983574867249, 0.39844557642936707, None, 0.0002879985549952835, 0.9972932934761047, None, 0.9695534110069275, 0.7986876964569092, None, 0.9024166464805603, None, 2.54817077802727e-05, 0.15180368721485138, 0.9976710677146912, None, 0.750142514705658, None, 0.0002866423164959997, 0.20420020818710327, 0.0021935459226369858, None, 0.229469433426857, 0.00012883268937002867, None, 0.04095715284347534, 0.01092133391648531, None, 0.5580680966377258, 0.34421423077583313, None, 0.9968658089637756, 0.8018513321876526, None, 0.9921466708183289, 0.9930891394615173, None, 0.9853923916816711, 0.042733095586299896, None, 0.24288222193717957, None, 0.9610888361930847, 0.0001333201362285763, None, 0.9585375785827637]\n"
          ]
        }
      ]
    },
    {
      "cell_type": "code",
      "source": [
        "strict_freqs.extend([0, 0, 0, 0, 0, 0, 0, 0, 0])\n",
        "loose_freqs.extend([12, 0, 2, 0, 2, 12, 0, 2, 12])"
      ],
      "metadata": {
        "id": "HKIRB5pxoW4H"
      },
      "execution_count": null,
      "outputs": []
    },
    {
      "cell_type": "code",
      "source": [
        "print(len(strict_freqs), len(loose_freqs))"
      ],
      "metadata": {
        "colab": {
          "base_uri": "https://localhost:8080/"
        },
        "id": "zePVau4cqvng",
        "outputId": "eba5301d-5787-4b69-dc58-524c37a8e7b2"
      },
      "execution_count": null,
      "outputs": [
        {
          "output_type": "stream",
          "name": "stdout",
          "text": [
            "144 144\n"
          ]
        }
      ]
    },
    {
      "cell_type": "code",
      "execution_count": null,
      "metadata": {
        "colab": {
          "base_uri": "https://localhost:8080/"
        },
        "outputId": "026a6b0f-ffcd-4aa4-9e5c-9254013ff5f5",
        "id": "St9mWxND3OFL"
      },
      "outputs": [
        {
          "output_type": "stream",
          "name": "stdout",
          "text": [
            "3 0 0 3 3\n"
          ]
        },
        {
          "output_type": "stream",
          "name": "stderr",
          "text": [
            "/usr/local/lib/python3.10/dist-packages/numpy/core/_methods.py:190: RuntimeWarning: invalid value encountered in double_scalars\n",
            "  ret = ret.dtype.type(ret / rcount)\n",
            "/usr/local/lib/python3.10/dist-packages/numpy/core/_methods.py:223: RuntimeWarning: invalid value encountered in divide\n",
            "  arrmean = um.true_divide(arrmean, div, out=arrmean, casting='unsafe',\n",
            "/usr/local/lib/python3.10/dist-packages/numpy/core/_methods.py:257: RuntimeWarning: invalid value encountered in double_scalars\n",
            "  ret = ret.dtype.type(ret / rcount)\n"
          ]
        }
      ],
      "source": [
        "print(len(correct[0]), len(incorrect[0]), len(unv_correct[0]), len(unv_incorrect[0]), len(control[0]))\n",
        "\n",
        "# Get average probability for each layer (average over stimuli)\n",
        "correct_avg = [np.mean(value) for value in correct.values()]\n",
        "incorrect_avg = [np.mean(value) for value in incorrect.values()]\n",
        "unv_correct_avg = [np.mean(value) for value in unv_correct.values()]\n",
        "unv_incorrect_avg = [np.mean(value) for value in unv_incorrect.values()]\n",
        "control_avg = [np.mean(value) for value in control.values()]\n",
        "\n",
        "from scipy.stats import sem\n",
        "\n",
        "# Get standard error\n",
        "correct_sem = [sem(value) for value in correct.values()]\n",
        "incorrect_sem = [sem(value) for value in incorrect.values()]\n",
        "unv_correct_sem = [sem(value) for value in unv_correct.values()]\n",
        "unv_incorrect_sem = [sem(value) for value in unv_incorrect.values()]\n",
        "control_sem = [sem(value) for value in control.values()]"
      ]
    },
    {
      "cell_type": "code",
      "source": [
        "plt.style.use('ggplot')\n",
        "fig = plt.figure(figsize=(14,4))\n",
        "\n",
        "gs = fig.add_gridspec(1, 2, hspace=0, wspace=0.05)\n",
        "ax1, ax2 = gs.subplots(sharex='col', sharey='row')\n",
        "\n",
        "x=range(13)\n",
        "\n",
        "ax1.errorbar(x,correct_avg,correct_sem,fmt='.-',capsize=2,elinewidth=1, markersize=9, color='#E24A33')\n",
        "#ax1.errorbar(x,incorrect_avg,incorrect_std,fmt='.-',capsize=2,elinewidth=1, markersize=9)\n",
        "ax1.errorbar(x,control_avg,control_sem,fmt='.-',capsize=2,elinewidth=1, markersize=9, color='#988ED5')\n",
        "ax1.grid(False, axis='x')\n",
        "\n",
        "#ax2.errorbar(x,unv_correct_avg,unv_correct_std,fmt='.-',capsize=2,elinewidth=1, markersize=9)\n",
        "ax2.errorbar(x,unv_incorrect_avg,unv_incorrect_sem,fmt='.-',capsize=2,elinewidth=1, markersize=9, color='#348ABD')\n",
        "ax2.errorbar(x,control_avg,control_sem,fmt='.-',capsize=2,elinewidth=1, markersize=9, color='#988ED5')\n",
        "ax2.grid(False, axis='x')\n",
        "\n",
        "ax1.set_xticks(range(13), range(13))\n",
        "ax2.set_xticks(range(13), range(13))\n",
        "\n",
        "ax1.set_ylabel('Probability for /d/')\n",
        "ax1.set_yticks([0.0, 0.2, 0.4, 0.6, 0.8, 1.0])\n",
        "\n",
        "ax1.set_xlabel('Transformer Layer')\n",
        "ax2.set_xlabel('Transformer Layer')\n",
        "\n",
        "ax1.set_title('Viable Context')\n",
        "ax2.set_title('Unviable Context')\n",
        "\n",
        "from matplotlib.lines import Line2D\n",
        "from matplotlib.patches import Patch\n",
        "\n",
        "legend_elements = [Line2D([0], [0], marker='.', color='#E24A33', lw=2, markersize=9),\n",
        "                   Line2D([0], [0], marker='.', color='#348ABD', lw=2, markersize=9),\n",
        "                   Line2D([0], [0], marker='.', color='#988ED5', lw=2, markersize=9)]\n",
        "\n",
        "plt.legend(handles=legend_elements, labels=[r'Compensation: [g] $\\rightarrow$ <d>', r'No Compensation: [g] $\\rightarrow$ <g>', r'Control: [d] $\\rightarrow$ <d>'], loc='lower center', bbox_to_anchor=(0, -0.35), ncol=3, fontsize=12)\n",
        "#plt.savefig('probing-d-g.pdf', dpi=300, bbox_inches='tight')"
      ],
      "metadata": {
        "outputId": "617dca1f-4833-4cf6-8e7b-86b66c4503eb",
        "colab": {
          "base_uri": "https://localhost:8080/",
          "height": 484
        },
        "id": "g5mEmYoW3OFM"
      },
      "execution_count": null,
      "outputs": [
        {
          "output_type": "execute_result",
          "data": {
            "text/plain": [
              "<matplotlib.legend.Legend at 0x7f9a0e283280>"
            ]
          },
          "metadata": {},
          "execution_count": 73
        },
        {
          "output_type": "display_data",
          "data": {
            "text/plain": [
              "<Figure size 1400x400 with 2 Axes>"
            ],
            "image/png": "[encoded data removed]"
          },
          "metadata": {}
        }
      ]
    },
    {
      "cell_type": "markdown",
      "source": [
        "#Correlation between bigram frequency & output probability"
      ],
      "metadata": {
        "id": "rOtsCYn7aSsB"
      }
    },
    {
      "cell_type": "code",
      "source": [
        "final_freqs, final_probs = [], []\n",
        "for freq, prob in zip(loose_freqs, target_probs):\n",
        "  if prob != None:\n",
        "    final_freqs.append(freq)\n",
        "    final_probs.append(prob)\n",
        "print(len(final_freqs), len(final_probs))"
      ],
      "metadata": {
        "colab": {
          "base_uri": "https://localhost:8080/"
        },
        "id": "b56S-ksqDhw6",
        "outputId": "eb7d4370-0119-4ed4-bc6e-e606a82abac1"
      },
      "execution_count": null,
      "outputs": [
        {
          "output_type": "stream",
          "name": "stdout",
          "text": [
            "96 96\n"
          ]
        }
      ]
    },
    {
      "cell_type": "code",
      "source": [
        "import scipy\n",
        "scipy.stats.spearmanr(final_freqs, final_probs)"
      ],
      "metadata": {
        "colab": {
          "base_uri": "https://localhost:8080/"
        },
        "id": "i0giAWibrD5r",
        "outputId": "645fe883-ec1c-443d-82ab-4dd78b007911"
      },
      "execution_count": null,
      "outputs": [
        {
          "output_type": "execute_result",
          "data": {
            "text/plain": [
              "SignificanceResult(statistic=0.16420907250090286, pvalue=0.10988497838779716)"
            ]
          },
          "metadata": {},
          "execution_count": 71
        }
      ]
    }
  ],
  "metadata": {
    "colab": {
      "provenance": [],
      "gpuType": "T4"
    },
    "kernelspec": {
      "display_name": "Python 3",
      "name": "python3"
    },
    "language_info": {
      "name": "python"
    },
    "accelerator": "GPU",
    "widgets": {
      "application/vnd.jupyter.widget-state+json": {
        "2e4a7a57ea744bd792e85e55880b7831": {
          "model_module": "@jupyter-widgets/controls",
          "model_name": "HBoxModel",
          "model_module_version": "1.5.0",
          "state": {
            "_dom_classes": [],
            "_model_module": "@jupyter-widgets/controls",
            "_model_module_version": "1.5.0",
            "_model_name": "HBoxModel",
            "_view_count": null,
            "_view_module": "@jupyter-widgets/controls",
            "_view_module_version": "1.5.0",
            "_view_name": "HBoxView",
            "box_style": "",
            "children": [
              "IPY_MODEL_8b7a9303af294e13bfe555e946af428d",
              "IPY_MODEL_370ce874966a4df69dbcfb0d051dac0a",
              "IPY_MODEL_c945cb37fb6641169b97875c28768c67"
            ],
            "layout": "IPY_MODEL_87b7c8cd02a74d20b4d7dca95f82c044"
          }
        },
        "8b7a9303af294e13bfe555e946af428d": {
          "model_module": "@jupyter-widgets/controls",
          "model_name": "HTMLModel",
          "model_module_version": "1.5.0",
          "state": {
            "_dom_classes": [],
            "_model_module": "@jupyter-widgets/controls",
            "_model_module_version": "1.5.0",
            "_model_name": "HTMLModel",
            "_view_count": null,
            "_view_module": "@jupyter-widgets/controls",
            "_view_module_version": "1.5.0",
            "_view_name": "HTMLView",
            "description": "",
            "description_tooltip": null,
            "layout": "IPY_MODEL_5ae53f409c28408b9b8a94fb9d56926c",
            "placeholder": "​",
            "style": "IPY_MODEL_c4d02453408f4d58a03e58b3519fde8b",
            "value": "preprocessor_config.json: 100%"
          }
        },
        "370ce874966a4df69dbcfb0d051dac0a": {
          "model_module": "@jupyter-widgets/controls",
          "model_name": "FloatProgressModel",
          "model_module_version": "1.5.0",
          "state": {
            "_dom_classes": [],
            "_model_module": "@jupyter-widgets/controls",
            "_model_module_version": "1.5.0",
            "_model_name": "FloatProgressModel",
            "_view_count": null,
            "_view_module": "@jupyter-widgets/controls",
            "_view_module_version": "1.5.0",
            "_view_name": "ProgressView",
            "bar_style": "success",
            "description": "",
            "description_tooltip": null,
            "layout": "IPY_MODEL_c387c0aa61d44b28adca24ca69ee3462",
            "max": 159,
            "min": 0,
            "orientation": "horizontal",
            "style": "IPY_MODEL_432498bf96d9408f982cfff76516e31f",
            "value": 159
          }
        },
        "c945cb37fb6641169b97875c28768c67": {
          "model_module": "@jupyter-widgets/controls",
          "model_name": "HTMLModel",
          "model_module_version": "1.5.0",
          "state": {
            "_dom_classes": [],
            "_model_module": "@jupyter-widgets/controls",
            "_model_module_version": "1.5.0",
            "_model_name": "HTMLModel",
            "_view_count": null,
            "_view_module": "@jupyter-widgets/controls",
            "_view_module_version": "1.5.0",
            "_view_name": "HTMLView",
            "description": "",
            "description_tooltip": null,
            "layout": "IPY_MODEL_ce4e6a60c92c4762b0dce90cd34d6864",
            "placeholder": "​",
            "style": "IPY_MODEL_cb09123b784443eabc9e48f880086139",
            "value": " 159/159 [00:00&lt;00:00, 3.31kB/s]"
          }
        },
        "87b7c8cd02a74d20b4d7dca95f82c044": {
          "model_module": "@jupyter-widgets/base",
          "model_name": "LayoutModel",
          "model_module_version": "1.2.0",
          "state": {
            "_model_module": "@jupyter-widgets/base",
            "_model_module_version": "1.2.0",
            "_model_name": "LayoutModel",
            "_view_count": null,
            "_view_module": "@jupyter-widgets/base",
            "_view_module_version": "1.2.0",
            "_view_name": "LayoutView",
            "align_content": null,
            "align_items": null,
            "align_self": null,
            "border": null,
            "bottom": null,
            "display": null,
            "flex": null,
            "flex_flow": null,
            "grid_area": null,
            "grid_auto_columns": null,
            "grid_auto_flow": null,
            "grid_auto_rows": null,
            "grid_column": null,
            "grid_gap": null,
            "grid_row": null,
            "grid_template_areas": null,
            "grid_template_columns": null,
            "grid_template_rows": null,
            "height": null,
            "justify_content": null,
            "justify_items": null,
            "left": null,
            "margin": null,
            "max_height": null,
            "max_width": null,
            "min_height": null,
            "min_width": null,
            "object_fit": null,
            "object_position": null,
            "order": null,
            "overflow": null,
            "overflow_x": null,
            "overflow_y": null,
            "padding": null,
            "right": null,
            "top": null,
            "visibility": null,
            "width": null
          }
        },
        "5ae53f409c28408b9b8a94fb9d56926c": {
          "model_module": "@jupyter-widgets/base",
          "model_name": "LayoutModel",
          "model_module_version": "1.2.0",
          "state": {
            "_model_module": "@jupyter-widgets/base",
            "_model_module_version": "1.2.0",
            "_model_name": "LayoutModel",
            "_view_count": null,
            "_view_module": "@jupyter-widgets/base",
            "_view_module_version": "1.2.0",
            "_view_name": "LayoutView",
            "align_content": null,
            "align_items": null,
            "align_self": null,
            "border": null,
            "bottom": null,
            "display": null,
            "flex": null,
            "flex_flow": null,
            "grid_area": null,
            "grid_auto_columns": null,
            "grid_auto_flow": null,
            "grid_auto_rows": null,
            "grid_column": null,
            "grid_gap": null,
            "grid_row": null,
            "grid_template_areas": null,
            "grid_template_columns": null,
            "grid_template_rows": null,
            "height": null,
            "justify_content": null,
            "justify_items": null,
            "left": null,
            "margin": null,
            "max_height": null,
            "max_width": null,
            "min_height": null,
            "min_width": null,
            "object_fit": null,
            "object_position": null,
            "order": null,
            "overflow": null,
            "overflow_x": null,
            "overflow_y": null,
            "padding": null,
            "right": null,
            "top": null,
            "visibility": null,
            "width": null
          }
        },
        "c4d02453408f4d58a03e58b3519fde8b": {
          "model_module": "@jupyter-widgets/controls",
          "model_name": "DescriptionStyleModel",
          "model_module_version": "1.5.0",
          "state": {
            "_model_module": "@jupyter-widgets/controls",
            "_model_module_version": "1.5.0",
            "_model_name": "DescriptionStyleModel",
            "_view_count": null,
            "_view_module": "@jupyter-widgets/base",
            "_view_module_version": "1.2.0",
            "_view_name": "StyleView",
            "description_width": ""
          }
        },
        "c387c0aa61d44b28adca24ca69ee3462": {
          "model_module": "@jupyter-widgets/base",
          "model_name": "LayoutModel",
          "model_module_version": "1.2.0",
          "state": {
            "_model_module": "@jupyter-widgets/base",
            "_model_module_version": "1.2.0",
            "_model_name": "LayoutModel",
            "_view_count": null,
            "_view_module": "@jupyter-widgets/base",
            "_view_module_version": "1.2.0",
            "_view_name": "LayoutView",
            "align_content": null,
            "align_items": null,
            "align_self": null,
            "border": null,
            "bottom": null,
            "display": null,
            "flex": null,
            "flex_flow": null,
            "grid_area": null,
            "grid_auto_columns": null,
            "grid_auto_flow": null,
            "grid_auto_rows": null,
            "grid_column": null,
            "grid_gap": null,
            "grid_row": null,
            "grid_template_areas": null,
            "grid_template_columns": null,
            "grid_template_rows": null,
            "height": null,
            "justify_content": null,
            "justify_items": null,
            "left": null,
            "margin": null,
            "max_height": null,
            "max_width": null,
            "min_height": null,
            "min_width": null,
            "object_fit": null,
            "object_position": null,
            "order": null,
            "overflow": null,
            "overflow_x": null,
            "overflow_y": null,
            "padding": null,
            "right": null,
            "top": null,
            "visibility": null,
            "width": null
          }
        },
        "432498bf96d9408f982cfff76516e31f": {
          "model_module": "@jupyter-widgets/controls",
          "model_name": "ProgressStyleModel",
          "model_module_version": "1.5.0",
          "state": {
            "_model_module": "@jupyter-widgets/controls",
            "_model_module_version": "1.5.0",
            "_model_name": "ProgressStyleModel",
            "_view_count": null,
            "_view_module": "@jupyter-widgets/base",
            "_view_module_version": "1.2.0",
            "_view_name": "StyleView",
            "bar_color": null,
            "description_width": ""
          }
        },
        "ce4e6a60c92c4762b0dce90cd34d6864": {
          "model_module": "@jupyter-widgets/base",
          "model_name": "LayoutModel",
          "model_module_version": "1.2.0",
          "state": {
            "_model_module": "@jupyter-widgets/base",
            "_model_module_version": "1.2.0",
            "_model_name": "LayoutModel",
            "_view_count": null,
            "_view_module": "@jupyter-widgets/base",
            "_view_module_version": "1.2.0",
            "_view_name": "LayoutView",
            "align_content": null,
            "align_items": null,
            "align_self": null,
            "border": null,
            "bottom": null,
            "display": null,
            "flex": null,
            "flex_flow": null,
            "grid_area": null,
            "grid_auto_columns": null,
            "grid_auto_flow": null,
            "grid_auto_rows": null,
            "grid_column": null,
            "grid_gap": null,
            "grid_row": null,
            "grid_template_areas": null,
            "grid_template_columns": null,
            "grid_template_rows": null,
            "height": null,
            "justify_content": null,
            "justify_items": null,
            "left": null,
            "margin": null,
            "max_height": null,
            "max_width": null,
            "min_height": null,
            "min_width": null,
            "object_fit": null,
            "object_position": null,
            "order": null,
            "overflow": null,
            "overflow_x": null,
            "overflow_y": null,
            "padding": null,
            "right": null,
            "top": null,
            "visibility": null,
            "width": null
          }
        },
        "cb09123b784443eabc9e48f880086139": {
          "model_module": "@jupyter-widgets/controls",
          "model_name": "DescriptionStyleModel",
          "model_module_version": "1.5.0",
          "state": {
            "_model_module": "@jupyter-widgets/controls",
            "_model_module_version": "1.5.0",
            "_model_name": "DescriptionStyleModel",
            "_view_count": null,
            "_view_module": "@jupyter-widgets/base",
            "_view_module_version": "1.2.0",
            "_view_name": "StyleView",
            "description_width": ""
          }
        },
        "393118d3966848489adcf21f37f07d43": {
          "model_module": "@jupyter-widgets/controls",
          "model_name": "HBoxModel",
          "model_module_version": "1.5.0",
          "state": {
            "_dom_classes": [],
            "_model_module": "@jupyter-widgets/controls",
            "_model_module_version": "1.5.0",
            "_model_name": "HBoxModel",
            "_view_count": null,
            "_view_module": "@jupyter-widgets/controls",
            "_view_module_version": "1.5.0",
            "_view_name": "HBoxView",
            "box_style": "",
            "children": [
              "IPY_MODEL_268434b81e1b40dcacc023a3a0dd911f",
              "IPY_MODEL_0f24ed2651ee454dbae9c0f076adb35e",
              "IPY_MODEL_e95e818b26a748c6a40b26240296c652"
            ],
            "layout": "IPY_MODEL_a05fed8ba5684c1a87474f335541c96d"
          }
        },
        "268434b81e1b40dcacc023a3a0dd911f": {
          "model_module": "@jupyter-widgets/controls",
          "model_name": "HTMLModel",
          "model_module_version": "1.5.0",
          "state": {
            "_dom_classes": [],
            "_model_module": "@jupyter-widgets/controls",
            "_model_module_version": "1.5.0",
            "_model_name": "HTMLModel",
            "_view_count": null,
            "_view_module": "@jupyter-widgets/controls",
            "_view_module_version": "1.5.0",
            "_view_name": "HTMLView",
            "description": "",
            "description_tooltip": null,
            "layout": "IPY_MODEL_7c41158267f14cd7bb008db39d1e882a",
            "placeholder": "​",
            "style": "IPY_MODEL_e61b105658734f6899a4d65eae07259a",
            "value": "tokenizer_config.json: 100%"
          }
        },
        "0f24ed2651ee454dbae9c0f076adb35e": {
          "model_module": "@jupyter-widgets/controls",
          "model_name": "FloatProgressModel",
          "model_module_version": "1.5.0",
          "state": {
            "_dom_classes": [],
            "_model_module": "@jupyter-widgets/controls",
            "_model_module_version": "1.5.0",
            "_model_name": "FloatProgressModel",
            "_view_count": null,
            "_view_module": "@jupyter-widgets/controls",
            "_view_module_version": "1.5.0",
            "_view_name": "ProgressView",
            "bar_style": "success",
            "description": "",
            "description_tooltip": null,
            "layout": "IPY_MODEL_2bdd5c85357c424795bbcbf4d8756c2b",
            "max": 163,
            "min": 0,
            "orientation": "horizontal",
            "style": "IPY_MODEL_9b138379764144daa21c65013ce6f65e",
            "value": 163
          }
        },
        "e95e818b26a748c6a40b26240296c652": {
          "model_module": "@jupyter-widgets/controls",
          "model_name": "HTMLModel",
          "model_module_version": "1.5.0",
          "state": {
            "_dom_classes": [],
            "_model_module": "@jupyter-widgets/controls",
            "_model_module_version": "1.5.0",
            "_model_name": "HTMLModel",
            "_view_count": null,
            "_view_module": "@jupyter-widgets/controls",
            "_view_module_version": "1.5.0",
            "_view_name": "HTMLView",
            "description": "",
            "description_tooltip": null,
            "layout": "IPY_MODEL_5f05370a69674d84a7076a230f54c54b",
            "placeholder": "​",
            "style": "IPY_MODEL_cdae6f9ad302460b90a7561e116f148d",
            "value": " 163/163 [00:00&lt;00:00, 5.27kB/s]"
          }
        },
        "a05fed8ba5684c1a87474f335541c96d": {
          "model_module": "@jupyter-widgets/base",
          "model_name": "LayoutModel",
          "model_module_version": "1.2.0",
          "state": {
            "_model_module": "@jupyter-widgets/base",
            "_model_module_version": "1.2.0",
            "_model_name": "LayoutModel",
            "_view_count": null,
            "_view_module": "@jupyter-widgets/base",
            "_view_module_version": "1.2.0",
            "_view_name": "LayoutView",
            "align_content": null,
            "align_items": null,
            "align_self": null,
            "border": null,
            "bottom": null,
            "display": null,
            "flex": null,
            "flex_flow": null,
            "grid_area": null,
            "grid_auto_columns": null,
            "grid_auto_flow": null,
            "grid_auto_rows": null,
            "grid_column": null,
            "grid_gap": null,
            "grid_row": null,
            "grid_template_areas": null,
            "grid_template_columns": null,
            "grid_template_rows": null,
            "height": null,
            "justify_content": null,
            "justify_items": null,
            "left": null,
            "margin": null,
            "max_height": null,
            "max_width": null,
            "min_height": null,
            "min_width": null,
            "object_fit": null,
            "object_position": null,
            "order": null,
            "overflow": null,
            "overflow_x": null,
            "overflow_y": null,
            "padding": null,
            "right": null,
            "top": null,
            "visibility": null,
            "width": null
          }
        },
        "7c41158267f14cd7bb008db39d1e882a": {
          "model_module": "@jupyter-widgets/base",
          "model_name": "LayoutModel",
          "model_module_version": "1.2.0",
          "state": {
            "_model_module": "@jupyter-widgets/base",
            "_model_module_version": "1.2.0",
            "_model_name": "LayoutModel",
            "_view_count": null,
            "_view_module": "@jupyter-widgets/base",
            "_view_module_version": "1.2.0",
            "_view_name": "LayoutView",
            "align_content": null,
            "align_items": null,
            "align_self": null,
            "border": null,
            "bottom": null,
            "display": null,
            "flex": null,
            "flex_flow": null,
            "grid_area": null,
            "grid_auto_columns": null,
            "grid_auto_flow": null,
            "grid_auto_rows": null,
            "grid_column": null,
            "grid_gap": null,
            "grid_row": null,
            "grid_template_areas": null,
            "grid_template_columns": null,
            "grid_template_rows": null,
            "height": null,
            "justify_content": null,
            "justify_items": null,
            "left": null,
            "margin": null,
            "max_height": null,
            "max_width": null,
            "min_height": null,
            "min_width": null,
            "object_fit": null,
            "object_position": null,
            "order": null,
            "overflow": null,
            "overflow_x": null,
            "overflow_y": null,
            "padding": null,
            "right": null,
            "top": null,
            "visibility": null,
            "width": null
          }
        },
        "e61b105658734f6899a4d65eae07259a": {
          "model_module": "@jupyter-widgets/controls",
          "model_name": "DescriptionStyleModel",
          "model_module_version": "1.5.0",
          "state": {
            "_model_module": "@jupyter-widgets/controls",
            "_model_module_version": "1.5.0",
            "_model_name": "DescriptionStyleModel",
            "_view_count": null,
            "_view_module": "@jupyter-widgets/base",
            "_view_module_version": "1.2.0",
            "_view_name": "StyleView",
            "description_width": ""
          }
        },
        "2bdd5c85357c424795bbcbf4d8756c2b": {
          "model_module": "@jupyter-widgets/base",
          "model_name": "LayoutModel",
          "model_module_version": "1.2.0",
          "state": {
            "_model_module": "@jupyter-widgets/base",
            "_model_module_version": "1.2.0",
            "_model_name": "LayoutModel",
            "_view_count": null,
            "_view_module": "@jupyter-widgets/base",
            "_view_module_version": "1.2.0",
            "_view_name": "LayoutView",
            "align_content": null,
            "align_items": null,
            "align_self": null,
            "border": null,
            "bottom": null,
            "display": null,
            "flex": null,
            "flex_flow": null,
            "grid_area": null,
            "grid_auto_columns": null,
            "grid_auto_flow": null,
            "grid_auto_rows": null,
            "grid_column": null,
            "grid_gap": null,
            "grid_row": null,
            "grid_template_areas": null,
            "grid_template_columns": null,
            "grid_template_rows": null,
            "height": null,
            "justify_content": null,
            "justify_items": null,
            "left": null,
            "margin": null,
            "max_height": null,
            "max_width": null,
            "min_height": null,
            "min_width": null,
            "object_fit": null,
            "object_position": null,
            "order": null,
            "overflow": null,
            "overflow_x": null,
            "overflow_y": null,
            "padding": null,
            "right": null,
            "top": null,
            "visibility": null,
            "width": null
          }
        },
        "9b138379764144daa21c65013ce6f65e": {
          "model_module": "@jupyter-widgets/controls",
          "model_name": "ProgressStyleModel",
          "model_module_version": "1.5.0",
          "state": {
            "_model_module": "@jupyter-widgets/controls",
            "_model_module_version": "1.5.0",
            "_model_name": "ProgressStyleModel",
            "_view_count": null,
            "_view_module": "@jupyter-widgets/base",
            "_view_module_version": "1.2.0",
            "_view_name": "StyleView",
            "bar_color": null,
            "description_width": ""
          }
        },
        "5f05370a69674d84a7076a230f54c54b": {
          "model_module": "@jupyter-widgets/base",
          "model_name": "LayoutModel",
          "model_module_version": "1.2.0",
          "state": {
            "_model_module": "@jupyter-widgets/base",
            "_model_module_version": "1.2.0",
            "_model_name": "LayoutModel",
            "_view_count": null,
            "_view_module": "@jupyter-widgets/base",
            "_view_module_version": "1.2.0",
            "_view_name": "LayoutView",
            "align_content": null,
            "align_items": null,
            "align_self": null,
            "border": null,
            "bottom": null,
            "display": null,
            "flex": null,
            "flex_flow": null,
            "grid_area": null,
            "grid_auto_columns": null,
            "grid_auto_flow": null,
            "grid_auto_rows": null,
            "grid_column": null,
            "grid_gap": null,
            "grid_row": null,
            "grid_template_areas": null,
            "grid_template_columns": null,
            "grid_template_rows": null,
            "height": null,
            "justify_content": null,
            "justify_items": null,
            "left": null,
            "margin": null,
            "max_height": null,
            "max_width": null,
            "min_height": null,
            "min_width": null,
            "object_fit": null,
            "object_position": null,
            "order": null,
            "overflow": null,
            "overflow_x": null,
            "overflow_y": null,
            "padding": null,
            "right": null,
            "top": null,
            "visibility": null,
            "width": null
          }
        },
        "cdae6f9ad302460b90a7561e116f148d": {
          "model_module": "@jupyter-widgets/controls",
          "model_name": "DescriptionStyleModel",
          "model_module_version": "1.5.0",
          "state": {
            "_model_module": "@jupyter-widgets/controls",
            "_model_module_version": "1.5.0",
            "_model_name": "DescriptionStyleModel",
            "_view_count": null,
            "_view_module": "@jupyter-widgets/base",
            "_view_module_version": "1.2.0",
            "_view_name": "StyleView",
            "description_width": ""
          }
        },
        "1fa153b949ef46998a25e426e77fb017": {
          "model_module": "@jupyter-widgets/controls",
          "model_name": "HBoxModel",
          "model_module_version": "1.5.0",
          "state": {
            "_dom_classes": [],
            "_model_module": "@jupyter-widgets/controls",
            "_model_module_version": "1.5.0",
            "_model_name": "HBoxModel",
            "_view_count": null,
            "_view_module": "@jupyter-widgets/controls",
            "_view_module_version": "1.5.0",
            "_view_name": "HBoxView",
            "box_style": "",
            "children": [
              "IPY_MODEL_c86c595bafce4df982e1e947fe919f06",
              "IPY_MODEL_36cf25de7f904b768172b552a2b70412",
              "IPY_MODEL_4ff0383b6bdb4b8e99e9599b186054bb"
            ],
            "layout": "IPY_MODEL_df714fd509af4dac80f263333bac8227"
          }
        },
        "c86c595bafce4df982e1e947fe919f06": {
          "model_module": "@jupyter-widgets/controls",
          "model_name": "HTMLModel",
          "model_module_version": "1.5.0",
          "state": {
            "_dom_classes": [],
            "_model_module": "@jupyter-widgets/controls",
            "_model_module_version": "1.5.0",
            "_model_name": "HTMLModel",
            "_view_count": null,
            "_view_module": "@jupyter-widgets/controls",
            "_view_module_version": "1.5.0",
            "_view_name": "HTMLView",
            "description": "",
            "description_tooltip": null,
            "layout": "IPY_MODEL_89b64b31dc394d27b9d0fa1432cf4eb1",
            "placeholder": "​",
            "style": "IPY_MODEL_23c6bec84b6f45bc98249e7213c2add8",
            "value": "config.json: 100%"
          }
        },
        "36cf25de7f904b768172b552a2b70412": {
          "model_module": "@jupyter-widgets/controls",
          "model_name": "FloatProgressModel",
          "model_module_version": "1.5.0",
          "state": {
            "_dom_classes": [],
            "_model_module": "@jupyter-widgets/controls",
            "_model_module_version": "1.5.0",
            "_model_name": "FloatProgressModel",
            "_view_count": null,
            "_view_module": "@jupyter-widgets/controls",
            "_view_module_version": "1.5.0",
            "_view_name": "ProgressView",
            "bar_style": "success",
            "description": "",
            "description_tooltip": null,
            "layout": "IPY_MODEL_a6613d1e330c4adba3f3633fe3c52d4c",
            "max": 1596,
            "min": 0,
            "orientation": "horizontal",
            "style": "IPY_MODEL_b8d7a9b876a6487396a86440e1c22710",
            "value": 1596
          }
        },
        "4ff0383b6bdb4b8e99e9599b186054bb": {
          "model_module": "@jupyter-widgets/controls",
          "model_name": "HTMLModel",
          "model_module_version": "1.5.0",
          "state": {
            "_dom_classes": [],
            "_model_module": "@jupyter-widgets/controls",
            "_model_module_version": "1.5.0",
            "_model_name": "HTMLModel",
            "_view_count": null,
            "_view_module": "@jupyter-widgets/controls",
            "_view_module_version": "1.5.0",
            "_view_name": "HTMLView",
            "description": "",
            "description_tooltip": null,
            "layout": "IPY_MODEL_04a687cba8de4532b452fc26d705958a",
            "placeholder": "​",
            "style": "IPY_MODEL_fca3f0690e804943b372db7d6734c6cd",
            "value": " 1.60k/1.60k [00:00&lt;00:00, 52.9kB/s]"
          }
        },
        "df714fd509af4dac80f263333bac8227": {
          "model_module": "@jupyter-widgets/base",
          "model_name": "LayoutModel",
          "model_module_version": "1.2.0",
          "state": {
            "_model_module": "@jupyter-widgets/base",
            "_model_module_version": "1.2.0",
            "_model_name": "LayoutModel",
            "_view_count": null,
            "_view_module": "@jupyter-widgets/base",
            "_view_module_version": "1.2.0",
            "_view_name": "LayoutView",
            "align_content": null,
            "align_items": null,
            "align_self": null,
            "border": null,
            "bottom": null,
            "display": null,
            "flex": null,
            "flex_flow": null,
            "grid_area": null,
            "grid_auto_columns": null,
            "grid_auto_flow": null,
            "grid_auto_rows": null,
            "grid_column": null,
            "grid_gap": null,
            "grid_row": null,
            "grid_template_areas": null,
            "grid_template_columns": null,
            "grid_template_rows": null,
            "height": null,
            "justify_content": null,
            "justify_items": null,
            "left": null,
            "margin": null,
            "max_height": null,
            "max_width": null,
            "min_height": null,
            "min_width": null,
            "object_fit": null,
            "object_position": null,
            "order": null,
            "overflow": null,
            "overflow_x": null,
            "overflow_y": null,
            "padding": null,
            "right": null,
            "top": null,
            "visibility": null,
            "width": null
          }
        },
        "89b64b31dc394d27b9d0fa1432cf4eb1": {
          "model_module": "@jupyter-widgets/base",
          "model_name": "LayoutModel",
          "model_module_version": "1.2.0",
          "state": {
            "_model_module": "@jupyter-widgets/base",
            "_model_module_version": "1.2.0",
            "_model_name": "LayoutModel",
            "_view_count": null,
            "_view_module": "@jupyter-widgets/base",
            "_view_module_version": "1.2.0",
            "_view_name": "LayoutView",
            "align_content": null,
            "align_items": null,
            "align_self": null,
            "border": null,
            "bottom": null,
            "display": null,
            "flex": null,
            "flex_flow": null,
            "grid_area": null,
            "grid_auto_columns": null,
            "grid_auto_flow": null,
            "grid_auto_rows": null,
            "grid_column": null,
            "grid_gap": null,
            "grid_row": null,
            "grid_template_areas": null,
            "grid_template_columns": null,
            "grid_template_rows": null,
            "height": null,
            "justify_content": null,
            "justify_items": null,
            "left": null,
            "margin": null,
            "max_height": null,
            "max_width": null,
            "min_height": null,
            "min_width": null,
            "object_fit": null,
            "object_position": null,
            "order": null,
            "overflow": null,
            "overflow_x": null,
            "overflow_y": null,
            "padding": null,
            "right": null,
            "top": null,
            "visibility": null,
            "width": null
          }
        },
        "23c6bec84b6f45bc98249e7213c2add8": {
          "model_module": "@jupyter-widgets/controls",
          "model_name": "DescriptionStyleModel",
          "model_module_version": "1.5.0",
          "state": {
            "_model_module": "@jupyter-widgets/controls",
            "_model_module_version": "1.5.0",
            "_model_name": "DescriptionStyleModel",
            "_view_count": null,
            "_view_module": "@jupyter-widgets/base",
            "_view_module_version": "1.2.0",
            "_view_name": "StyleView",
            "description_width": ""
          }
        },
        "a6613d1e330c4adba3f3633fe3c52d4c": {
          "model_module": "@jupyter-widgets/base",
          "model_name": "LayoutModel",
          "model_module_version": "1.2.0",
          "state": {
            "_model_module": "@jupyter-widgets/base",
            "_model_module_version": "1.2.0",
            "_model_name": "LayoutModel",
            "_view_count": null,
            "_view_module": "@jupyter-widgets/base",
            "_view_module_version": "1.2.0",
            "_view_name": "LayoutView",
            "align_content": null,
            "align_items": null,
            "align_self": null,
            "border": null,
            "bottom": null,
            "display": null,
            "flex": null,
            "flex_flow": null,
            "grid_area": null,
            "grid_auto_columns": null,
            "grid_auto_flow": null,
            "grid_auto_rows": null,
            "grid_column": null,
            "grid_gap": null,
            "grid_row": null,
            "grid_template_areas": null,
            "grid_template_columns": null,
            "grid_template_rows": null,
            "height": null,
            "justify_content": null,
            "justify_items": null,
            "left": null,
            "margin": null,
            "max_height": null,
            "max_width": null,
            "min_height": null,
            "min_width": null,
            "object_fit": null,
            "object_position": null,
            "order": null,
            "overflow": null,
            "overflow_x": null,
            "overflow_y": null,
            "padding": null,
            "right": null,
            "top": null,
            "visibility": null,
            "width": null
          }
        },
        "b8d7a9b876a6487396a86440e1c22710": {
          "model_module": "@jupyter-widgets/controls",
          "model_name": "ProgressStyleModel",
          "model_module_version": "1.5.0",
          "state": {
            "_model_module": "@jupyter-widgets/controls",
            "_model_module_version": "1.5.0",
            "_model_name": "ProgressStyleModel",
            "_view_count": null,
            "_view_module": "@jupyter-widgets/base",
            "_view_module_version": "1.2.0",
            "_view_name": "StyleView",
            "bar_color": null,
            "description_width": ""
          }
        },
        "04a687cba8de4532b452fc26d705958a": {
          "model_module": "@jupyter-widgets/base",
          "model_name": "LayoutModel",
          "model_module_version": "1.2.0",
          "state": {
            "_model_module": "@jupyter-widgets/base",
            "_model_module_version": "1.2.0",
            "_model_name": "LayoutModel",
            "_view_count": null,
            "_view_module": "@jupyter-widgets/base",
            "_view_module_version": "1.2.0",
            "_view_name": "LayoutView",
            "align_content": null,
            "align_items": null,
            "align_self": null,
            "border": null,
            "bottom": null,
            "display": null,
            "flex": null,
            "flex_flow": null,
            "grid_area": null,
            "grid_auto_columns": null,
            "grid_auto_flow": null,
            "grid_auto_rows": null,
            "grid_column": null,
            "grid_gap": null,
            "grid_row": null,
            "grid_template_areas": null,
            "grid_template_columns": null,
            "grid_template_rows": null,
            "height": null,
            "justify_content": null,
            "justify_items": null,
            "left": null,
            "margin": null,
            "max_height": null,
            "max_width": null,
            "min_height": null,
            "min_width": null,
            "object_fit": null,
            "object_position": null,
            "order": null,
            "overflow": null,
            "overflow_x": null,
            "overflow_y": null,
            "padding": null,
            "right": null,
            "top": null,
            "visibility": null,
            "width": null
          }
        },
        "fca3f0690e804943b372db7d6734c6cd": {
          "model_module": "@jupyter-widgets/controls",
          "model_name": "DescriptionStyleModel",
          "model_module_version": "1.5.0",
          "state": {
            "_model_module": "@jupyter-widgets/controls",
            "_model_module_version": "1.5.0",
            "_model_name": "DescriptionStyleModel",
            "_view_count": null,
            "_view_module": "@jupyter-widgets/base",
            "_view_module_version": "1.2.0",
            "_view_name": "StyleView",
            "description_width": ""
          }
        },
        "33e483cd56cc42c9a57cf95cdd2432c7": {
          "model_module": "@jupyter-widgets/controls",
          "model_name": "HBoxModel",
          "model_module_version": "1.5.0",
          "state": {
            "_dom_classes": [],
            "_model_module": "@jupyter-widgets/controls",
            "_model_module_version": "1.5.0",
            "_model_name": "HBoxModel",
            "_view_count": null,
            "_view_module": "@jupyter-widgets/controls",
            "_view_module_version": "1.5.0",
            "_view_name": "HBoxView",
            "box_style": "",
            "children": [
              "IPY_MODEL_b857ef6ac290487891ed25f599d2244f",
              "IPY_MODEL_7d85f1d259784949894ff791b84da57b",
              "IPY_MODEL_0357fb3da7414785bc7efc3c95a9fa20"
            ],
            "layout": "IPY_MODEL_6526f8e578824a53916b6ac51218cb64"
          }
        },
        "b857ef6ac290487891ed25f599d2244f": {
          "model_module": "@jupyter-widgets/controls",
          "model_name": "HTMLModel",
          "model_module_version": "1.5.0",
          "state": {
            "_dom_classes": [],
            "_model_module": "@jupyter-widgets/controls",
            "_model_module_version": "1.5.0",
            "_model_name": "HTMLModel",
            "_view_count": null,
            "_view_module": "@jupyter-widgets/controls",
            "_view_module_version": "1.5.0",
            "_view_name": "HTMLView",
            "description": "",
            "description_tooltip": null,
            "layout": "IPY_MODEL_e1dde3ca464a4b47b3044a0c4dc047bc",
            "placeholder": "​",
            "style": "IPY_MODEL_5ff8220305c7466aa4ba924bc64ea3a1",
            "value": "vocab.json: 100%"
          }
        },
        "7d85f1d259784949894ff791b84da57b": {
          "model_module": "@jupyter-widgets/controls",
          "model_name": "FloatProgressModel",
          "model_module_version": "1.5.0",
          "state": {
            "_dom_classes": [],
            "_model_module": "@jupyter-widgets/controls",
            "_model_module_version": "1.5.0",
            "_model_name": "FloatProgressModel",
            "_view_count": null,
            "_view_module": "@jupyter-widgets/controls",
            "_view_module_version": "1.5.0",
            "_view_name": "ProgressView",
            "bar_style": "success",
            "description": "",
            "description_tooltip": null,
            "layout": "IPY_MODEL_3059eeac59ce477aa57209efcaf159ea",
            "max": 291,
            "min": 0,
            "orientation": "horizontal",
            "style": "IPY_MODEL_13e1f66b5c10484884892013e0fee8e9",
            "value": 291
          }
        },
        "0357fb3da7414785bc7efc3c95a9fa20": {
          "model_module": "@jupyter-widgets/controls",
          "model_name": "HTMLModel",
          "model_module_version": "1.5.0",
          "state": {
            "_dom_classes": [],
            "_model_module": "@jupyter-widgets/controls",
            "_model_module_version": "1.5.0",
            "_model_name": "HTMLModel",
            "_view_count": null,
            "_view_module": "@jupyter-widgets/controls",
            "_view_module_version": "1.5.0",
            "_view_name": "HTMLView",
            "description": "",
            "description_tooltip": null,
            "layout": "IPY_MODEL_460069bec1c347b8a55c8c950734ac63",
            "placeholder": "​",
            "style": "IPY_MODEL_7762ec045dc24ad082de1ebe812ed53c",
            "value": " 291/291 [00:00&lt;00:00, 4.27kB/s]"
          }
        },
        "6526f8e578824a53916b6ac51218cb64": {
          "model_module": "@jupyter-widgets/base",
          "model_name": "LayoutModel",
          "model_module_version": "1.2.0",
          "state": {
            "_model_module": "@jupyter-widgets/base",
            "_model_module_version": "1.2.0",
            "_model_name": "LayoutModel",
            "_view_count": null,
            "_view_module": "@jupyter-widgets/base",
            "_view_module_version": "1.2.0",
            "_view_name": "LayoutView",
            "align_content": null,
            "align_items": null,
            "align_self": null,
            "border": null,
            "bottom": null,
            "display": null,
            "flex": null,
            "flex_flow": null,
            "grid_area": null,
            "grid_auto_columns": null,
            "grid_auto_flow": null,
            "grid_auto_rows": null,
            "grid_column": null,
            "grid_gap": null,
            "grid_row": null,
            "grid_template_areas": null,
            "grid_template_columns": null,
            "grid_template_rows": null,
            "height": null,
            "justify_content": null,
            "justify_items": null,
            "left": null,
            "margin": null,
            "max_height": null,
            "max_width": null,
            "min_height": null,
            "min_width": null,
            "object_fit": null,
            "object_position": null,
            "order": null,
            "overflow": null,
            "overflow_x": null,
            "overflow_y": null,
            "padding": null,
            "right": null,
            "top": null,
            "visibility": null,
            "width": null
          }
        },
        "e1dde3ca464a4b47b3044a0c4dc047bc": {
          "model_module": "@jupyter-widgets/base",
          "model_name": "LayoutModel",
          "model_module_version": "1.2.0",
          "state": {
            "_model_module": "@jupyter-widgets/base",
            "_model_module_version": "1.2.0",
            "_model_name": "LayoutModel",
            "_view_count": null,
            "_view_module": "@jupyter-widgets/base",
            "_view_module_version": "1.2.0",
            "_view_name": "LayoutView",
            "align_content": null,
            "align_items": null,
            "align_self": null,
            "border": null,
            "bottom": null,
            "display": null,
            "flex": null,
            "flex_flow": null,
            "grid_area": null,
            "grid_auto_columns": null,
            "grid_auto_flow": null,
            "grid_auto_rows": null,
            "grid_column": null,
            "grid_gap": null,
            "grid_row": null,
            "grid_template_areas": null,
            "grid_template_columns": null,
            "grid_template_rows": null,
            "height": null,
            "justify_content": null,
            "justify_items": null,
            "left": null,
            "margin": null,
            "max_height": null,
            "max_width": null,
            "min_height": null,
            "min_width": null,
            "object_fit": null,
            "object_position": null,
            "order": null,
            "overflow": null,
            "overflow_x": null,
            "overflow_y": null,
            "padding": null,
            "right": null,
            "top": null,
            "visibility": null,
            "width": null
          }
        },
        "5ff8220305c7466aa4ba924bc64ea3a1": {
          "model_module": "@jupyter-widgets/controls",
          "model_name": "DescriptionStyleModel",
          "model_module_version": "1.5.0",
          "state": {
            "_model_module": "@jupyter-widgets/controls",
            "_model_module_version": "1.5.0",
            "_model_name": "DescriptionStyleModel",
            "_view_count": null,
            "_view_module": "@jupyter-widgets/base",
            "_view_module_version": "1.2.0",
            "_view_name": "StyleView",
            "description_width": ""
          }
        },
        "3059eeac59ce477aa57209efcaf159ea": {
          "model_module": "@jupyter-widgets/base",
          "model_name": "LayoutModel",
          "model_module_version": "1.2.0",
          "state": {
            "_model_module": "@jupyter-widgets/base",
            "_model_module_version": "1.2.0",
            "_model_name": "LayoutModel",
            "_view_count": null,
            "_view_module": "@jupyter-widgets/base",
            "_view_module_version": "1.2.0",
            "_view_name": "LayoutView",
            "align_content": null,
            "align_items": null,
            "align_self": null,
            "border": null,
            "bottom": null,
            "display": null,
            "flex": null,
            "flex_flow": null,
            "grid_area": null,
            "grid_auto_columns": null,
            "grid_auto_flow": null,
            "grid_auto_rows": null,
            "grid_column": null,
            "grid_gap": null,
            "grid_row": null,
            "grid_template_areas": null,
            "grid_template_columns": null,
            "grid_template_rows": null,
            "height": null,
            "justify_content": null,
            "justify_items": null,
            "left": null,
            "margin": null,
            "max_height": null,
            "max_width": null,
            "min_height": null,
            "min_width": null,
            "object_fit": null,
            "object_position": null,
            "order": null,
            "overflow": null,
            "overflow_x": null,
            "overflow_y": null,
            "padding": null,
            "right": null,
            "top": null,
            "visibility": null,
            "width": null
          }
        },
        "13e1f66b5c10484884892013e0fee8e9": {
          "model_module": "@jupyter-widgets/controls",
          "model_name": "ProgressStyleModel",
          "model_module_version": "1.5.0",
          "state": {
            "_model_module": "@jupyter-widgets/controls",
            "_model_module_version": "1.5.0",
            "_model_name": "ProgressStyleModel",
            "_view_count": null,
            "_view_module": "@jupyter-widgets/base",
            "_view_module_version": "1.2.0",
            "_view_name": "StyleView",
            "bar_color": null,
            "description_width": ""
          }
        },
        "460069bec1c347b8a55c8c950734ac63": {
          "model_module": "@jupyter-widgets/base",
          "model_name": "LayoutModel",
          "model_module_version": "1.2.0",
          "state": {
            "_model_module": "@jupyter-widgets/base",
            "_model_module_version": "1.2.0",
            "_model_name": "LayoutModel",
            "_view_count": null,
            "_view_module": "@jupyter-widgets/base",
            "_view_module_version": "1.2.0",
            "_view_name": "LayoutView",
            "align_content": null,
            "align_items": null,
            "align_self": null,
            "border": null,
            "bottom": null,
            "display": null,
            "flex": null,
            "flex_flow": null,
            "grid_area": null,
            "grid_auto_columns": null,
            "grid_auto_flow": null,
            "grid_auto_rows": null,
            "grid_column": null,
            "grid_gap": null,
            "grid_row": null,
            "grid_template_areas": null,
            "grid_template_columns": null,
            "grid_template_rows": null,
            "height": null,
            "justify_content": null,
            "justify_items": null,
            "left": null,
            "margin": null,
            "max_height": null,
            "max_width": null,
            "min_height": null,
            "min_width": null,
            "object_fit": null,
            "object_position": null,
            "order": null,
            "overflow": null,
            "overflow_x": null,
            "overflow_y": null,
            "padding": null,
            "right": null,
            "top": null,
            "visibility": null,
            "width": null
          }
        },
        "7762ec045dc24ad082de1ebe812ed53c": {
          "model_module": "@jupyter-widgets/controls",
          "model_name": "DescriptionStyleModel",
          "model_module_version": "1.5.0",
          "state": {
            "_model_module": "@jupyter-widgets/controls",
            "_model_module_version": "1.5.0",
            "_model_name": "DescriptionStyleModel",
            "_view_count": null,
            "_view_module": "@jupyter-widgets/base",
            "_view_module_version": "1.2.0",
            "_view_name": "StyleView",
            "description_width": ""
          }
        },
        "7b598f5b96d64f23addb60ad1b55509f": {
          "model_module": "@jupyter-widgets/controls",
          "model_name": "HBoxModel",
          "model_module_version": "1.5.0",
          "state": {
            "_dom_classes": [],
            "_model_module": "@jupyter-widgets/controls",
            "_model_module_version": "1.5.0",
            "_model_name": "HBoxModel",
            "_view_count": null,
            "_view_module": "@jupyter-widgets/controls",
            "_view_module_version": "1.5.0",
            "_view_name": "HBoxView",
            "box_style": "",
            "children": [
              "IPY_MODEL_0772745dbe314648a99809194ed50f25",
              "IPY_MODEL_aba482547a6f4be5beec08c5b93d2419",
              "IPY_MODEL_31bdc34795f742f0a15f5af96d629687"
            ],
            "layout": "IPY_MODEL_68af5f5cef5248c1a8f096fc0a0b8dac"
          }
        },
        "0772745dbe314648a99809194ed50f25": {
          "model_module": "@jupyter-widgets/controls",
          "model_name": "HTMLModel",
          "model_module_version": "1.5.0",
          "state": {
            "_dom_classes": [],
            "_model_module": "@jupyter-widgets/controls",
            "_model_module_version": "1.5.0",
            "_model_name": "HTMLModel",
            "_view_count": null,
            "_view_module": "@jupyter-widgets/controls",
            "_view_module_version": "1.5.0",
            "_view_name": "HTMLView",
            "description": "",
            "description_tooltip": null,
            "layout": "IPY_MODEL_688c469380a94e44a18a73aaa70168eb",
            "placeholder": "​",
            "style": "IPY_MODEL_34a433644c0c4cab8a4eb7212e4d6d56",
            "value": "special_tokens_map.json: 100%"
          }
        },
        "aba482547a6f4be5beec08c5b93d2419": {
          "model_module": "@jupyter-widgets/controls",
          "model_name": "FloatProgressModel",
          "model_module_version": "1.5.0",
          "state": {
            "_dom_classes": [],
            "_model_module": "@jupyter-widgets/controls",
            "_model_module_version": "1.5.0",
            "_model_name": "FloatProgressModel",
            "_view_count": null,
            "_view_module": "@jupyter-widgets/controls",
            "_view_module_version": "1.5.0",
            "_view_name": "ProgressView",
            "bar_style": "success",
            "description": "",
            "description_tooltip": null,
            "layout": "IPY_MODEL_bc85ae5337a9401e86da69be62bbcab3",
            "max": 85,
            "min": 0,
            "orientation": "horizontal",
            "style": "IPY_MODEL_c5300d598bd34c6bb04be7f9df7d9321",
            "value": 85
          }
        },
        "31bdc34795f742f0a15f5af96d629687": {
          "model_module": "@jupyter-widgets/controls",
          "model_name": "HTMLModel",
          "model_module_version": "1.5.0",
          "state": {
            "_dom_classes": [],
            "_model_module": "@jupyter-widgets/controls",
            "_model_module_version": "1.5.0",
            "_model_name": "HTMLModel",
            "_view_count": null,
            "_view_module": "@jupyter-widgets/controls",
            "_view_module_version": "1.5.0",
            "_view_name": "HTMLView",
            "description": "",
            "description_tooltip": null,
            "layout": "IPY_MODEL_a57c0ca852d94d9da270f2626a58628f",
            "placeholder": "​",
            "style": "IPY_MODEL_d4b8809a6cf24279ad47cdb1020af4c7",
            "value": " 85.0/85.0 [00:00&lt;00:00, 1.97kB/s]"
          }
        },
        "68af5f5cef5248c1a8f096fc0a0b8dac": {
          "model_module": "@jupyter-widgets/base",
          "model_name": "LayoutModel",
          "model_module_version": "1.2.0",
          "state": {
            "_model_module": "@jupyter-widgets/base",
            "_model_module_version": "1.2.0",
            "_model_name": "LayoutModel",
            "_view_count": null,
            "_view_module": "@jupyter-widgets/base",
            "_view_module_version": "1.2.0",
            "_view_name": "LayoutView",
            "align_content": null,
            "align_items": null,
            "align_self": null,
            "border": null,
            "bottom": null,
            "display": null,
            "flex": null,
            "flex_flow": null,
            "grid_area": null,
            "grid_auto_columns": null,
            "grid_auto_flow": null,
            "grid_auto_rows": null,
            "grid_column": null,
            "grid_gap": null,
            "grid_row": null,
            "grid_template_areas": null,
            "grid_template_columns": null,
            "grid_template_rows": null,
            "height": null,
            "justify_content": null,
            "justify_items": null,
            "left": null,
            "margin": null,
            "max_height": null,
            "max_width": null,
            "min_height": null,
            "min_width": null,
            "object_fit": null,
            "object_position": null,
            "order": null,
            "overflow": null,
            "overflow_x": null,
            "overflow_y": null,
            "padding": null,
            "right": null,
            "top": null,
            "visibility": null,
            "width": null
          }
        },
        "688c469380a94e44a18a73aaa70168eb": {
          "model_module": "@jupyter-widgets/base",
          "model_name": "LayoutModel",
          "model_module_version": "1.2.0",
          "state": {
            "_model_module": "@jupyter-widgets/base",
            "_model_module_version": "1.2.0",
            "_model_name": "LayoutModel",
            "_view_count": null,
            "_view_module": "@jupyter-widgets/base",
            "_view_module_version": "1.2.0",
            "_view_name": "LayoutView",
            "align_content": null,
            "align_items": null,
            "align_self": null,
            "border": null,
            "bottom": null,
            "display": null,
            "flex": null,
            "flex_flow": null,
            "grid_area": null,
            "grid_auto_columns": null,
            "grid_auto_flow": null,
            "grid_auto_rows": null,
            "grid_column": null,
            "grid_gap": null,
            "grid_row": null,
            "grid_template_areas": null,
            "grid_template_columns": null,
            "grid_template_rows": null,
            "height": null,
            "justify_content": null,
            "justify_items": null,
            "left": null,
            "margin": null,
            "max_height": null,
            "max_width": null,
            "min_height": null,
            "min_width": null,
            "object_fit": null,
            "object_position": null,
            "order": null,
            "overflow": null,
            "overflow_x": null,
            "overflow_y": null,
            "padding": null,
            "right": null,
            "top": null,
            "visibility": null,
            "width": null
          }
        },
        "34a433644c0c4cab8a4eb7212e4d6d56": {
          "model_module": "@jupyter-widgets/controls",
          "model_name": "DescriptionStyleModel",
          "model_module_version": "1.5.0",
          "state": {
            "_model_module": "@jupyter-widgets/controls",
            "_model_module_version": "1.5.0",
            "_model_name": "DescriptionStyleModel",
            "_view_count": null,
            "_view_module": "@jupyter-widgets/base",
            "_view_module_version": "1.2.0",
            "_view_name": "StyleView",
            "description_width": ""
          }
        },
        "bc85ae5337a9401e86da69be62bbcab3": {
          "model_module": "@jupyter-widgets/base",
          "model_name": "LayoutModel",
          "model_module_version": "1.2.0",
          "state": {
            "_model_module": "@jupyter-widgets/base",
            "_model_module_version": "1.2.0",
            "_model_name": "LayoutModel",
            "_view_count": null,
            "_view_module": "@jupyter-widgets/base",
            "_view_module_version": "1.2.0",
            "_view_name": "LayoutView",
            "align_content": null,
            "align_items": null,
            "align_self": null,
            "border": null,
            "bottom": null,
            "display": null,
            "flex": null,
            "flex_flow": null,
            "grid_area": null,
            "grid_auto_columns": null,
            "grid_auto_flow": null,
            "grid_auto_rows": null,
            "grid_column": null,
            "grid_gap": null,
            "grid_row": null,
            "grid_template_areas": null,
            "grid_template_columns": null,
            "grid_template_rows": null,
            "height": null,
            "justify_content": null,
            "justify_items": null,
            "left": null,
            "margin": null,
            "max_height": null,
            "max_width": null,
            "min_height": null,
            "min_width": null,
            "object_fit": null,
            "object_position": null,
            "order": null,
            "overflow": null,
            "overflow_x": null,
            "overflow_y": null,
            "padding": null,
            "right": null,
            "top": null,
            "visibility": null,
            "width": null
          }
        },
        "c5300d598bd34c6bb04be7f9df7d9321": {
          "model_module": "@jupyter-widgets/controls",
          "model_name": "ProgressStyleModel",
          "model_module_version": "1.5.0",
          "state": {
            "_model_module": "@jupyter-widgets/controls",
            "_model_module_version": "1.5.0",
            "_model_name": "ProgressStyleModel",
            "_view_count": null,
            "_view_module": "@jupyter-widgets/base",
            "_view_module_version": "1.2.0",
            "_view_name": "StyleView",
            "bar_color": null,
            "description_width": ""
          }
        },
        "a57c0ca852d94d9da270f2626a58628f": {
          "model_module": "@jupyter-widgets/base",
          "model_name": "LayoutModel",
          "model_module_version": "1.2.0",
          "state": {
            "_model_module": "@jupyter-widgets/base",
            "_model_module_version": "1.2.0",
            "_model_name": "LayoutModel",
            "_view_count": null,
            "_view_module": "@jupyter-widgets/base",
            "_view_module_version": "1.2.0",
            "_view_name": "LayoutView",
            "align_content": null,
            "align_items": null,
            "align_self": null,
            "border": null,
            "bottom": null,
            "display": null,
            "flex": null,
            "flex_flow": null,
            "grid_area": null,
            "grid_auto_columns": null,
            "grid_auto_flow": null,
            "grid_auto_rows": null,
            "grid_column": null,
            "grid_gap": null,
            "grid_row": null,
            "grid_template_areas": null,
            "grid_template_columns": null,
            "grid_template_rows": null,
            "height": null,
            "justify_content": null,
            "justify_items": null,
            "left": null,
            "margin": null,
            "max_height": null,
            "max_width": null,
            "min_height": null,
            "min_width": null,
            "object_fit": null,
            "object_position": null,
            "order": null,
            "overflow": null,
            "overflow_x": null,
            "overflow_y": null,
            "padding": null,
            "right": null,
            "top": null,
            "visibility": null,
            "width": null
          }
        },
        "d4b8809a6cf24279ad47cdb1020af4c7": {
          "model_module": "@jupyter-widgets/controls",
          "model_name": "DescriptionStyleModel",
          "model_module_version": "1.5.0",
          "state": {
            "_model_module": "@jupyter-widgets/controls",
            "_model_module_version": "1.5.0",
            "_model_name": "DescriptionStyleModel",
            "_view_count": null,
            "_view_module": "@jupyter-widgets/base",
            "_view_module_version": "1.2.0",
            "_view_name": "StyleView",
            "description_width": ""
          }
        },
        "713c50705f084a26af01a99787685413": {
          "model_module": "@jupyter-widgets/controls",
          "model_name": "HBoxModel",
          "model_module_version": "1.5.0",
          "state": {
            "_dom_classes": [],
            "_model_module": "@jupyter-widgets/controls",
            "_model_module_version": "1.5.0",
            "_model_name": "HBoxModel",
            "_view_count": null,
            "_view_module": "@jupyter-widgets/controls",
            "_view_module_version": "1.5.0",
            "_view_name": "HBoxView",
            "box_style": "",
            "children": [
              "IPY_MODEL_446d11e438d641e98dd940a314738708",
              "IPY_MODEL_af7e4b216ad0454bb1e75a08379bdc8f",
              "IPY_MODEL_2e8f129e241c433085c79acf296e1f19"
            ],
            "layout": "IPY_MODEL_79e10816e5b444428bb0d18427af74e6"
          }
        },
        "446d11e438d641e98dd940a314738708": {
          "model_module": "@jupyter-widgets/controls",
          "model_name": "HTMLModel",
          "model_module_version": "1.5.0",
          "state": {
            "_dom_classes": [],
            "_model_module": "@jupyter-widgets/controls",
            "_model_module_version": "1.5.0",
            "_model_name": "HTMLModel",
            "_view_count": null,
            "_view_module": "@jupyter-widgets/controls",
            "_view_module_version": "1.5.0",
            "_view_name": "HTMLView",
            "description": "",
            "description_tooltip": null,
            "layout": "IPY_MODEL_ad297425b0564c289d1084b6f7433279",
            "placeholder": "​",
            "style": "IPY_MODEL_41946e7b475e4f85ae87dd2816f5facb",
            "value": "model.safetensors: 100%"
          }
        },
        "af7e4b216ad0454bb1e75a08379bdc8f": {
          "model_module": "@jupyter-widgets/controls",
          "model_name": "FloatProgressModel",
          "model_module_version": "1.5.0",
          "state": {
            "_dom_classes": [],
            "_model_module": "@jupyter-widgets/controls",
            "_model_module_version": "1.5.0",
            "_model_name": "FloatProgressModel",
            "_view_count": null,
            "_view_module": "@jupyter-widgets/controls",
            "_view_module_version": "1.5.0",
            "_view_name": "ProgressView",
            "bar_style": "success",
            "description": "",
            "description_tooltip": null,
            "layout": "IPY_MODEL_2cb183a5ecc645ed99de27e69c201560",
            "max": 377607901,
            "min": 0,
            "orientation": "horizontal",
            "style": "IPY_MODEL_c472a6466df7463c990268b54eae9f9b",
            "value": 377607901
          }
        },
        "2e8f129e241c433085c79acf296e1f19": {
          "model_module": "@jupyter-widgets/controls",
          "model_name": "HTMLModel",
          "model_module_version": "1.5.0",
          "state": {
            "_dom_classes": [],
            "_model_module": "@jupyter-widgets/controls",
            "_model_module_version": "1.5.0",
            "_model_name": "HTMLModel",
            "_view_count": null,
            "_view_module": "@jupyter-widgets/controls",
            "_view_module_version": "1.5.0",
            "_view_name": "HTMLView",
            "description": "",
            "description_tooltip": null,
            "layout": "IPY_MODEL_393c5cbe02604db7affbed0dacaded03",
            "placeholder": "​",
            "style": "IPY_MODEL_55f435334cd74ea0b3d602d86e35bdb1",
            "value": " 378M/378M [00:02&lt;00:00, 195MB/s]"
          }
        },
        "79e10816e5b444428bb0d18427af74e6": {
          "model_module": "@jupyter-widgets/base",
          "model_name": "LayoutModel",
          "model_module_version": "1.2.0",
          "state": {
            "_model_module": "@jupyter-widgets/base",
            "_model_module_version": "1.2.0",
            "_model_name": "LayoutModel",
            "_view_count": null,
            "_view_module": "@jupyter-widgets/base",
            "_view_module_version": "1.2.0",
            "_view_name": "LayoutView",
            "align_content": null,
            "align_items": null,
            "align_self": null,
            "border": null,
            "bottom": null,
            "display": null,
            "flex": null,
            "flex_flow": null,
            "grid_area": null,
            "grid_auto_columns": null,
            "grid_auto_flow": null,
            "grid_auto_rows": null,
            "grid_column": null,
            "grid_gap": null,
            "grid_row": null,
            "grid_template_areas": null,
            "grid_template_columns": null,
            "grid_template_rows": null,
            "height": null,
            "justify_content": null,
            "justify_items": null,
            "left": null,
            "margin": null,
            "max_height": null,
            "max_width": null,
            "min_height": null,
            "min_width": null,
            "object_fit": null,
            "object_position": null,
            "order": null,
            "overflow": null,
            "overflow_x": null,
            "overflow_y": null,
            "padding": null,
            "right": null,
            "top": null,
            "visibility": null,
            "width": null
          }
        },
        "ad297425b0564c289d1084b6f7433279": {
          "model_module": "@jupyter-widgets/base",
          "model_name": "LayoutModel",
          "model_module_version": "1.2.0",
          "state": {
            "_model_module": "@jupyter-widgets/base",
            "_model_module_version": "1.2.0",
            "_model_name": "LayoutModel",
            "_view_count": null,
            "_view_module": "@jupyter-widgets/base",
            "_view_module_version": "1.2.0",
            "_view_name": "LayoutView",
            "align_content": null,
            "align_items": null,
            "align_self": null,
            "border": null,
            "bottom": null,
            "display": null,
            "flex": null,
            "flex_flow": null,
            "grid_area": null,
            "grid_auto_columns": null,
            "grid_auto_flow": null,
            "grid_auto_rows": null,
            "grid_column": null,
            "grid_gap": null,
            "grid_row": null,
            "grid_template_areas": null,
            "grid_template_columns": null,
            "grid_template_rows": null,
            "height": null,
            "justify_content": null,
            "justify_items": null,
            "left": null,
            "margin": null,
            "max_height": null,
            "max_width": null,
            "min_height": null,
            "min_width": null,
            "object_fit": null,
            "object_position": null,
            "order": null,
            "overflow": null,
            "overflow_x": null,
            "overflow_y": null,
            "padding": null,
            "right": null,
            "top": null,
            "visibility": null,
            "width": null
          }
        },
        "41946e7b475e4f85ae87dd2816f5facb": {
          "model_module": "@jupyter-widgets/controls",
          "model_name": "DescriptionStyleModel",
          "model_module_version": "1.5.0",
          "state": {
            "_model_module": "@jupyter-widgets/controls",
            "_model_module_version": "1.5.0",
            "_model_name": "DescriptionStyleModel",
            "_view_count": null,
            "_view_module": "@jupyter-widgets/base",
            "_view_module_version": "1.2.0",
            "_view_name": "StyleView",
            "description_width": ""
          }
        },
        "2cb183a5ecc645ed99de27e69c201560": {
          "model_module": "@jupyter-widgets/base",
          "model_name": "LayoutModel",
          "model_module_version": "1.2.0",
          "state": {
            "_model_module": "@jupyter-widgets/base",
            "_model_module_version": "1.2.0",
            "_model_name": "LayoutModel",
            "_view_count": null,
            "_view_module": "@jupyter-widgets/base",
            "_view_module_version": "1.2.0",
            "_view_name": "LayoutView",
            "align_content": null,
            "align_items": null,
            "align_self": null,
            "border": null,
            "bottom": null,
            "display": null,
            "flex": null,
            "flex_flow": null,
            "grid_area": null,
            "grid_auto_columns": null,
            "grid_auto_flow": null,
            "grid_auto_rows": null,
            "grid_column": null,
            "grid_gap": null,
            "grid_row": null,
            "grid_template_areas": null,
            "grid_template_columns": null,
            "grid_template_rows": null,
            "height": null,
            "justify_content": null,
            "justify_items": null,
            "left": null,
            "margin": null,
            "max_height": null,
            "max_width": null,
            "min_height": null,
            "min_width": null,
            "object_fit": null,
            "object_position": null,
            "order": null,
            "overflow": null,
            "overflow_x": null,
            "overflow_y": null,
            "padding": null,
            "right": null,
            "top": null,
            "visibility": null,
            "width": null
          }
        },
        "c472a6466df7463c990268b54eae9f9b": {
          "model_module": "@jupyter-widgets/controls",
          "model_name": "ProgressStyleModel",
          "model_module_version": "1.5.0",
          "state": {
            "_model_module": "@jupyter-widgets/controls",
            "_model_module_version": "1.5.0",
            "_model_name": "ProgressStyleModel",
            "_view_count": null,
            "_view_module": "@jupyter-widgets/base",
            "_view_module_version": "1.2.0",
            "_view_name": "StyleView",
            "bar_color": null,
            "description_width": ""
          }
        },
        "393c5cbe02604db7affbed0dacaded03": {
          "model_module": "@jupyter-widgets/base",
          "model_name": "LayoutModel",
          "model_module_version": "1.2.0",
          "state": {
            "_model_module": "@jupyter-widgets/base",
            "_model_module_version": "1.2.0",
            "_model_name": "LayoutModel",
            "_view_count": null,
            "_view_module": "@jupyter-widgets/base",
            "_view_module_version": "1.2.0",
            "_view_name": "LayoutView",
            "align_content": null,
            "align_items": null,
            "align_self": null,
            "border": null,
            "bottom": null,
            "display": null,
            "flex": null,
            "flex_flow": null,
            "grid_area": null,
            "grid_auto_columns": null,
            "grid_auto_flow": null,
            "grid_auto_rows": null,
            "grid_column": null,
            "grid_gap": null,
            "grid_row": null,
            "grid_template_areas": null,
            "grid_template_columns": null,
            "grid_template_rows": null,
            "height": null,
            "justify_content": null,
            "justify_items": null,
            "left": null,
            "margin": null,
            "max_height": null,
            "max_width": null,
            "min_height": null,
            "min_width": null,
            "object_fit": null,
            "object_position": null,
            "order": null,
            "overflow": null,
            "overflow_x": null,
            "overflow_y": null,
            "padding": null,
            "right": null,
            "top": null,
            "visibility": null,
            "width": null
          }
        },
        "55f435334cd74ea0b3d602d86e35bdb1": {
          "model_module": "@jupyter-widgets/controls",
          "model_name": "DescriptionStyleModel",
          "model_module_version": "1.5.0",
          "state": {
            "_model_module": "@jupyter-widgets/controls",
            "_model_module_version": "1.5.0",
            "_model_name": "DescriptionStyleModel",
            "_view_count": null,
            "_view_module": "@jupyter-widgets/base",
            "_view_module_version": "1.2.0",
            "_view_name": "StyleView",
            "description_width": ""
          }
        }
      }
    }
  },
  "nbformat": 4,
  "nbformat_minor": 0
}